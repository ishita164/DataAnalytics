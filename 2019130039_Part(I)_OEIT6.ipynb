{
  "nbformat": 4,
  "nbformat_minor": 0,
  "metadata": {
    "colab": {
      "name": "2019130039_Part(I)_OEIT6",
      "provenance": [],
      "collapsed_sections": [],
      "authorship_tag": "ABX9TyPZOltSSgtbQmI6CrUaMgVs",
      "include_colab_link": true
    },
    "kernelspec": {
      "name": "python3",
      "display_name": "Python 3"
    },
    "language_info": {
      "name": "python"
    }
  },
  "cells": [
    {
      "cell_type": "markdown",
      "metadata": {
        "id": "view-in-github",
        "colab_type": "text"
      },
      "source": [
        "<a href=\"https://colab.research.google.com/github/ishita164/DataAnalytics/blob/Experiments/2019130039_Part(I)_OEIT6.ipynb\" target=\"_parent\"><img src=\"https://colab.research.google.com/assets/colab-badge.svg\" alt=\"Open In Colab\"/></a>"
      ]
    },
    {
      "cell_type": "markdown",
      "source": [
        "## **ISE 1: Exploratory Data Analysis**"
      ],
      "metadata": {
        "id": "P5hziGCLkakA"
      }
    },
    {
      "cell_type": "markdown",
      "source": [
        "**Objective:**\n",
        "\n",
        "        Perform EDA such as number of data samples, number of features, number of classes, number of data samples per class, removing missing values, conversion to numbers, using seaborn library to plot different graphs."
      ],
      "metadata": {
        "id": "zns_vuSaklTH"
      }
    },
    {
      "cell_type": "markdown",
      "source": [
        "DataSet:\n",
        "\n",
        " Daily Age Group Outcomes- Daily case outcomes by age group (2/25/2022 - 4/9/2020)\n",
        "\n",
        "https://www.tn.gov/content/dam/tn/health/documents/cedep/novel-coronavirus/datasets/Public-Dataset-Daily-Age-Group-Outcomes.XLSX\n",
        "\n",
        "In this Dataset, there is data of total tests done, total cases found, totally recovered, total hospitals, and total deaths on a particular day.\n",
        "\n",
        "It contains the data from 2/26/2022 to 4/9/2020.\n"
      ],
      "metadata": {
        "id": "JLlnfTlhrbcm"
      }
    },
    {
      "cell_type": "code",
      "source": [
        ""
      ],
      "metadata": {
        "id": "Rbb_8oQZP6_k"
      },
      "execution_count": null,
      "outputs": []
    },
    {
      "cell_type": "markdown",
      "source": [
        "# **Implemenation:**"
      ],
      "metadata": {
        "id": "PuRJpzcYQV4t"
      }
    },
    {
      "cell_type": "code",
      "execution_count": 1,
      "metadata": {
        "id": "OprFM5tcWP__",
        "colab": {
          "base_uri": "https://localhost:8080/"
        },
        "outputId": "91114542-b498-45bb-f386-15ecfc238ff2"
      },
      "outputs": [
        {
          "output_type": "stream",
          "name": "stdout",
          "text": [
            "<class 'pandas.core.frame.DataFrame'>\n",
            "RangeIndex: 7173 entries, 0 to 7172\n",
            "Data columns (total 7 columns):\n",
            " #   Column                    Non-Null Count  Dtype  \n",
            "---  ------                    --------------  -----  \n",
            " 0   DATE                      7163 non-null   object \n",
            " 1   AGE_GROUP                 7173 non-null   object \n",
            " 2   TOTAL_TESTS               7173 non-null   int64  \n",
            " 3   TOTAL_CASES               7173 non-null   int64  \n",
            " 4   TOTAL_HOSP                7173 non-null   int64  \n",
            " 5   TOTAL_INACTIVE_RECOVERED  7173 non-null   int64  \n",
            " 6   TOTAL_DEATHS              6870 non-null   float64\n",
            "dtypes: float64(1), int64(4), object(2)\n",
            "memory usage: 392.4+ KB\n"
          ]
        },
        {
          "output_type": "execute_result",
          "data": {
            "text/plain": [
              "7173"
            ]
          },
          "metadata": {},
          "execution_count": 1
        }
      ],
      "source": [
        "import pandas as pd\n",
        "import matplotlib.pyplot as mp\n",
        "import seaborn as sns\n",
        "import scipy.stats as st\n",
        "from statistics import mode\n",
        "import numpy as np\n",
        "\n",
        "data = pd.read_csv('/content/Public-Dataset-Daily-Age-Group-Outcomes.csv')\n",
        "data.info()\n",
        "len(data)"
      ]
    },
    {
      "cell_type": "code",
      "source": [
        "data.head()"
      ],
      "metadata": {
        "colab": {
          "base_uri": "https://localhost:8080/",
          "height": 206
        },
        "id": "mOPSYMW3Z5rk",
        "outputId": "28da311d-7ace-43e5-f0fd-854e0dacefa9"
      },
      "execution_count": 2,
      "outputs": [
        {
          "output_type": "execute_result",
          "data": {
            "text/html": [
              "\n",
              "  <div id=\"df-a4a6d22a-9b78-4a89-abda-f70952c7da53\">\n",
              "    <div class=\"colab-df-container\">\n",
              "      <div>\n",
              "<style scoped>\n",
              "    .dataframe tbody tr th:only-of-type {\n",
              "        vertical-align: middle;\n",
              "    }\n",
              "\n",
              "    .dataframe tbody tr th {\n",
              "        vertical-align: top;\n",
              "    }\n",
              "\n",
              "    .dataframe thead th {\n",
              "        text-align: right;\n",
              "    }\n",
              "</style>\n",
              "<table border=\"1\" class=\"dataframe\">\n",
              "  <thead>\n",
              "    <tr style=\"text-align: right;\">\n",
              "      <th></th>\n",
              "      <th>DATE</th>\n",
              "      <th>AGE_GROUP</th>\n",
              "      <th>TOTAL_TESTS</th>\n",
              "      <th>TOTAL_CASES</th>\n",
              "      <th>TOTAL_HOSP</th>\n",
              "      <th>TOTAL_INACTIVE_RECOVERED</th>\n",
              "      <th>TOTAL_DEATHS</th>\n",
              "    </tr>\n",
              "  </thead>\n",
              "  <tbody>\n",
              "    <tr>\n",
              "      <th>0</th>\n",
              "      <td>2/26/2022</td>\n",
              "      <td>0-10 years</td>\n",
              "      <td>1161182</td>\n",
              "      <td>181740</td>\n",
              "      <td>406</td>\n",
              "      <td>180318</td>\n",
              "      <td>NaN</td>\n",
              "    </tr>\n",
              "    <tr>\n",
              "      <th>1</th>\n",
              "      <td>2/26/2022</td>\n",
              "      <td>11-20 years</td>\n",
              "      <td>1589753</td>\n",
              "      <td>283545</td>\n",
              "      <td>668</td>\n",
              "      <td>282225</td>\n",
              "      <td>NaN</td>\n",
              "    </tr>\n",
              "    <tr>\n",
              "      <th>2</th>\n",
              "      <td>2/26/2022</td>\n",
              "      <td>21-30 years</td>\n",
              "      <td>2210672</td>\n",
              "      <td>352201</td>\n",
              "      <td>1666</td>\n",
              "      <td>350000</td>\n",
              "      <td>NaN</td>\n",
              "    </tr>\n",
              "    <tr>\n",
              "      <th>3</th>\n",
              "      <td>2/26/2022</td>\n",
              "      <td>31-40 years</td>\n",
              "      <td>1898498</td>\n",
              "      <td>318278</td>\n",
              "      <td>3057</td>\n",
              "      <td>315884</td>\n",
              "      <td>NaN</td>\n",
              "    </tr>\n",
              "    <tr>\n",
              "      <th>4</th>\n",
              "      <td>2/26/2022</td>\n",
              "      <td>41-50 years</td>\n",
              "      <td>1651440</td>\n",
              "      <td>285337</td>\n",
              "      <td>5152</td>\n",
              "      <td>282160</td>\n",
              "      <td>NaN</td>\n",
              "    </tr>\n",
              "  </tbody>\n",
              "</table>\n",
              "</div>\n",
              "      <button class=\"colab-df-convert\" onclick=\"convertToInteractive('df-a4a6d22a-9b78-4a89-abda-f70952c7da53')\"\n",
              "              title=\"Convert this dataframe to an interactive table.\"\n",
              "              style=\"display:none;\">\n",
              "        \n",
              "  <svg xmlns=\"http://www.w3.org/2000/svg\" height=\"24px\"viewBox=\"0 0 24 24\"\n",
              "       width=\"24px\">\n",
              "    <path d=\"M0 0h24v24H0V0z\" fill=\"none\"/>\n",
              "    <path d=\"M18.56 5.44l.94 2.06.94-2.06 2.06-.94-2.06-.94-.94-2.06-.94 2.06-2.06.94zm-11 1L8.5 8.5l.94-2.06 2.06-.94-2.06-.94L8.5 2.5l-.94 2.06-2.06.94zm10 10l.94 2.06.94-2.06 2.06-.94-2.06-.94-.94-2.06-.94 2.06-2.06.94z\"/><path d=\"M17.41 7.96l-1.37-1.37c-.4-.4-.92-.59-1.43-.59-.52 0-1.04.2-1.43.59L10.3 9.45l-7.72 7.72c-.78.78-.78 2.05 0 2.83L4 21.41c.39.39.9.59 1.41.59.51 0 1.02-.2 1.41-.59l7.78-7.78 2.81-2.81c.8-.78.8-2.07 0-2.86zM5.41 20L4 18.59l7.72-7.72 1.47 1.35L5.41 20z\"/>\n",
              "  </svg>\n",
              "      </button>\n",
              "      \n",
              "  <style>\n",
              "    .colab-df-container {\n",
              "      display:flex;\n",
              "      flex-wrap:wrap;\n",
              "      gap: 12px;\n",
              "    }\n",
              "\n",
              "    .colab-df-convert {\n",
              "      background-color: #E8F0FE;\n",
              "      border: none;\n",
              "      border-radius: 50%;\n",
              "      cursor: pointer;\n",
              "      display: none;\n",
              "      fill: #1967D2;\n",
              "      height: 32px;\n",
              "      padding: 0 0 0 0;\n",
              "      width: 32px;\n",
              "    }\n",
              "\n",
              "    .colab-df-convert:hover {\n",
              "      background-color: #E2EBFA;\n",
              "      box-shadow: 0px 1px 2px rgba(60, 64, 67, 0.3), 0px 1px 3px 1px rgba(60, 64, 67, 0.15);\n",
              "      fill: #174EA6;\n",
              "    }\n",
              "\n",
              "    [theme=dark] .colab-df-convert {\n",
              "      background-color: #3B4455;\n",
              "      fill: #D2E3FC;\n",
              "    }\n",
              "\n",
              "    [theme=dark] .colab-df-convert:hover {\n",
              "      background-color: #434B5C;\n",
              "      box-shadow: 0px 1px 3px 1px rgba(0, 0, 0, 0.15);\n",
              "      filter: drop-shadow(0px 1px 2px rgba(0, 0, 0, 0.3));\n",
              "      fill: #FFFFFF;\n",
              "    }\n",
              "  </style>\n",
              "\n",
              "      <script>\n",
              "        const buttonEl =\n",
              "          document.querySelector('#df-a4a6d22a-9b78-4a89-abda-f70952c7da53 button.colab-df-convert');\n",
              "        buttonEl.style.display =\n",
              "          google.colab.kernel.accessAllowed ? 'block' : 'none';\n",
              "\n",
              "        async function convertToInteractive(key) {\n",
              "          const element = document.querySelector('#df-a4a6d22a-9b78-4a89-abda-f70952c7da53');\n",
              "          const dataTable =\n",
              "            await google.colab.kernel.invokeFunction('convertToInteractive',\n",
              "                                                     [key], {});\n",
              "          if (!dataTable) return;\n",
              "\n",
              "          const docLinkHtml = 'Like what you see? Visit the ' +\n",
              "            '<a target=\"_blank\" href=https://colab.research.google.com/notebooks/data_table.ipynb>data table notebook</a>'\n",
              "            + ' to learn more about interactive tables.';\n",
              "          element.innerHTML = '';\n",
              "          dataTable['output_type'] = 'display_data';\n",
              "          await google.colab.output.renderOutput(dataTable, element);\n",
              "          const docLink = document.createElement('div');\n",
              "          docLink.innerHTML = docLinkHtml;\n",
              "          element.appendChild(docLink);\n",
              "        }\n",
              "      </script>\n",
              "    </div>\n",
              "  </div>\n",
              "  "
            ],
            "text/plain": [
              "        DATE    AGE_GROUP  TOTAL_TESTS  TOTAL_CASES  TOTAL_HOSP  \\\n",
              "0  2/26/2022   0-10 years      1161182       181740         406   \n",
              "1  2/26/2022  11-20 years      1589753       283545         668   \n",
              "2  2/26/2022  21-30 years      2210672       352201        1666   \n",
              "3  2/26/2022  31-40 years      1898498       318278        3057   \n",
              "4  2/26/2022  41-50 years      1651440       285337        5152   \n",
              "\n",
              "   TOTAL_INACTIVE_RECOVERED  TOTAL_DEATHS  \n",
              "0                    180318           NaN  \n",
              "1                    282225           NaN  \n",
              "2                    350000           NaN  \n",
              "3                    315884           NaN  \n",
              "4                    282160           NaN  "
            ]
          },
          "metadata": {},
          "execution_count": 2
        }
      ]
    },
    {
      "cell_type": "code",
      "source": [
        "data.tail()"
      ],
      "metadata": {
        "colab": {
          "base_uri": "https://localhost:8080/",
          "height": 206
        },
        "id": "ocamgXFRimvH",
        "outputId": "b4e4e4d0-8632-428a-8b39-78af0bceb32f"
      },
      "execution_count": 3,
      "outputs": [
        {
          "output_type": "execute_result",
          "data": {
            "text/html": [
              "\n",
              "  <div id=\"df-40d27b93-a92e-4010-880d-990339c17718\">\n",
              "    <div class=\"colab-df-container\">\n",
              "      <div>\n",
              "<style scoped>\n",
              "    .dataframe tbody tr th:only-of-type {\n",
              "        vertical-align: middle;\n",
              "    }\n",
              "\n",
              "    .dataframe tbody tr th {\n",
              "        vertical-align: top;\n",
              "    }\n",
              "\n",
              "    .dataframe thead th {\n",
              "        text-align: right;\n",
              "    }\n",
              "</style>\n",
              "<table border=\"1\" class=\"dataframe\">\n",
              "  <thead>\n",
              "    <tr style=\"text-align: right;\">\n",
              "      <th></th>\n",
              "      <th>DATE</th>\n",
              "      <th>AGE_GROUP</th>\n",
              "      <th>TOTAL_TESTS</th>\n",
              "      <th>TOTAL_CASES</th>\n",
              "      <th>TOTAL_HOSP</th>\n",
              "      <th>TOTAL_INACTIVE_RECOVERED</th>\n",
              "      <th>TOTAL_DEATHS</th>\n",
              "    </tr>\n",
              "  </thead>\n",
              "  <tbody>\n",
              "    <tr>\n",
              "      <th>7168</th>\n",
              "      <td>NaN</td>\n",
              "      <td>51-60 years</td>\n",
              "      <td>0</td>\n",
              "      <td>0</td>\n",
              "      <td>0</td>\n",
              "      <td>634</td>\n",
              "      <td>NaN</td>\n",
              "    </tr>\n",
              "    <tr>\n",
              "      <th>7169</th>\n",
              "      <td>NaN</td>\n",
              "      <td>61-70 years</td>\n",
              "      <td>0</td>\n",
              "      <td>0</td>\n",
              "      <td>0</td>\n",
              "      <td>534</td>\n",
              "      <td>NaN</td>\n",
              "    </tr>\n",
              "    <tr>\n",
              "      <th>7170</th>\n",
              "      <td>NaN</td>\n",
              "      <td>71-80 years</td>\n",
              "      <td>0</td>\n",
              "      <td>0</td>\n",
              "      <td>0</td>\n",
              "      <td>374</td>\n",
              "      <td>NaN</td>\n",
              "    </tr>\n",
              "    <tr>\n",
              "      <th>7171</th>\n",
              "      <td>NaN</td>\n",
              "      <td>81+ years</td>\n",
              "      <td>0</td>\n",
              "      <td>0</td>\n",
              "      <td>0</td>\n",
              "      <td>217</td>\n",
              "      <td>NaN</td>\n",
              "    </tr>\n",
              "    <tr>\n",
              "      <th>7172</th>\n",
              "      <td>NaN</td>\n",
              "      <td>Pending</td>\n",
              "      <td>0</td>\n",
              "      <td>0</td>\n",
              "      <td>0</td>\n",
              "      <td>2</td>\n",
              "      <td>NaN</td>\n",
              "    </tr>\n",
              "  </tbody>\n",
              "</table>\n",
              "</div>\n",
              "      <button class=\"colab-df-convert\" onclick=\"convertToInteractive('df-40d27b93-a92e-4010-880d-990339c17718')\"\n",
              "              title=\"Convert this dataframe to an interactive table.\"\n",
              "              style=\"display:none;\">\n",
              "        \n",
              "  <svg xmlns=\"http://www.w3.org/2000/svg\" height=\"24px\"viewBox=\"0 0 24 24\"\n",
              "       width=\"24px\">\n",
              "    <path d=\"M0 0h24v24H0V0z\" fill=\"none\"/>\n",
              "    <path d=\"M18.56 5.44l.94 2.06.94-2.06 2.06-.94-2.06-.94-.94-2.06-.94 2.06-2.06.94zm-11 1L8.5 8.5l.94-2.06 2.06-.94-2.06-.94L8.5 2.5l-.94 2.06-2.06.94zm10 10l.94 2.06.94-2.06 2.06-.94-2.06-.94-.94-2.06-.94 2.06-2.06.94z\"/><path d=\"M17.41 7.96l-1.37-1.37c-.4-.4-.92-.59-1.43-.59-.52 0-1.04.2-1.43.59L10.3 9.45l-7.72 7.72c-.78.78-.78 2.05 0 2.83L4 21.41c.39.39.9.59 1.41.59.51 0 1.02-.2 1.41-.59l7.78-7.78 2.81-2.81c.8-.78.8-2.07 0-2.86zM5.41 20L4 18.59l7.72-7.72 1.47 1.35L5.41 20z\"/>\n",
              "  </svg>\n",
              "      </button>\n",
              "      \n",
              "  <style>\n",
              "    .colab-df-container {\n",
              "      display:flex;\n",
              "      flex-wrap:wrap;\n",
              "      gap: 12px;\n",
              "    }\n",
              "\n",
              "    .colab-df-convert {\n",
              "      background-color: #E8F0FE;\n",
              "      border: none;\n",
              "      border-radius: 50%;\n",
              "      cursor: pointer;\n",
              "      display: none;\n",
              "      fill: #1967D2;\n",
              "      height: 32px;\n",
              "      padding: 0 0 0 0;\n",
              "      width: 32px;\n",
              "    }\n",
              "\n",
              "    .colab-df-convert:hover {\n",
              "      background-color: #E2EBFA;\n",
              "      box-shadow: 0px 1px 2px rgba(60, 64, 67, 0.3), 0px 1px 3px 1px rgba(60, 64, 67, 0.15);\n",
              "      fill: #174EA6;\n",
              "    }\n",
              "\n",
              "    [theme=dark] .colab-df-convert {\n",
              "      background-color: #3B4455;\n",
              "      fill: #D2E3FC;\n",
              "    }\n",
              "\n",
              "    [theme=dark] .colab-df-convert:hover {\n",
              "      background-color: #434B5C;\n",
              "      box-shadow: 0px 1px 3px 1px rgba(0, 0, 0, 0.15);\n",
              "      filter: drop-shadow(0px 1px 2px rgba(0, 0, 0, 0.3));\n",
              "      fill: #FFFFFF;\n",
              "    }\n",
              "  </style>\n",
              "\n",
              "      <script>\n",
              "        const buttonEl =\n",
              "          document.querySelector('#df-40d27b93-a92e-4010-880d-990339c17718 button.colab-df-convert');\n",
              "        buttonEl.style.display =\n",
              "          google.colab.kernel.accessAllowed ? 'block' : 'none';\n",
              "\n",
              "        async function convertToInteractive(key) {\n",
              "          const element = document.querySelector('#df-40d27b93-a92e-4010-880d-990339c17718');\n",
              "          const dataTable =\n",
              "            await google.colab.kernel.invokeFunction('convertToInteractive',\n",
              "                                                     [key], {});\n",
              "          if (!dataTable) return;\n",
              "\n",
              "          const docLinkHtml = 'Like what you see? Visit the ' +\n",
              "            '<a target=\"_blank\" href=https://colab.research.google.com/notebooks/data_table.ipynb>data table notebook</a>'\n",
              "            + ' to learn more about interactive tables.';\n",
              "          element.innerHTML = '';\n",
              "          dataTable['output_type'] = 'display_data';\n",
              "          await google.colab.output.renderOutput(dataTable, element);\n",
              "          const docLink = document.createElement('div');\n",
              "          docLink.innerHTML = docLinkHtml;\n",
              "          element.appendChild(docLink);\n",
              "        }\n",
              "      </script>\n",
              "    </div>\n",
              "  </div>\n",
              "  "
            ],
            "text/plain": [
              "     DATE    AGE_GROUP  TOTAL_TESTS  TOTAL_CASES  TOTAL_HOSP  \\\n",
              "7168  NaN  51-60 years            0            0           0   \n",
              "7169  NaN  61-70 years            0            0           0   \n",
              "7170  NaN  71-80 years            0            0           0   \n",
              "7171  NaN    81+ years            0            0           0   \n",
              "7172  NaN      Pending            0            0           0   \n",
              "\n",
              "      TOTAL_INACTIVE_RECOVERED  TOTAL_DEATHS  \n",
              "7168                       634           NaN  \n",
              "7169                       534           NaN  \n",
              "7170                       374           NaN  \n",
              "7171                       217           NaN  \n",
              "7172                         2           NaN  "
            ]
          },
          "metadata": {},
          "execution_count": 3
        }
      ]
    },
    {
      "cell_type": "code",
      "source": [
        "data.shape"
      ],
      "metadata": {
        "colab": {
          "base_uri": "https://localhost:8080/"
        },
        "id": "5A0WH-RuaQfS",
        "outputId": "eaf0e525-dcfe-41df-db26-03f1e221d31a"
      },
      "execution_count": 4,
      "outputs": [
        {
          "output_type": "execute_result",
          "data": {
            "text/plain": [
              "(7173, 7)"
            ]
          },
          "metadata": {},
          "execution_count": 4
        }
      ]
    },
    {
      "cell_type": "markdown",
      "source": [
        "                In this dataset, there are 1949 rows and 11 columns. It was retrived using data.shape."
      ],
      "metadata": {
        "id": "C-w25r6ClaLk"
      }
    },
    {
      "cell_type": "code",
      "source": [
        "data.nunique()"
      ],
      "metadata": {
        "colab": {
          "base_uri": "https://localhost:8080/"
        },
        "id": "_DwRGIGMjP6x",
        "outputId": "29da5528-95c2-4821-e582-5c3d5161e639"
      },
      "execution_count": 5,
      "outputs": [
        {
          "output_type": "execute_result",
          "data": {
            "text/plain": [
              "DATE                         717\n",
              "AGE_GROUP                     10\n",
              "TOTAL_TESTS                 6624\n",
              "TOTAL_CASES                 6429\n",
              "TOTAL_HOSP                  3737\n",
              "TOTAL_INACTIVE_RECOVERED    6442\n",
              "TOTAL_DEATHS                2136\n",
              "dtype: int64"
            ]
          },
          "metadata": {},
          "execution_count": 5
        }
      ]
    },
    {
      "cell_type": "markdown",
      "source": [
        ".nunique() helps to find number of unique elements in the object. Like in this dataset there are 166 unique country names are present."
      ],
      "metadata": {
        "id": "_S4docr6mX-3"
      }
    },
    {
      "cell_type": "code",
      "source": [
        "data.isnull()"
      ],
      "metadata": {
        "id": "uMFjQjTMbnCU",
        "colab": {
          "base_uri": "https://localhost:8080/",
          "height": 423
        },
        "outputId": "42ad8fbf-2afa-4e11-daff-6d9ad62dfacf"
      },
      "execution_count": 6,
      "outputs": [
        {
          "output_type": "execute_result",
          "data": {
            "text/html": [
              "\n",
              "  <div id=\"df-8f7759ab-2fa6-4b79-a3d9-1a1cf9398f58\">\n",
              "    <div class=\"colab-df-container\">\n",
              "      <div>\n",
              "<style scoped>\n",
              "    .dataframe tbody tr th:only-of-type {\n",
              "        vertical-align: middle;\n",
              "    }\n",
              "\n",
              "    .dataframe tbody tr th {\n",
              "        vertical-align: top;\n",
              "    }\n",
              "\n",
              "    .dataframe thead th {\n",
              "        text-align: right;\n",
              "    }\n",
              "</style>\n",
              "<table border=\"1\" class=\"dataframe\">\n",
              "  <thead>\n",
              "    <tr style=\"text-align: right;\">\n",
              "      <th></th>\n",
              "      <th>DATE</th>\n",
              "      <th>AGE_GROUP</th>\n",
              "      <th>TOTAL_TESTS</th>\n",
              "      <th>TOTAL_CASES</th>\n",
              "      <th>TOTAL_HOSP</th>\n",
              "      <th>TOTAL_INACTIVE_RECOVERED</th>\n",
              "      <th>TOTAL_DEATHS</th>\n",
              "    </tr>\n",
              "  </thead>\n",
              "  <tbody>\n",
              "    <tr>\n",
              "      <th>0</th>\n",
              "      <td>False</td>\n",
              "      <td>False</td>\n",
              "      <td>False</td>\n",
              "      <td>False</td>\n",
              "      <td>False</td>\n",
              "      <td>False</td>\n",
              "      <td>True</td>\n",
              "    </tr>\n",
              "    <tr>\n",
              "      <th>1</th>\n",
              "      <td>False</td>\n",
              "      <td>False</td>\n",
              "      <td>False</td>\n",
              "      <td>False</td>\n",
              "      <td>False</td>\n",
              "      <td>False</td>\n",
              "      <td>True</td>\n",
              "    </tr>\n",
              "    <tr>\n",
              "      <th>2</th>\n",
              "      <td>False</td>\n",
              "      <td>False</td>\n",
              "      <td>False</td>\n",
              "      <td>False</td>\n",
              "      <td>False</td>\n",
              "      <td>False</td>\n",
              "      <td>True</td>\n",
              "    </tr>\n",
              "    <tr>\n",
              "      <th>3</th>\n",
              "      <td>False</td>\n",
              "      <td>False</td>\n",
              "      <td>False</td>\n",
              "      <td>False</td>\n",
              "      <td>False</td>\n",
              "      <td>False</td>\n",
              "      <td>True</td>\n",
              "    </tr>\n",
              "    <tr>\n",
              "      <th>4</th>\n",
              "      <td>False</td>\n",
              "      <td>False</td>\n",
              "      <td>False</td>\n",
              "      <td>False</td>\n",
              "      <td>False</td>\n",
              "      <td>False</td>\n",
              "      <td>True</td>\n",
              "    </tr>\n",
              "    <tr>\n",
              "      <th>...</th>\n",
              "      <td>...</td>\n",
              "      <td>...</td>\n",
              "      <td>...</td>\n",
              "      <td>...</td>\n",
              "      <td>...</td>\n",
              "      <td>...</td>\n",
              "      <td>...</td>\n",
              "    </tr>\n",
              "    <tr>\n",
              "      <th>7168</th>\n",
              "      <td>True</td>\n",
              "      <td>False</td>\n",
              "      <td>False</td>\n",
              "      <td>False</td>\n",
              "      <td>False</td>\n",
              "      <td>False</td>\n",
              "      <td>True</td>\n",
              "    </tr>\n",
              "    <tr>\n",
              "      <th>7169</th>\n",
              "      <td>True</td>\n",
              "      <td>False</td>\n",
              "      <td>False</td>\n",
              "      <td>False</td>\n",
              "      <td>False</td>\n",
              "      <td>False</td>\n",
              "      <td>True</td>\n",
              "    </tr>\n",
              "    <tr>\n",
              "      <th>7170</th>\n",
              "      <td>True</td>\n",
              "      <td>False</td>\n",
              "      <td>False</td>\n",
              "      <td>False</td>\n",
              "      <td>False</td>\n",
              "      <td>False</td>\n",
              "      <td>True</td>\n",
              "    </tr>\n",
              "    <tr>\n",
              "      <th>7171</th>\n",
              "      <td>True</td>\n",
              "      <td>False</td>\n",
              "      <td>False</td>\n",
              "      <td>False</td>\n",
              "      <td>False</td>\n",
              "      <td>False</td>\n",
              "      <td>True</td>\n",
              "    </tr>\n",
              "    <tr>\n",
              "      <th>7172</th>\n",
              "      <td>True</td>\n",
              "      <td>False</td>\n",
              "      <td>False</td>\n",
              "      <td>False</td>\n",
              "      <td>False</td>\n",
              "      <td>False</td>\n",
              "      <td>True</td>\n",
              "    </tr>\n",
              "  </tbody>\n",
              "</table>\n",
              "<p>7173 rows × 7 columns</p>\n",
              "</div>\n",
              "      <button class=\"colab-df-convert\" onclick=\"convertToInteractive('df-8f7759ab-2fa6-4b79-a3d9-1a1cf9398f58')\"\n",
              "              title=\"Convert this dataframe to an interactive table.\"\n",
              "              style=\"display:none;\">\n",
              "        \n",
              "  <svg xmlns=\"http://www.w3.org/2000/svg\" height=\"24px\"viewBox=\"0 0 24 24\"\n",
              "       width=\"24px\">\n",
              "    <path d=\"M0 0h24v24H0V0z\" fill=\"none\"/>\n",
              "    <path d=\"M18.56 5.44l.94 2.06.94-2.06 2.06-.94-2.06-.94-.94-2.06-.94 2.06-2.06.94zm-11 1L8.5 8.5l.94-2.06 2.06-.94-2.06-.94L8.5 2.5l-.94 2.06-2.06.94zm10 10l.94 2.06.94-2.06 2.06-.94-2.06-.94-.94-2.06-.94 2.06-2.06.94z\"/><path d=\"M17.41 7.96l-1.37-1.37c-.4-.4-.92-.59-1.43-.59-.52 0-1.04.2-1.43.59L10.3 9.45l-7.72 7.72c-.78.78-.78 2.05 0 2.83L4 21.41c.39.39.9.59 1.41.59.51 0 1.02-.2 1.41-.59l7.78-7.78 2.81-2.81c.8-.78.8-2.07 0-2.86zM5.41 20L4 18.59l7.72-7.72 1.47 1.35L5.41 20z\"/>\n",
              "  </svg>\n",
              "      </button>\n",
              "      \n",
              "  <style>\n",
              "    .colab-df-container {\n",
              "      display:flex;\n",
              "      flex-wrap:wrap;\n",
              "      gap: 12px;\n",
              "    }\n",
              "\n",
              "    .colab-df-convert {\n",
              "      background-color: #E8F0FE;\n",
              "      border: none;\n",
              "      border-radius: 50%;\n",
              "      cursor: pointer;\n",
              "      display: none;\n",
              "      fill: #1967D2;\n",
              "      height: 32px;\n",
              "      padding: 0 0 0 0;\n",
              "      width: 32px;\n",
              "    }\n",
              "\n",
              "    .colab-df-convert:hover {\n",
              "      background-color: #E2EBFA;\n",
              "      box-shadow: 0px 1px 2px rgba(60, 64, 67, 0.3), 0px 1px 3px 1px rgba(60, 64, 67, 0.15);\n",
              "      fill: #174EA6;\n",
              "    }\n",
              "\n",
              "    [theme=dark] .colab-df-convert {\n",
              "      background-color: #3B4455;\n",
              "      fill: #D2E3FC;\n",
              "    }\n",
              "\n",
              "    [theme=dark] .colab-df-convert:hover {\n",
              "      background-color: #434B5C;\n",
              "      box-shadow: 0px 1px 3px 1px rgba(0, 0, 0, 0.15);\n",
              "      filter: drop-shadow(0px 1px 2px rgba(0, 0, 0, 0.3));\n",
              "      fill: #FFFFFF;\n",
              "    }\n",
              "  </style>\n",
              "\n",
              "      <script>\n",
              "        const buttonEl =\n",
              "          document.querySelector('#df-8f7759ab-2fa6-4b79-a3d9-1a1cf9398f58 button.colab-df-convert');\n",
              "        buttonEl.style.display =\n",
              "          google.colab.kernel.accessAllowed ? 'block' : 'none';\n",
              "\n",
              "        async function convertToInteractive(key) {\n",
              "          const element = document.querySelector('#df-8f7759ab-2fa6-4b79-a3d9-1a1cf9398f58');\n",
              "          const dataTable =\n",
              "            await google.colab.kernel.invokeFunction('convertToInteractive',\n",
              "                                                     [key], {});\n",
              "          if (!dataTable) return;\n",
              "\n",
              "          const docLinkHtml = 'Like what you see? Visit the ' +\n",
              "            '<a target=\"_blank\" href=https://colab.research.google.com/notebooks/data_table.ipynb>data table notebook</a>'\n",
              "            + ' to learn more about interactive tables.';\n",
              "          element.innerHTML = '';\n",
              "          dataTable['output_type'] = 'display_data';\n",
              "          await google.colab.output.renderOutput(dataTable, element);\n",
              "          const docLink = document.createElement('div');\n",
              "          docLink.innerHTML = docLinkHtml;\n",
              "          element.appendChild(docLink);\n",
              "        }\n",
              "      </script>\n",
              "    </div>\n",
              "  </div>\n",
              "  "
            ],
            "text/plain": [
              "       DATE  AGE_GROUP  TOTAL_TESTS  TOTAL_CASES  TOTAL_HOSP  \\\n",
              "0     False      False        False        False       False   \n",
              "1     False      False        False        False       False   \n",
              "2     False      False        False        False       False   \n",
              "3     False      False        False        False       False   \n",
              "4     False      False        False        False       False   \n",
              "...     ...        ...          ...          ...         ...   \n",
              "7168   True      False        False        False       False   \n",
              "7169   True      False        False        False       False   \n",
              "7170   True      False        False        False       False   \n",
              "7171   True      False        False        False       False   \n",
              "7172   True      False        False        False       False   \n",
              "\n",
              "      TOTAL_INACTIVE_RECOVERED  TOTAL_DEATHS  \n",
              "0                        False          True  \n",
              "1                        False          True  \n",
              "2                        False          True  \n",
              "3                        False          True  \n",
              "4                        False          True  \n",
              "...                        ...           ...  \n",
              "7168                     False          True  \n",
              "7169                     False          True  \n",
              "7170                     False          True  \n",
              "7171                     False          True  \n",
              "7172                     False          True  \n",
              "\n",
              "[7173 rows x 7 columns]"
            ]
          },
          "metadata": {},
          "execution_count": 6
        }
      ]
    },
    {
      "cell_type": "code",
      "source": [
        "data.isnull().sum()"
      ],
      "metadata": {
        "id": "Up1Yk0VocEHs",
        "colab": {
          "base_uri": "https://localhost:8080/"
        },
        "outputId": "4294e17a-0e40-4808-8f47-4155a9895494"
      },
      "execution_count": 7,
      "outputs": [
        {
          "output_type": "execute_result",
          "data": {
            "text/plain": [
              "DATE                         10\n",
              "AGE_GROUP                     0\n",
              "TOTAL_TESTS                   0\n",
              "TOTAL_CASES                   0\n",
              "TOTAL_HOSP                    0\n",
              "TOTAL_INACTIVE_RECOVERED      0\n",
              "TOTAL_DEATHS                303\n",
              "dtype: int64"
            ]
          },
          "metadata": {},
          "execution_count": 7
        }
      ]
    },
    {
      "cell_type": "markdown",
      "source": [
        "          .isnull() helps to find missing values in the given series object and .notnull() helps to find existing values in the dataset"
      ],
      "metadata": {
        "id": "rDI4hPgqnNYe"
      }
    },
    {
      "cell_type": "markdown",
      "source": [
        "Removing missing values\n",
        "\n"
      ],
      "metadata": {
        "id": "ks0Ailgxtldi"
      }
    },
    {
      "cell_type": "markdown",
      "source": [
        "Dropping rows with at least 1 null value"
      ],
      "metadata": {
        "id": "kKOXqlADxeN6"
      }
    },
    {
      "cell_type": "code",
      "source": [
        "#any: if any NA values are present, drop that label\n",
        "data.dropna(how = 'any', inplace = True )"
      ],
      "metadata": {
        "id": "swGHXy1ZdaDx"
      },
      "execution_count": 8,
      "outputs": []
    },
    {
      "cell_type": "code",
      "source": [
        "data.shape"
      ],
      "metadata": {
        "id": "pLpAdjT4cCNB",
        "colab": {
          "base_uri": "https://localhost:8080/"
        },
        "outputId": "2157640e-30d1-454d-86fc-f6528d713d12"
      },
      "execution_count": 9,
      "outputs": [
        {
          "output_type": "execute_result",
          "data": {
            "text/plain": [
              "(6870, 7)"
            ]
          },
          "metadata": {},
          "execution_count": 9
        }
      ]
    },
    {
      "cell_type": "markdown",
      "source": [
        "Null values adversely affect the performance and accuracy of any machine learning algorithm. Therefore using dropna() function, remove rows and columns with Null/NaN values. "
      ],
      "metadata": {
        "id": "QYZR32-Zn_jN"
      }
    },
    {
      "cell_type": "code",
      "source": [
        "data.duplicated().sum()"
      ],
      "metadata": {
        "id": "DV4_NSt7bnpb",
        "colab": {
          "base_uri": "https://localhost:8080/"
        },
        "outputId": "59e28c1d-0836-4dd8-ebb3-e622b4eb0a7f"
      },
      "execution_count": 10,
      "outputs": [
        {
          "output_type": "execute_result",
          "data": {
            "text/plain": [
              "0"
            ]
          },
          "metadata": {},
          "execution_count": 10
        }
      ]
    },
    {
      "cell_type": "code",
      "source": [
        "data.drop_duplicates(inplace=True)"
      ],
      "metadata": {
        "id": "JsIUohYjbnr6"
      },
      "execution_count": 11,
      "outputs": []
    },
    {
      "cell_type": "code",
      "source": [
        "data.shape"
      ],
      "metadata": {
        "id": "ASQ2qfgidOST",
        "colab": {
          "base_uri": "https://localhost:8080/"
        },
        "outputId": "82de029e-b4ae-4fa9-ab08-6b29dcc5b552"
      },
      "execution_count": 12,
      "outputs": [
        {
          "output_type": "execute_result",
          "data": {
            "text/plain": [
              "(6870, 7)"
            ]
          },
          "metadata": {},
          "execution_count": 12
        }
      ]
    },
    {
      "cell_type": "code",
      "source": [
        "data.head"
      ],
      "metadata": {
        "colab": {
          "base_uri": "https://localhost:8080/"
        },
        "id": "HB91iWpdph5H",
        "outputId": "13e936f9-1f2a-427e-d03d-c245bdb87af3"
      },
      "execution_count": 13,
      "outputs": [
        {
          "output_type": "execute_result",
          "data": {
            "text/plain": [
              "<bound method NDFrame.head of            DATE    AGE_GROUP  TOTAL_TESTS  TOTAL_CASES  TOTAL_HOSP  \\\n",
              "10    2/25/2022   0-10 years      1159238       181684         406   \n",
              "11    2/25/2022  11-20 years      1588124       283474         668   \n",
              "12    2/25/2022  21-30 years      2209635       352091        1666   \n",
              "13    2/25/2022  31-40 years      1897440       318186        3057   \n",
              "14    2/25/2022  41-50 years      1650415       285237        5152   \n",
              "...         ...          ...          ...          ...         ...   \n",
              "6885   4/9/2020  51-60 years        27063          865         175   \n",
              "6886   4/9/2020  61-70 years        17733          586         190   \n",
              "6887   4/9/2020  71-80 years         8912          296         149   \n",
              "6888   4/9/2020    81+ years         5142          157         103   \n",
              "6889   4/9/2020      Pending           62            3           0   \n",
              "\n",
              "      TOTAL_INACTIVE_RECOVERED  TOTAL_DEATHS  \n",
              "10                      180148          15.0  \n",
              "11                      282091          23.0  \n",
              "12                      349792         200.0  \n",
              "13                      315660         541.0  \n",
              "14                      281960        1362.0  \n",
              "...                        ...           ...  \n",
              "6885                      1203           9.0  \n",
              "6886                       929          23.0  \n",
              "6887                       538          24.0  \n",
              "6888                       267          30.0  \n",
              "6889                         5           0.0  \n",
              "\n",
              "[6870 rows x 7 columns]>"
            ]
          },
          "metadata": {},
          "execution_count": 13
        }
      ]
    },
    {
      "cell_type": "code",
      "source": [
        "o_data=data"
      ],
      "metadata": {
        "id": "QK8BylRZkzDP"
      },
      "execution_count": 14,
      "outputs": []
    },
    {
      "cell_type": "markdown",
      "source": [
        "## **Grouping**"
      ],
      "metadata": {
        "id": "-EytACeDUVVB"
      }
    },
    {
      "cell_type": "code",
      "source": [
        "grp1 = data.groupby(['AGE_GROUP']).sum()\n",
        "grp1"
      ],
      "metadata": {
        "id": "lK2eDJ98edPi",
        "colab": {
          "base_uri": "https://localhost:8080/",
          "height": 394
        },
        "outputId": "6571e1c8-b27b-46c6-d196-e075ab419330"
      },
      "execution_count": 15,
      "outputs": [
        {
          "output_type": "execute_result",
          "data": {
            "text/html": [
              "\n",
              "  <div id=\"df-0667bd80-3554-49cd-a918-5fea08a27377\">\n",
              "    <div class=\"colab-df-container\">\n",
              "      <div>\n",
              "<style scoped>\n",
              "    .dataframe tbody tr th:only-of-type {\n",
              "        vertical-align: middle;\n",
              "    }\n",
              "\n",
              "    .dataframe tbody tr th {\n",
              "        vertical-align: top;\n",
              "    }\n",
              "\n",
              "    .dataframe thead th {\n",
              "        text-align: right;\n",
              "    }\n",
              "</style>\n",
              "<table border=\"1\" class=\"dataframe\">\n",
              "  <thead>\n",
              "    <tr style=\"text-align: right;\">\n",
              "      <th></th>\n",
              "      <th>TOTAL_TESTS</th>\n",
              "      <th>TOTAL_CASES</th>\n",
              "      <th>TOTAL_HOSP</th>\n",
              "      <th>TOTAL_INACTIVE_RECOVERED</th>\n",
              "      <th>TOTAL_DEATHS</th>\n",
              "    </tr>\n",
              "    <tr>\n",
              "      <th>AGE_GROUP</th>\n",
              "      <th></th>\n",
              "      <th></th>\n",
              "      <th></th>\n",
              "      <th></th>\n",
              "      <th></th>\n",
              "    </tr>\n",
              "  </thead>\n",
              "  <tbody>\n",
              "    <tr>\n",
              "      <th>0-10 years</th>\n",
              "      <td>330625018</td>\n",
              "      <td>34053902</td>\n",
              "      <td>121276</td>\n",
              "      <td>32613968</td>\n",
              "      <td>3634.0</td>\n",
              "    </tr>\n",
              "    <tr>\n",
              "      <th>11-20 years</th>\n",
              "      <td>576788524</td>\n",
              "      <td>68744142</td>\n",
              "      <td>237430</td>\n",
              "      <td>66409690</td>\n",
              "      <td>4549.0</td>\n",
              "    </tr>\n",
              "    <tr>\n",
              "      <th>21-30 years</th>\n",
              "      <td>899358117</td>\n",
              "      <td>90171687</td>\n",
              "      <td>629461</td>\n",
              "      <td>87218657</td>\n",
              "      <td>39621.0</td>\n",
              "    </tr>\n",
              "    <tr>\n",
              "      <th>31-40 years</th>\n",
              "      <td>771230556</td>\n",
              "      <td>78858758</td>\n",
              "      <td>1115541</td>\n",
              "      <td>76164834</td>\n",
              "      <td>104978.0</td>\n",
              "    </tr>\n",
              "    <tr>\n",
              "      <th>41-50 years</th>\n",
              "      <td>681988050</td>\n",
              "      <td>73105041</td>\n",
              "      <td>1882082</td>\n",
              "      <td>70555840</td>\n",
              "      <td>284584.0</td>\n",
              "    </tr>\n",
              "    <tr>\n",
              "      <th>51-60 years</th>\n",
              "      <td>664835306</td>\n",
              "      <td>67193063</td>\n",
              "      <td>2916204</td>\n",
              "      <td>64475897</td>\n",
              "      <td>684994.0</td>\n",
              "    </tr>\n",
              "    <tr>\n",
              "      <th>61-70 years</th>\n",
              "      <td>496157920</td>\n",
              "      <td>47287274</td>\n",
              "      <td>3667236</td>\n",
              "      <td>44595148</td>\n",
              "      <td>1300330.0</td>\n",
              "    </tr>\n",
              "    <tr>\n",
              "      <th>71-80 years</th>\n",
              "      <td>291468129</td>\n",
              "      <td>27146273</td>\n",
              "      <td>3584468</td>\n",
              "      <td>24349437</td>\n",
              "      <td>1956392.0</td>\n",
              "    </tr>\n",
              "    <tr>\n",
              "      <th>81+ years</th>\n",
              "      <td>200256314</td>\n",
              "      <td>13499730</td>\n",
              "      <td>2471804</td>\n",
              "      <td>10752748</td>\n",
              "      <td>2271689.0</td>\n",
              "    </tr>\n",
              "    <tr>\n",
              "      <th>Pending</th>\n",
              "      <td>16869272</td>\n",
              "      <td>547683</td>\n",
              "      <td>1517</td>\n",
              "      <td>546086</td>\n",
              "      <td>52.0</td>\n",
              "    </tr>\n",
              "  </tbody>\n",
              "</table>\n",
              "</div>\n",
              "      <button class=\"colab-df-convert\" onclick=\"convertToInteractive('df-0667bd80-3554-49cd-a918-5fea08a27377')\"\n",
              "              title=\"Convert this dataframe to an interactive table.\"\n",
              "              style=\"display:none;\">\n",
              "        \n",
              "  <svg xmlns=\"http://www.w3.org/2000/svg\" height=\"24px\"viewBox=\"0 0 24 24\"\n",
              "       width=\"24px\">\n",
              "    <path d=\"M0 0h24v24H0V0z\" fill=\"none\"/>\n",
              "    <path d=\"M18.56 5.44l.94 2.06.94-2.06 2.06-.94-2.06-.94-.94-2.06-.94 2.06-2.06.94zm-11 1L8.5 8.5l.94-2.06 2.06-.94-2.06-.94L8.5 2.5l-.94 2.06-2.06.94zm10 10l.94 2.06.94-2.06 2.06-.94-2.06-.94-.94-2.06-.94 2.06-2.06.94z\"/><path d=\"M17.41 7.96l-1.37-1.37c-.4-.4-.92-.59-1.43-.59-.52 0-1.04.2-1.43.59L10.3 9.45l-7.72 7.72c-.78.78-.78 2.05 0 2.83L4 21.41c.39.39.9.59 1.41.59.51 0 1.02-.2 1.41-.59l7.78-7.78 2.81-2.81c.8-.78.8-2.07 0-2.86zM5.41 20L4 18.59l7.72-7.72 1.47 1.35L5.41 20z\"/>\n",
              "  </svg>\n",
              "      </button>\n",
              "      \n",
              "  <style>\n",
              "    .colab-df-container {\n",
              "      display:flex;\n",
              "      flex-wrap:wrap;\n",
              "      gap: 12px;\n",
              "    }\n",
              "\n",
              "    .colab-df-convert {\n",
              "      background-color: #E8F0FE;\n",
              "      border: none;\n",
              "      border-radius: 50%;\n",
              "      cursor: pointer;\n",
              "      display: none;\n",
              "      fill: #1967D2;\n",
              "      height: 32px;\n",
              "      padding: 0 0 0 0;\n",
              "      width: 32px;\n",
              "    }\n",
              "\n",
              "    .colab-df-convert:hover {\n",
              "      background-color: #E2EBFA;\n",
              "      box-shadow: 0px 1px 2px rgba(60, 64, 67, 0.3), 0px 1px 3px 1px rgba(60, 64, 67, 0.15);\n",
              "      fill: #174EA6;\n",
              "    }\n",
              "\n",
              "    [theme=dark] .colab-df-convert {\n",
              "      background-color: #3B4455;\n",
              "      fill: #D2E3FC;\n",
              "    }\n",
              "\n",
              "    [theme=dark] .colab-df-convert:hover {\n",
              "      background-color: #434B5C;\n",
              "      box-shadow: 0px 1px 3px 1px rgba(0, 0, 0, 0.15);\n",
              "      filter: drop-shadow(0px 1px 2px rgba(0, 0, 0, 0.3));\n",
              "      fill: #FFFFFF;\n",
              "    }\n",
              "  </style>\n",
              "\n",
              "      <script>\n",
              "        const buttonEl =\n",
              "          document.querySelector('#df-0667bd80-3554-49cd-a918-5fea08a27377 button.colab-df-convert');\n",
              "        buttonEl.style.display =\n",
              "          google.colab.kernel.accessAllowed ? 'block' : 'none';\n",
              "\n",
              "        async function convertToInteractive(key) {\n",
              "          const element = document.querySelector('#df-0667bd80-3554-49cd-a918-5fea08a27377');\n",
              "          const dataTable =\n",
              "            await google.colab.kernel.invokeFunction('convertToInteractive',\n",
              "                                                     [key], {});\n",
              "          if (!dataTable) return;\n",
              "\n",
              "          const docLinkHtml = 'Like what you see? Visit the ' +\n",
              "            '<a target=\"_blank\" href=https://colab.research.google.com/notebooks/data_table.ipynb>data table notebook</a>'\n",
              "            + ' to learn more about interactive tables.';\n",
              "          element.innerHTML = '';\n",
              "          dataTable['output_type'] = 'display_data';\n",
              "          await google.colab.output.renderOutput(dataTable, element);\n",
              "          const docLink = document.createElement('div');\n",
              "          docLink.innerHTML = docLinkHtml;\n",
              "          element.appendChild(docLink);\n",
              "        }\n",
              "      </script>\n",
              "    </div>\n",
              "  </div>\n",
              "  "
            ],
            "text/plain": [
              "             TOTAL_TESTS  TOTAL_CASES  TOTAL_HOSP  TOTAL_INACTIVE_RECOVERED  \\\n",
              "AGE_GROUP                                                                     \n",
              "0-10 years     330625018     34053902      121276                  32613968   \n",
              "11-20 years    576788524     68744142      237430                  66409690   \n",
              "21-30 years    899358117     90171687      629461                  87218657   \n",
              "31-40 years    771230556     78858758     1115541                  76164834   \n",
              "41-50 years    681988050     73105041     1882082                  70555840   \n",
              "51-60 years    664835306     67193063     2916204                  64475897   \n",
              "61-70 years    496157920     47287274     3667236                  44595148   \n",
              "71-80 years    291468129     27146273     3584468                  24349437   \n",
              "81+ years      200256314     13499730     2471804                  10752748   \n",
              "Pending         16869272       547683        1517                    546086   \n",
              "\n",
              "             TOTAL_DEATHS  \n",
              "AGE_GROUP                  \n",
              "0-10 years         3634.0  \n",
              "11-20 years        4549.0  \n",
              "21-30 years       39621.0  \n",
              "31-40 years      104978.0  \n",
              "41-50 years      284584.0  \n",
              "51-60 years      684994.0  \n",
              "61-70 years     1300330.0  \n",
              "71-80 years     1956392.0  \n",
              "81+ years       2271689.0  \n",
              "Pending              52.0  "
            ]
          },
          "metadata": {},
          "execution_count": 15
        }
      ]
    },
    {
      "cell_type": "markdown",
      "source": [
        "    Grouping is done to find out total tests, cases, recovered, and death in a particular age group.\n",
        "    More Cases are found in the 21-30 age group followed by the 31-40 and 41-50 age groups. \n"
      ],
      "metadata": {
        "id": "Yx3NZs2rLdrQ"
      }
    },
    {
      "cell_type": "code",
      "source": [
        "grp2 = data.groupby(['DATE','AGE_GROUP']).sum()\n",
        "grp2"
      ],
      "metadata": {
        "id": "bhmmbGR4d4kZ",
        "colab": {
          "base_uri": "https://localhost:8080/",
          "height": 455
        },
        "outputId": "86e138fc-ef62-4802-be04-b28417c862ec"
      },
      "execution_count": 16,
      "outputs": [
        {
          "output_type": "execute_result",
          "data": {
            "text/html": [
              "\n",
              "  <div id=\"df-c03069a1-0fe1-43e7-81c3-0e1b85c701ad\">\n",
              "    <div class=\"colab-df-container\">\n",
              "      <div>\n",
              "<style scoped>\n",
              "    .dataframe tbody tr th:only-of-type {\n",
              "        vertical-align: middle;\n",
              "    }\n",
              "\n",
              "    .dataframe tbody tr th {\n",
              "        vertical-align: top;\n",
              "    }\n",
              "\n",
              "    .dataframe thead th {\n",
              "        text-align: right;\n",
              "    }\n",
              "</style>\n",
              "<table border=\"1\" class=\"dataframe\">\n",
              "  <thead>\n",
              "    <tr style=\"text-align: right;\">\n",
              "      <th></th>\n",
              "      <th></th>\n",
              "      <th>TOTAL_TESTS</th>\n",
              "      <th>TOTAL_CASES</th>\n",
              "      <th>TOTAL_HOSP</th>\n",
              "      <th>TOTAL_INACTIVE_RECOVERED</th>\n",
              "      <th>TOTAL_DEATHS</th>\n",
              "    </tr>\n",
              "    <tr>\n",
              "      <th>DATE</th>\n",
              "      <th>AGE_GROUP</th>\n",
              "      <th></th>\n",
              "      <th></th>\n",
              "      <th></th>\n",
              "      <th></th>\n",
              "      <th></th>\n",
              "    </tr>\n",
              "  </thead>\n",
              "  <tbody>\n",
              "    <tr>\n",
              "      <th rowspan=\"5\" valign=\"top\">1/1/2021</th>\n",
              "      <th>0-10 years</th>\n",
              "      <td>396659</td>\n",
              "      <td>30191</td>\n",
              "      <td>138</td>\n",
              "      <td>27947</td>\n",
              "      <td>4.0</td>\n",
              "    </tr>\n",
              "    <tr>\n",
              "      <th>11-20 years</th>\n",
              "      <td>831576</td>\n",
              "      <td>75575</td>\n",
              "      <td>296</td>\n",
              "      <td>70099</td>\n",
              "      <td>3.0</td>\n",
              "    </tr>\n",
              "    <tr>\n",
              "      <th>21-30 years</th>\n",
              "      <td>1344527</td>\n",
              "      <td>108561</td>\n",
              "      <td>795</td>\n",
              "      <td>98981</td>\n",
              "      <td>41.0</td>\n",
              "    </tr>\n",
              "    <tr>\n",
              "      <th>31-40 years</th>\n",
              "      <td>1134803</td>\n",
              "      <td>92580</td>\n",
              "      <td>1326</td>\n",
              "      <td>83889</td>\n",
              "      <td>71.0</td>\n",
              "    </tr>\n",
              "    <tr>\n",
              "      <th>41-50 years</th>\n",
              "      <td>1006346</td>\n",
              "      <td>88805</td>\n",
              "      <td>2322</td>\n",
              "      <td>80259</td>\n",
              "      <td>230.0</td>\n",
              "    </tr>\n",
              "    <tr>\n",
              "      <th>...</th>\n",
              "      <th>...</th>\n",
              "      <td>...</td>\n",
              "      <td>...</td>\n",
              "      <td>...</td>\n",
              "      <td>...</td>\n",
              "      <td>...</td>\n",
              "    </tr>\n",
              "    <tr>\n",
              "      <th rowspan=\"5\" valign=\"top\">9/9/2021</th>\n",
              "      <th>51-60 years</th>\n",
              "      <td>1229057</td>\n",
              "      <td>148087</td>\n",
              "      <td>6517</td>\n",
              "      <td>139811</td>\n",
              "      <td>1346.0</td>\n",
              "    </tr>\n",
              "    <tr>\n",
              "      <th>61-70 years</th>\n",
              "      <td>918395</td>\n",
              "      <td>103888</td>\n",
              "      <td>8001</td>\n",
              "      <td>96553</td>\n",
              "      <td>2688.0</td>\n",
              "    </tr>\n",
              "    <tr>\n",
              "      <th>71-80 years</th>\n",
              "      <td>539694</td>\n",
              "      <td>59476</td>\n",
              "      <td>7705</td>\n",
              "      <td>52451</td>\n",
              "      <td>4148.0</td>\n",
              "    </tr>\n",
              "    <tr>\n",
              "      <th>81+ years</th>\n",
              "      <td>359974</td>\n",
              "      <td>29123</td>\n",
              "      <td>5229</td>\n",
              "      <td>22984</td>\n",
              "      <td>4843.0</td>\n",
              "    </tr>\n",
              "    <tr>\n",
              "      <th>Pending</th>\n",
              "      <td>36032</td>\n",
              "      <td>1184</td>\n",
              "      <td>3</td>\n",
              "      <td>1164</td>\n",
              "      <td>0.0</td>\n",
              "    </tr>\n",
              "  </tbody>\n",
              "</table>\n",
              "<p>6870 rows × 5 columns</p>\n",
              "</div>\n",
              "      <button class=\"colab-df-convert\" onclick=\"convertToInteractive('df-c03069a1-0fe1-43e7-81c3-0e1b85c701ad')\"\n",
              "              title=\"Convert this dataframe to an interactive table.\"\n",
              "              style=\"display:none;\">\n",
              "        \n",
              "  <svg xmlns=\"http://www.w3.org/2000/svg\" height=\"24px\"viewBox=\"0 0 24 24\"\n",
              "       width=\"24px\">\n",
              "    <path d=\"M0 0h24v24H0V0z\" fill=\"none\"/>\n",
              "    <path d=\"M18.56 5.44l.94 2.06.94-2.06 2.06-.94-2.06-.94-.94-2.06-.94 2.06-2.06.94zm-11 1L8.5 8.5l.94-2.06 2.06-.94-2.06-.94L8.5 2.5l-.94 2.06-2.06.94zm10 10l.94 2.06.94-2.06 2.06-.94-2.06-.94-.94-2.06-.94 2.06-2.06.94z\"/><path d=\"M17.41 7.96l-1.37-1.37c-.4-.4-.92-.59-1.43-.59-.52 0-1.04.2-1.43.59L10.3 9.45l-7.72 7.72c-.78.78-.78 2.05 0 2.83L4 21.41c.39.39.9.59 1.41.59.51 0 1.02-.2 1.41-.59l7.78-7.78 2.81-2.81c.8-.78.8-2.07 0-2.86zM5.41 20L4 18.59l7.72-7.72 1.47 1.35L5.41 20z\"/>\n",
              "  </svg>\n",
              "      </button>\n",
              "      \n",
              "  <style>\n",
              "    .colab-df-container {\n",
              "      display:flex;\n",
              "      flex-wrap:wrap;\n",
              "      gap: 12px;\n",
              "    }\n",
              "\n",
              "    .colab-df-convert {\n",
              "      background-color: #E8F0FE;\n",
              "      border: none;\n",
              "      border-radius: 50%;\n",
              "      cursor: pointer;\n",
              "      display: none;\n",
              "      fill: #1967D2;\n",
              "      height: 32px;\n",
              "      padding: 0 0 0 0;\n",
              "      width: 32px;\n",
              "    }\n",
              "\n",
              "    .colab-df-convert:hover {\n",
              "      background-color: #E2EBFA;\n",
              "      box-shadow: 0px 1px 2px rgba(60, 64, 67, 0.3), 0px 1px 3px 1px rgba(60, 64, 67, 0.15);\n",
              "      fill: #174EA6;\n",
              "    }\n",
              "\n",
              "    [theme=dark] .colab-df-convert {\n",
              "      background-color: #3B4455;\n",
              "      fill: #D2E3FC;\n",
              "    }\n",
              "\n",
              "    [theme=dark] .colab-df-convert:hover {\n",
              "      background-color: #434B5C;\n",
              "      box-shadow: 0px 1px 3px 1px rgba(0, 0, 0, 0.15);\n",
              "      filter: drop-shadow(0px 1px 2px rgba(0, 0, 0, 0.3));\n",
              "      fill: #FFFFFF;\n",
              "    }\n",
              "  </style>\n",
              "\n",
              "      <script>\n",
              "        const buttonEl =\n",
              "          document.querySelector('#df-c03069a1-0fe1-43e7-81c3-0e1b85c701ad button.colab-df-convert');\n",
              "        buttonEl.style.display =\n",
              "          google.colab.kernel.accessAllowed ? 'block' : 'none';\n",
              "\n",
              "        async function convertToInteractive(key) {\n",
              "          const element = document.querySelector('#df-c03069a1-0fe1-43e7-81c3-0e1b85c701ad');\n",
              "          const dataTable =\n",
              "            await google.colab.kernel.invokeFunction('convertToInteractive',\n",
              "                                                     [key], {});\n",
              "          if (!dataTable) return;\n",
              "\n",
              "          const docLinkHtml = 'Like what you see? Visit the ' +\n",
              "            '<a target=\"_blank\" href=https://colab.research.google.com/notebooks/data_table.ipynb>data table notebook</a>'\n",
              "            + ' to learn more about interactive tables.';\n",
              "          element.innerHTML = '';\n",
              "          dataTable['output_type'] = 'display_data';\n",
              "          await google.colab.output.renderOutput(dataTable, element);\n",
              "          const docLink = document.createElement('div');\n",
              "          docLink.innerHTML = docLinkHtml;\n",
              "          element.appendChild(docLink);\n",
              "        }\n",
              "      </script>\n",
              "    </div>\n",
              "  </div>\n",
              "  "
            ],
            "text/plain": [
              "                      TOTAL_TESTS  TOTAL_CASES  TOTAL_HOSP  \\\n",
              "DATE     AGE_GROUP                                           \n",
              "1/1/2021 0-10 years        396659        30191         138   \n",
              "         11-20 years       831576        75575         296   \n",
              "         21-30 years      1344527       108561         795   \n",
              "         31-40 years      1134803        92580        1326   \n",
              "         41-50 years      1006346        88805        2322   \n",
              "...                           ...          ...         ...   \n",
              "9/9/2021 51-60 years      1229057       148087        6517   \n",
              "         61-70 years       918395       103888        8001   \n",
              "         71-80 years       539694        59476        7705   \n",
              "         81+ years         359974        29123        5229   \n",
              "         Pending            36032         1184           3   \n",
              "\n",
              "                      TOTAL_INACTIVE_RECOVERED  TOTAL_DEATHS  \n",
              "DATE     AGE_GROUP                                            \n",
              "1/1/2021 0-10 years                      27947           4.0  \n",
              "         11-20 years                     70099           3.0  \n",
              "         21-30 years                     98981          41.0  \n",
              "         31-40 years                     83889          71.0  \n",
              "         41-50 years                     80259         230.0  \n",
              "...                                        ...           ...  \n",
              "9/9/2021 51-60 years                    139811        1346.0  \n",
              "         61-70 years                     96553        2688.0  \n",
              "         71-80 years                     52451        4148.0  \n",
              "         81+ years                       22984        4843.0  \n",
              "         Pending                          1164           0.0  \n",
              "\n",
              "[6870 rows x 5 columns]"
            ]
          },
          "metadata": {},
          "execution_count": 16
        }
      ]
    },
    {
      "cell_type": "code",
      "source": [
        "i=data[data[\"DATE\"]=='1/1/2022']\n",
        "data1=data[:560]\n",
        "data1.shape\n",
        "data1.tail()"
      ],
      "metadata": {
        "colab": {
          "base_uri": "https://localhost:8080/",
          "height": 206
        },
        "id": "oJ9IbbI9ZNtE",
        "outputId": "ae1fd872-1400-4c36-ed41-c782827a8c93"
      },
      "execution_count": 17,
      "outputs": [
        {
          "output_type": "execute_result",
          "data": {
            "text/html": [
              "\n",
              "  <div id=\"df-5a289315-2b54-4dcf-b067-f8225a45d828\">\n",
              "    <div class=\"colab-df-container\">\n",
              "      <div>\n",
              "<style scoped>\n",
              "    .dataframe tbody tr th:only-of-type {\n",
              "        vertical-align: middle;\n",
              "    }\n",
              "\n",
              "    .dataframe tbody tr th {\n",
              "        vertical-align: top;\n",
              "    }\n",
              "\n",
              "    .dataframe thead th {\n",
              "        text-align: right;\n",
              "    }\n",
              "</style>\n",
              "<table border=\"1\" class=\"dataframe\">\n",
              "  <thead>\n",
              "    <tr style=\"text-align: right;\">\n",
              "      <th></th>\n",
              "      <th>DATE</th>\n",
              "      <th>AGE_GROUP</th>\n",
              "      <th>TOTAL_TESTS</th>\n",
              "      <th>TOTAL_CASES</th>\n",
              "      <th>TOTAL_HOSP</th>\n",
              "      <th>TOTAL_INACTIVE_RECOVERED</th>\n",
              "      <th>TOTAL_DEATHS</th>\n",
              "    </tr>\n",
              "  </thead>\n",
              "  <tbody>\n",
              "    <tr>\n",
              "      <th>565</th>\n",
              "      <td>1/1/2022</td>\n",
              "      <td>51-60 years</td>\n",
              "      <td>1443848</td>\n",
              "      <td>187742</td>\n",
              "      <td>7893</td>\n",
              "      <td>175097</td>\n",
              "      <td>2636.0</td>\n",
              "    </tr>\n",
              "    <tr>\n",
              "      <th>566</th>\n",
              "      <td>1/1/2022</td>\n",
              "      <td>61-70 years</td>\n",
              "      <td>1089040</td>\n",
              "      <td>131397</td>\n",
              "      <td>9738</td>\n",
              "      <td>121085</td>\n",
              "      <td>4304.0</td>\n",
              "    </tr>\n",
              "    <tr>\n",
              "      <th>567</th>\n",
              "      <td>1/1/2022</td>\n",
              "      <td>71-80 years</td>\n",
              "      <td>640689</td>\n",
              "      <td>74535</td>\n",
              "      <td>9179</td>\n",
              "      <td>65896</td>\n",
              "      <td>5782.0</td>\n",
              "    </tr>\n",
              "    <tr>\n",
              "      <th>568</th>\n",
              "      <td>1/1/2022</td>\n",
              "      <td>81+ years</td>\n",
              "      <td>406732</td>\n",
              "      <td>35309</td>\n",
              "      <td>6170</td>\n",
              "      <td>27957</td>\n",
              "      <td>6274.0</td>\n",
              "    </tr>\n",
              "    <tr>\n",
              "      <th>569</th>\n",
              "      <td>1/1/2022</td>\n",
              "      <td>Pending</td>\n",
              "      <td>36724</td>\n",
              "      <td>1427</td>\n",
              "      <td>3</td>\n",
              "      <td>1414</td>\n",
              "      <td>0.0</td>\n",
              "    </tr>\n",
              "  </tbody>\n",
              "</table>\n",
              "</div>\n",
              "      <button class=\"colab-df-convert\" onclick=\"convertToInteractive('df-5a289315-2b54-4dcf-b067-f8225a45d828')\"\n",
              "              title=\"Convert this dataframe to an interactive table.\"\n",
              "              style=\"display:none;\">\n",
              "        \n",
              "  <svg xmlns=\"http://www.w3.org/2000/svg\" height=\"24px\"viewBox=\"0 0 24 24\"\n",
              "       width=\"24px\">\n",
              "    <path d=\"M0 0h24v24H0V0z\" fill=\"none\"/>\n",
              "    <path d=\"M18.56 5.44l.94 2.06.94-2.06 2.06-.94-2.06-.94-.94-2.06-.94 2.06-2.06.94zm-11 1L8.5 8.5l.94-2.06 2.06-.94-2.06-.94L8.5 2.5l-.94 2.06-2.06.94zm10 10l.94 2.06.94-2.06 2.06-.94-2.06-.94-.94-2.06-.94 2.06-2.06.94z\"/><path d=\"M17.41 7.96l-1.37-1.37c-.4-.4-.92-.59-1.43-.59-.52 0-1.04.2-1.43.59L10.3 9.45l-7.72 7.72c-.78.78-.78 2.05 0 2.83L4 21.41c.39.39.9.59 1.41.59.51 0 1.02-.2 1.41-.59l7.78-7.78 2.81-2.81c.8-.78.8-2.07 0-2.86zM5.41 20L4 18.59l7.72-7.72 1.47 1.35L5.41 20z\"/>\n",
              "  </svg>\n",
              "      </button>\n",
              "      \n",
              "  <style>\n",
              "    .colab-df-container {\n",
              "      display:flex;\n",
              "      flex-wrap:wrap;\n",
              "      gap: 12px;\n",
              "    }\n",
              "\n",
              "    .colab-df-convert {\n",
              "      background-color: #E8F0FE;\n",
              "      border: none;\n",
              "      border-radius: 50%;\n",
              "      cursor: pointer;\n",
              "      display: none;\n",
              "      fill: #1967D2;\n",
              "      height: 32px;\n",
              "      padding: 0 0 0 0;\n",
              "      width: 32px;\n",
              "    }\n",
              "\n",
              "    .colab-df-convert:hover {\n",
              "      background-color: #E2EBFA;\n",
              "      box-shadow: 0px 1px 2px rgba(60, 64, 67, 0.3), 0px 1px 3px 1px rgba(60, 64, 67, 0.15);\n",
              "      fill: #174EA6;\n",
              "    }\n",
              "\n",
              "    [theme=dark] .colab-df-convert {\n",
              "      background-color: #3B4455;\n",
              "      fill: #D2E3FC;\n",
              "    }\n",
              "\n",
              "    [theme=dark] .colab-df-convert:hover {\n",
              "      background-color: #434B5C;\n",
              "      box-shadow: 0px 1px 3px 1px rgba(0, 0, 0, 0.15);\n",
              "      filter: drop-shadow(0px 1px 2px rgba(0, 0, 0, 0.3));\n",
              "      fill: #FFFFFF;\n",
              "    }\n",
              "  </style>\n",
              "\n",
              "      <script>\n",
              "        const buttonEl =\n",
              "          document.querySelector('#df-5a289315-2b54-4dcf-b067-f8225a45d828 button.colab-df-convert');\n",
              "        buttonEl.style.display =\n",
              "          google.colab.kernel.accessAllowed ? 'block' : 'none';\n",
              "\n",
              "        async function convertToInteractive(key) {\n",
              "          const element = document.querySelector('#df-5a289315-2b54-4dcf-b067-f8225a45d828');\n",
              "          const dataTable =\n",
              "            await google.colab.kernel.invokeFunction('convertToInteractive',\n",
              "                                                     [key], {});\n",
              "          if (!dataTable) return;\n",
              "\n",
              "          const docLinkHtml = 'Like what you see? Visit the ' +\n",
              "            '<a target=\"_blank\" href=https://colab.research.google.com/notebooks/data_table.ipynb>data table notebook</a>'\n",
              "            + ' to learn more about interactive tables.';\n",
              "          element.innerHTML = '';\n",
              "          dataTable['output_type'] = 'display_data';\n",
              "          await google.colab.output.renderOutput(dataTable, element);\n",
              "          const docLink = document.createElement('div');\n",
              "          docLink.innerHTML = docLinkHtml;\n",
              "          element.appendChild(docLink);\n",
              "        }\n",
              "      </script>\n",
              "    </div>\n",
              "  </div>\n",
              "  "
            ],
            "text/plain": [
              "         DATE    AGE_GROUP  TOTAL_TESTS  TOTAL_CASES  TOTAL_HOSP  \\\n",
              "565  1/1/2022  51-60 years      1443848       187742        7893   \n",
              "566  1/1/2022  61-70 years      1089040       131397        9738   \n",
              "567  1/1/2022  71-80 years       640689        74535        9179   \n",
              "568  1/1/2022    81+ years       406732        35309        6170   \n",
              "569  1/1/2022      Pending        36724         1427           3   \n",
              "\n",
              "     TOTAL_INACTIVE_RECOVERED  TOTAL_DEATHS  \n",
              "565                    175097        2636.0  \n",
              "566                    121085        4304.0  \n",
              "567                     65896        5782.0  \n",
              "568                     27957        6274.0  \n",
              "569                      1414           0.0  "
            ]
          },
          "metadata": {},
          "execution_count": 17
        }
      ]
    },
    {
      "cell_type": "code",
      "source": [
        "grp3 = data1.groupby(['AGE_GROUP']).sum()\n",
        "grp3"
      ],
      "metadata": {
        "colab": {
          "base_uri": "https://localhost:8080/",
          "height": 394
        },
        "id": "Vp8h29NAaj5H",
        "outputId": "0fefafb5-0f0d-43cf-e57f-91b6a152705f"
      },
      "execution_count": 18,
      "outputs": [
        {
          "output_type": "execute_result",
          "data": {
            "text/html": [
              "\n",
              "  <div id=\"df-a477a908-f1da-4443-a708-66f2e720c2d5\">\n",
              "    <div class=\"colab-df-container\">\n",
              "      <div>\n",
              "<style scoped>\n",
              "    .dataframe tbody tr th:only-of-type {\n",
              "        vertical-align: middle;\n",
              "    }\n",
              "\n",
              "    .dataframe tbody tr th {\n",
              "        vertical-align: top;\n",
              "    }\n",
              "\n",
              "    .dataframe thead th {\n",
              "        text-align: right;\n",
              "    }\n",
              "</style>\n",
              "<table border=\"1\" class=\"dataframe\">\n",
              "  <thead>\n",
              "    <tr style=\"text-align: right;\">\n",
              "      <th></th>\n",
              "      <th>TOTAL_TESTS</th>\n",
              "      <th>TOTAL_CASES</th>\n",
              "      <th>TOTAL_HOSP</th>\n",
              "      <th>TOTAL_INACTIVE_RECOVERED</th>\n",
              "      <th>TOTAL_DEATHS</th>\n",
              "    </tr>\n",
              "    <tr>\n",
              "      <th>AGE_GROUP</th>\n",
              "      <th></th>\n",
              "      <th></th>\n",
              "      <th></th>\n",
              "      <th></th>\n",
              "      <th></th>\n",
              "    </tr>\n",
              "  </thead>\n",
              "  <tbody>\n",
              "    <tr>\n",
              "      <th>0-10 years</th>\n",
              "      <td>60495221</td>\n",
              "      <td>8742116</td>\n",
              "      <td>21663</td>\n",
              "      <td>8020871</td>\n",
              "      <td>624.0</td>\n",
              "    </tr>\n",
              "    <tr>\n",
              "      <th>11-20 years</th>\n",
              "      <td>84831184</td>\n",
              "      <td>14344453</td>\n",
              "      <td>36975</td>\n",
              "      <td>13503202</td>\n",
              "      <td>1192.0</td>\n",
              "    </tr>\n",
              "    <tr>\n",
              "      <th>21-30 years</th>\n",
              "      <td>119636840</td>\n",
              "      <td>17945654</td>\n",
              "      <td>92510</td>\n",
              "      <td>16796758</td>\n",
              "      <td>9989.0</td>\n",
              "    </tr>\n",
              "    <tr>\n",
              "      <th>31-40 years</th>\n",
              "      <td>102340208</td>\n",
              "      <td>16065361</td>\n",
              "      <td>169860</td>\n",
              "      <td>14996163</td>\n",
              "      <td>27975.0</td>\n",
              "    </tr>\n",
              "    <tr>\n",
              "      <th>41-50 years</th>\n",
              "      <td>88928126</td>\n",
              "      <td>14394689</td>\n",
              "      <td>286451</td>\n",
              "      <td>13418647</td>\n",
              "      <td>71117.0</td>\n",
              "    </tr>\n",
              "    <tr>\n",
              "      <th>51-60 years</th>\n",
              "      <td>85849920</td>\n",
              "      <td>13004121</td>\n",
              "      <td>454053</td>\n",
              "      <td>12041022</td>\n",
              "      <td>161331.0</td>\n",
              "    </tr>\n",
              "    <tr>\n",
              "      <th>61-70 years</th>\n",
              "      <td>64608750</td>\n",
              "      <td>8954030</td>\n",
              "      <td>566654</td>\n",
              "      <td>8166417</td>\n",
              "      <td>263328.0</td>\n",
              "    </tr>\n",
              "    <tr>\n",
              "      <th>71-80 years</th>\n",
              "      <td>37918834</td>\n",
              "      <td>4990999</td>\n",
              "      <td>540549</td>\n",
              "      <td>4367338</td>\n",
              "      <td>348090.0</td>\n",
              "    </tr>\n",
              "    <tr>\n",
              "      <th>81+ years</th>\n",
              "      <td>23764570</td>\n",
              "      <td>2324864</td>\n",
              "      <td>366685</td>\n",
              "      <td>1830535</td>\n",
              "      <td>376425.0</td>\n",
              "    </tr>\n",
              "    <tr>\n",
              "      <th>Pending</th>\n",
              "      <td>2071776</td>\n",
              "      <td>86245</td>\n",
              "      <td>168</td>\n",
              "      <td>84300</td>\n",
              "      <td>0.0</td>\n",
              "    </tr>\n",
              "  </tbody>\n",
              "</table>\n",
              "</div>\n",
              "      <button class=\"colab-df-convert\" onclick=\"convertToInteractive('df-a477a908-f1da-4443-a708-66f2e720c2d5')\"\n",
              "              title=\"Convert this dataframe to an interactive table.\"\n",
              "              style=\"display:none;\">\n",
              "        \n",
              "  <svg xmlns=\"http://www.w3.org/2000/svg\" height=\"24px\"viewBox=\"0 0 24 24\"\n",
              "       width=\"24px\">\n",
              "    <path d=\"M0 0h24v24H0V0z\" fill=\"none\"/>\n",
              "    <path d=\"M18.56 5.44l.94 2.06.94-2.06 2.06-.94-2.06-.94-.94-2.06-.94 2.06-2.06.94zm-11 1L8.5 8.5l.94-2.06 2.06-.94-2.06-.94L8.5 2.5l-.94 2.06-2.06.94zm10 10l.94 2.06.94-2.06 2.06-.94-2.06-.94-.94-2.06-.94 2.06-2.06.94z\"/><path d=\"M17.41 7.96l-1.37-1.37c-.4-.4-.92-.59-1.43-.59-.52 0-1.04.2-1.43.59L10.3 9.45l-7.72 7.72c-.78.78-.78 2.05 0 2.83L4 21.41c.39.39.9.59 1.41.59.51 0 1.02-.2 1.41-.59l7.78-7.78 2.81-2.81c.8-.78.8-2.07 0-2.86zM5.41 20L4 18.59l7.72-7.72 1.47 1.35L5.41 20z\"/>\n",
              "  </svg>\n",
              "      </button>\n",
              "      \n",
              "  <style>\n",
              "    .colab-df-container {\n",
              "      display:flex;\n",
              "      flex-wrap:wrap;\n",
              "      gap: 12px;\n",
              "    }\n",
              "\n",
              "    .colab-df-convert {\n",
              "      background-color: #E8F0FE;\n",
              "      border: none;\n",
              "      border-radius: 50%;\n",
              "      cursor: pointer;\n",
              "      display: none;\n",
              "      fill: #1967D2;\n",
              "      height: 32px;\n",
              "      padding: 0 0 0 0;\n",
              "      width: 32px;\n",
              "    }\n",
              "\n",
              "    .colab-df-convert:hover {\n",
              "      background-color: #E2EBFA;\n",
              "      box-shadow: 0px 1px 2px rgba(60, 64, 67, 0.3), 0px 1px 3px 1px rgba(60, 64, 67, 0.15);\n",
              "      fill: #174EA6;\n",
              "    }\n",
              "\n",
              "    [theme=dark] .colab-df-convert {\n",
              "      background-color: #3B4455;\n",
              "      fill: #D2E3FC;\n",
              "    }\n",
              "\n",
              "    [theme=dark] .colab-df-convert:hover {\n",
              "      background-color: #434B5C;\n",
              "      box-shadow: 0px 1px 3px 1px rgba(0, 0, 0, 0.15);\n",
              "      filter: drop-shadow(0px 1px 2px rgba(0, 0, 0, 0.3));\n",
              "      fill: #FFFFFF;\n",
              "    }\n",
              "  </style>\n",
              "\n",
              "      <script>\n",
              "        const buttonEl =\n",
              "          document.querySelector('#df-a477a908-f1da-4443-a708-66f2e720c2d5 button.colab-df-convert');\n",
              "        buttonEl.style.display =\n",
              "          google.colab.kernel.accessAllowed ? 'block' : 'none';\n",
              "\n",
              "        async function convertToInteractive(key) {\n",
              "          const element = document.querySelector('#df-a477a908-f1da-4443-a708-66f2e720c2d5');\n",
              "          const dataTable =\n",
              "            await google.colab.kernel.invokeFunction('convertToInteractive',\n",
              "                                                     [key], {});\n",
              "          if (!dataTable) return;\n",
              "\n",
              "          const docLinkHtml = 'Like what you see? Visit the ' +\n",
              "            '<a target=\"_blank\" href=https://colab.research.google.com/notebooks/data_table.ipynb>data table notebook</a>'\n",
              "            + ' to learn more about interactive tables.';\n",
              "          element.innerHTML = '';\n",
              "          dataTable['output_type'] = 'display_data';\n",
              "          await google.colab.output.renderOutput(dataTable, element);\n",
              "          const docLink = document.createElement('div');\n",
              "          docLink.innerHTML = docLinkHtml;\n",
              "          element.appendChild(docLink);\n",
              "        }\n",
              "      </script>\n",
              "    </div>\n",
              "  </div>\n",
              "  "
            ],
            "text/plain": [
              "             TOTAL_TESTS  TOTAL_CASES  TOTAL_HOSP  TOTAL_INACTIVE_RECOVERED  \\\n",
              "AGE_GROUP                                                                     \n",
              "0-10 years      60495221      8742116       21663                   8020871   \n",
              "11-20 years     84831184     14344453       36975                  13503202   \n",
              "21-30 years    119636840     17945654       92510                  16796758   \n",
              "31-40 years    102340208     16065361      169860                  14996163   \n",
              "41-50 years     88928126     14394689      286451                  13418647   \n",
              "51-60 years     85849920     13004121      454053                  12041022   \n",
              "61-70 years     64608750      8954030      566654                   8166417   \n",
              "71-80 years     37918834      4990999      540549                   4367338   \n",
              "81+ years       23764570      2324864      366685                   1830535   \n",
              "Pending          2071776        86245         168                     84300   \n",
              "\n",
              "             TOTAL_DEATHS  \n",
              "AGE_GROUP                  \n",
              "0-10 years          624.0  \n",
              "11-20 years        1192.0  \n",
              "21-30 years        9989.0  \n",
              "31-40 years       27975.0  \n",
              "41-50 years       71117.0  \n",
              "51-60 years      161331.0  \n",
              "61-70 years      263328.0  \n",
              "71-80 years      348090.0  \n",
              "81+ years        376425.0  \n",
              "Pending               0.0  "
            ]
          },
          "metadata": {},
          "execution_count": 18
        }
      ]
    },
    {
      "cell_type": "markdown",
      "source": [
        "        Grouping is done for recent data to find out total tests, cases, recovered and death in particaular age group.\n",
        "        More Cases are found in 21-30 age group followed by 31-40, 41-50 and 11-20 age group.  "
      ],
      "metadata": {
        "id": "PoP5b-J9MQIu"
      }
    },
    {
      "cell_type": "markdown",
      "source": [
        "# **summarize data**"
      ],
      "metadata": {
        "id": "4KsI7k5dUMnp"
      }
    },
    {
      "cell_type": "markdown",
      "source": [
        "The Measures of location are the mean, median, and mode. \n"
      ],
      "metadata": {
        "id": "64NCfiRbQ5dj"
      }
    },
    {
      "cell_type": "code",
      "source": [
        "print(\"Mean \\t\\t Original \\t\\t Recent\")\n",
        "print(\"TOTAL_TESTS:\",o_data['TOTAL_TESTS'].mean(),\"\\t\",data1['TOTAL_TESTS'].mean())\n",
        "print(\"TOTAL_CASES:\",data['TOTAL_CASES'].mean(),\"\\t\",data1['TOTAL_CASES'].mean())\n",
        "print(\"INACTIVE_RECOVERED:\",data['TOTAL_INACTIVE_RECOVERED'].mean(),\"\\t\",data1['TOTAL_INACTIVE_RECOVERED'].mean())\n",
        "print(\"TOTAL_DEATHS:\",data['TOTAL_DEATHS'].mean(),\"\\t\",data1['TOTAL_DEATHS'].mean())\n"
      ],
      "metadata": {
        "id": "MR3NcI7_9sl_",
        "colab": {
          "base_uri": "https://localhost:8080/"
        },
        "outputId": "089181c5-4610-4a77-f976-c8b2f729c0d1"
      },
      "execution_count": 19,
      "outputs": [
        {
          "output_type": "stream",
          "name": "stdout",
          "text": [
            "Mean \t\t Original \t\t Recent\n",
            "TOTAL_TESTS: 717551.2672489083 \t 1197223.9803571429\n",
            "TOTAL_CASES: 72868.63944687045 \t 180093.80714285714\n",
            "INACTIVE_RECOVERED: 69531.6310043668 \t 166473.66607142857\n",
            "TOTAL_DEATHS: 968.0965065502184 \t 2250.1267857142857\n"
          ]
        }
      ]
    },
    {
      "cell_type": "markdown",
      "source": [
        "Mean is the average of the values. Here, the result tells that the total test that takes place for covid recently is more than before, which implies people are really more aware than in past. Also, as the rate of covid patients is decreased now, the total cases and death also decrease. And the recovery rate is increased. "
      ],
      "metadata": {
        "id": "CQ1ZZRtBQ7ql"
      }
    },
    {
      "cell_type": "code",
      "source": [
        ""
      ],
      "metadata": {
        "id": "qKtqFLC8Q-G6"
      },
      "execution_count": 19,
      "outputs": []
    },
    {
      "cell_type": "code",
      "source": [
        "print(\"Median\")\n",
        "print(\"TOTAL_TESTS:\",data['TOTAL_TESTS'].median())\n",
        "print(\"TOTAL_CASES:\",data['TOTAL_CASES'].median())\n",
        "print(\"TOTAL_INACTIVE_RECOVERED:\",data['TOTAL_INACTIVE_RECOVERED'].median())\n",
        "print(\"TOTAL_DEATHS:\",data['TOTAL_DEATHS'].median())"
      ],
      "metadata": {
        "id": "VGCfT0W9-DbB",
        "colab": {
          "base_uri": "https://localhost:8080/"
        },
        "outputId": "16443ca2-f08b-4600-f499-987dd7349e5a"
      },
      "execution_count": 20,
      "outputs": [
        {
          "output_type": "stream",
          "name": "stdout",
          "text": [
            "Median\n",
            "TOTAL_TESTS: 638056.5\n",
            "TOTAL_CASES: 46629.5\n",
            "TOTAL_INACTIVE_RECOVERED: 43879.0\n",
            "TOTAL_DEATHS: 117.0\n"
          ]
        }
      ]
    },
    {
      "cell_type": "markdown",
      "source": [
        "Median gives the middle number in an ordered data set."
      ],
      "metadata": {
        "id": "Mn3xaNyiQ_Ir"
      }
    },
    {
      "cell_type": "code",
      "source": [
        "print(\"Mode:\")\n",
        "print(\"TOTAL_TESTS:\",data['TOTAL_TESTS'].mode())\n",
        "print(\"TOTAL_CASES:\",data['TOTAL_CASES'].mode())\n",
        "print(\"TOTAL_INACTIVE_RECOVERED:\",data['TOTAL_INACTIVE_RECOVERED'].mode())\n",
        "print(\"TOTAL_DEATHS:\",data['TOTAL_DEATHS'].mode())"
      ],
      "metadata": {
        "id": "EdRWon9h-N-m",
        "colab": {
          "base_uri": "https://localhost:8080/"
        },
        "outputId": "e76429e6-6e96-4a97-cc81-2f55284313ee"
      },
      "execution_count": 21,
      "outputs": [
        {
          "output_type": "stream",
          "name": "stdout",
          "text": [
            "Mode:\n",
            "TOTAL_TESTS: 0    30057\n",
            "dtype: int64\n",
            "TOTAL_CASES: 0    1403\n",
            "dtype: int64\n",
            "TOTAL_INACTIVE_RECOVERED: 0    1038\n",
            "dtype: int64\n",
            "TOTAL_DEATHS: 0    0.0\n",
            "dtype: float64\n"
          ]
        }
      ]
    },
    {
      "cell_type": "markdown",
      "source": [
        "The mode gives the most frequent value. "
      ],
      "metadata": {
        "id": "CXO-q7ifRBmU"
      }
    },
    {
      "cell_type": "code",
      "source": [
        "print(\"Variance\")\n",
        "print(\"TOTAL_TESTS:\",data['TOTAL_TESTS'].var())\n",
        "print(\"TOTAL_CASES:\",data['TOTAL_CASES'].var())\n",
        "print(\"TOTAL_INACTIVE_RECOVERED:\",data['TOTAL_INACTIVE_RECOVERED'].var())\n",
        "print(\"TOTAL_DEATHS:\",data['TOTAL_DEATHS'].var())"
      ],
      "metadata": {
        "id": "REfc3KHX-Df2",
        "colab": {
          "base_uri": "https://localhost:8080/"
        },
        "outputId": "dd2ea7ea-82cd-4e05-a332-9e836654fb3e"
      },
      "execution_count": 22,
      "outputs": [
        {
          "output_type": "stream",
          "name": "stdout",
          "text": [
            "Variance\n",
            "TOTAL_TESTS: 278907846400.57214\n",
            "TOTAL_CASES: 5533016368.579405\n",
            "TOTAL_INACTIVE_RECOVERED: 5164907031.4814\n",
            "TOTAL_DEATHS: 2609109.5057528247\n"
          ]
        }
      ]
    },
    {
      "cell_type": "code",
      "source": [
        "print(\"SD:\")\n",
        "print(\"TOTAL_TESTS:\",data['TOTAL_TESTS'].std())\n",
        "print(\"TOTAL_CASES:\",data['TOTAL_CASES'].std())\n",
        "print(\"TOTAL_INACTIVE_RECOVERED:\",data['TOTAL_INACTIVE_RECOVERED'].std())\n",
        "print(\"TOTAL_DEATHS:\",data['TOTAL_DEATHS'].std())"
      ],
      "metadata": {
        "id": "mq-UkTe7-mIw",
        "colab": {
          "base_uri": "https://localhost:8080/"
        },
        "outputId": "16f0aed5-07aa-42a3-ff6d-aef8337a008f"
      },
      "execution_count": 23,
      "outputs": [
        {
          "output_type": "stream",
          "name": "stdout",
          "text": [
            "SD:\n",
            "TOTAL_TESTS: 528117.2657663941\n",
            "TOTAL_CASES: 74384.24812135567\n",
            "TOTAL_INACTIVE_RECOVERED: 71867.2876313097\n",
            "TOTAL_DEATHS: 1615.2738175779439\n"
          ]
        }
      ]
    },
    {
      "cell_type": "markdown",
      "source": [
        "A standard deviation (or σ) is a measure of how dispersed the data is in relation to the mean. Low standard deviation means data are clustered around the mean, and high standard deviation indicates data are more spread out. Here, the SD is high which indicates data are more spread out. \n"
      ],
      "metadata": {
        "id": "wEx4BS0-RFC-"
      }
    },
    {
      "cell_type": "code",
      "source": [
        "print(\"SE:\")\n",
        "print(\"TOTAL_TESTS:\",data['TOTAL_TESTS'].std()/(len(data))**1/2)\n",
        "print(\"TOTAL_CASES:\",data['TOTAL_CASES'].std()/(len(data))**1/2)\n",
        "print(\"TOTAL_INACTIVE_RECOVERED:\",data['TOTAL_INACTIVE_RECOVERED'].std()/(len(data))**1/2)\n",
        "print(\"TOTAL_DEATHS:\",data['TOTAL_DEATHS'].std()/(len(data))**1/2)"
      ],
      "metadata": {
        "id": "1tGB5cf1_Rsn",
        "colab": {
          "base_uri": "https://localhost:8080/"
        },
        "outputId": "26c97ee6-3b43-421b-e9aa-10f7e66568d3"
      },
      "execution_count": 24,
      "outputs": [
        {
          "output_type": "stream",
          "name": "stdout",
          "text": [
            "SE:\n",
            "TOTAL_TESTS: 38.43648222462839\n",
            "TOTAL_CASES: 5.413700736634328\n",
            "TOTAL_INACTIVE_RECOVERED: 5.230515839251069\n",
            "TOTAL_DEATHS: 0.11755995761120407\n"
          ]
        }
      ]
    },
    {
      "cell_type": "markdown",
      "source": [
        "The standard error tells you how much the sample means would vary if you were to repeat a study using new samples from within a single population. Here, Total tests have a high standard error which shows that sample means are widely spread around the population mean whereas total cases, inactive recovered and deaths have a low standard error which shows that sample means are closely distributed around the population mean."
      ],
      "metadata": {
        "id": "-GVsanJjRG8l"
      }
    },
    {
      "cell_type": "code",
      "source": [
        "print(\"Coefficient of Variation:\")\n",
        "print(\"TOTAL_TESTS:\",data['TOTAL_TESTS'].std()/data['TOTAL_TESTS'].mean())\n",
        "print(\"TOTAL_CASES:\",data['TOTAL_CASES'].std()/data['TOTAL_CASES'].mean())\n",
        "print(\"TOTAL_INACTIVE_RECOVERED:\",data['TOTAL_INACTIVE_RECOVERED'].std()/data['TOTAL_INACTIVE_RECOVERED'].mean())\n",
        "print(\"TOTAL_DEATHS:\",data['TOTAL_DEATHS'].std()/data['TOTAL_DEATHS'].mean())"
      ],
      "metadata": {
        "id": "7f2e3AfuBEeZ",
        "colab": {
          "base_uri": "https://localhost:8080/"
        },
        "outputId": "299f7ca8-32e2-4768-bb43-c06122fb0c84"
      },
      "execution_count": 25,
      "outputs": [
        {
          "output_type": "stream",
          "name": "stdout",
          "text": [
            "Coefficient of Variation:\n",
            "TOTAL_TESTS: 0.7359993492746459\n",
            "TOTAL_CASES: 1.020799189966903\n",
            "TOTAL_INACTIVE_RECOVERED: 1.0335912820281203\n",
            "TOTAL_DEATHS: 1.6685049544636017\n"
          ]
        }
      ]
    },
    {
      "cell_type": "markdown",
      "source": [
        "As the coefficient of variation is low for total tests, cases, recovered and deaths, the smaller the level of dispersion around the mean."
      ],
      "metadata": {
        "id": "Hr69KoLQRMl1"
      }
    },
    {
      "cell_type": "code",
      "source": [
        "print(\"Range of Total Cases: \",min(data['TOTAL_CASES']),\"-\",max(data['TOTAL_CASES']))"
      ],
      "metadata": {
        "id": "Tw1jlCGuAdrm",
        "colab": {
          "base_uri": "https://localhost:8080/"
        },
        "outputId": "50e18ea9-27a4-4238-9b15-d6e61ef1c50e"
      },
      "execution_count": 26,
      "outputs": [
        {
          "output_type": "stream",
          "name": "stdout",
          "text": [
            "Range of Total Cases:  3 - 352091\n"
          ]
        }
      ]
    },
    {
      "cell_type": "code",
      "source": [
        "print(\"Q2 quantile of arr : \", np.quantile(data['TOTAL_DEATHS'], .50))\n",
        "print(\"Q1 quantile of arr : \", np.quantile(data['TOTAL_DEATHS'], .25))\n",
        "print(\"Q3 quantile of arr : \", np.quantile(data['TOTAL_DEATHS'], .75))\n",
        "print(\"100th quantile of arr : \", np.quantile(data['TOTAL_DEATHS'], .1))"
      ],
      "metadata": {
        "id": "28n6T8-U-3Bm",
        "colab": {
          "base_uri": "https://localhost:8080/"
        },
        "outputId": "5b51f724-452b-4c6c-dff7-6a2f9a9dff58"
      },
      "execution_count": 27,
      "outputs": [
        {
          "output_type": "stream",
          "name": "stdout",
          "text": [
            "Q2 quantile of arr :  117.0\n",
            "Q1 quantile of arr :  5.0\n",
            "Q3 quantile of arr :  1111.0\n",
            "100th quantile of arr :  0.0\n"
          ]
        }
      ]
    },
    {
      "cell_type": "markdown",
      "source": [
        "The first quartile or Q1 is the value in the data set such that 25% of the data points are less than 5 and 75% of the data set is greater than 5. Similarly, for Q2 it is 5, Q3: 1111, and Q4: 0.\n"
      ],
      "metadata": {
        "id": "BJlf_7b4RNxS"
      }
    },
    {
      "cell_type": "code",
      "source": [
        "print(\"50th percentile of arr : \",np.percentile(data['TOTAL_DEATHS'], 50))\n",
        "print(\"25th percentile of arr : \",np.percentile(data['TOTAL_DEATHS'], 25))\n",
        "print(\"75th percentile of arr : \",np.percentile(data['TOTAL_DEATHS'], 75))"
      ],
      "metadata": {
        "id": "q_v7GgXb_yTU",
        "colab": {
          "base_uri": "https://localhost:8080/"
        },
        "outputId": "2e70c09c-634a-4e2b-917c-a0640368dec1"
      },
      "execution_count": 28,
      "outputs": [
        {
          "output_type": "stream",
          "name": "stdout",
          "text": [
            "50th percentile of arr :  117.0\n",
            "25th percentile of arr :  5.0\n",
            "75th percentile of arr :  1111.0\n"
          ]
        }
      ]
    },
    {
      "cell_type": "markdown",
      "source": [
        "The 25th percentile is the value at which 75% of the answers lie above 5 and 25% of the answers lie below 5. The 50th percentile of Total Deaths tells that 50 percent of the time total death will be below 117. The 75th percentile is the value at which 25% of the answers lie above 1111 and 75% of the answers lie below 1111."
      ],
      "metadata": {
        "id": "Dj1dd5zIRQnn"
      }
    },
    {
      "cell_type": "code",
      "source": [
        "#create 95% confidence interval for population mean weight\n",
        "print(\"Original Data\")\n",
        "print(\"TOTAL_TESTS: \",st.t.interval(alpha=0.95, df=len(data['TOTAL_TESTS'])-1, loc=np.mean(data['TOTAL_TESTS']), scale=st.sem(data['TOTAL_TESTS'])) )\n",
        "print(\"TOTAL_CASES: \",st.t.interval(alpha=0.95, df=len(data['TOTAL_CASES'])-1, loc=np.mean(data['TOTAL_CASES']), scale=st.sem(data['TOTAL_CASES'])) )\n",
        "print(\"TOTAL_INACTIVE_RECOVERED: \",st.t.interval(alpha=0.95, df=len(data['TOTAL_INACTIVE_RECOVERED'])-1, loc=np.mean(data['TOTAL_INACTIVE_RECOVERED']), scale=st.sem(data['TOTAL_INACTIVE_RECOVERED'])) )\n",
        "print(\"TOTAL_DEATHS: \",st.t.interval(alpha=0.95, df=len(data['TOTAL_DEATHS'])-1, loc=np.mean(data['TOTAL_DEATHS']), scale=st.sem(data['TOTAL_DEATHS'])) )\n",
        "\n",
        "print(\"\\nRecent Data\")\n",
        "print(\"TOTAL_TESTS: \",st.t.interval(alpha=0.95, df=len(data1['TOTAL_TESTS'])-1, loc=np.mean(data1['TOTAL_TESTS']), scale=st.sem(data1['TOTAL_TESTS'])) )\n",
        "print(\"TOTAL_CASES: \",st.t.interval(alpha=0.95, df=len(data1['TOTAL_CASES'])-1, loc=np.mean(data1['TOTAL_CASES']), scale=st.sem(data1['TOTAL_CASES'])) )\n",
        "print(\"TOTAL_INACTIVE_RECOVERED: \",st.t.interval(alpha=0.95, df=len(data1['TOTAL_INACTIVE_RECOVERED'])-1, loc=np.mean(data1['TOTAL_INACTIVE_RECOVERED']), scale=st.sem(data1['TOTAL_INACTIVE_RECOVERED'])) )\n",
        "print(\"TOTAL_DEATHS: \",st.t.interval(alpha=0.95, df=len(data1['TOTAL_DEATHS'])-1, loc=np.mean(data1['TOTAL_DEATHS']), scale=st.sem(data1['TOTAL_DEATHS'])) )"
      ],
      "metadata": {
        "id": "RNtyWwtSA5eR",
        "colab": {
          "base_uri": "https://localhost:8080/"
        },
        "outputId": "abc7c4fa-9edf-4fdb-833b-a744a7cffe9e"
      },
      "execution_count": 29,
      "outputs": [
        {
          "output_type": "stream",
          "name": "stdout",
          "text": [
            "Original Data\n",
            "TOTAL_TESTS:  (705060.8593660564, 730041.6751317602)\n",
            "TOTAL_CASES:  (71109.3907736677, 74627.8881200732)\n",
            "TOTAL_INACTIVE_RECOVERED:  (67831.91051776875, 71231.35149096487)\n",
            "TOTAL_DEATHS:  (929.8939516786945, 1006.2990614217422)\n",
            "\n",
            "Recent Data\n",
            "TOTAL_TESTS:  (1145380.8104774102, 1249067.1502368755)\n",
            "TOTAL_CASES:  (171367.74685759106, 188819.86742812322)\n",
            "TOTAL_INACTIVE_RECOVERED:  (158093.12442526844, 174854.2077175887)\n",
            "TOTAL_DEATHS:  (2037.0616687672195, 2463.191902661352)\n"
          ]
        }
      ]
    },
    {
      "cell_type": "markdown",
      "source": [
        "For Original Data:\n",
        "\n",
        "The interpretation of a 95% confidence interval is that \"we are 95% confident that the total tests are between 705060.8593660564 and 730041.6751317602\". For Total Cases,  it is between 71109.3907736677 and 74627.8881200732, for total recovered is between 67831.91051776875 and 71231.35149096487; for total deaths, it is between 929.8939516786945 and 1006.2990614217422. \n",
        "\n",
        "For Recent Data:\n",
        "\n",
        "The interpretation of a 95% confidence interval is that \"we are 95% confident that the total tests are between 1145380.8104774102 and 1249067.1502368755\". For Total Cases,  it is between 171367.74685759106 and 188819.86742812322, for total recovered is between 158093.12442526844 and 174854.2077175887; for total deaths, it is between 2037.0616687672195 and 2463.191902661352. \n",
        "\n"
      ],
      "metadata": {
        "id": "8yjXiCwORS9V"
      }
    },
    {
      "cell_type": "code",
      "source": [
        ""
      ],
      "metadata": {
        "id": "xaXL72_iOWiv"
      },
      "execution_count": 29,
      "outputs": []
    },
    {
      "cell_type": "markdown",
      "source": [
        "# **Different graphs**"
      ],
      "metadata": {
        "id": "Of3iyxyUH-Kn"
      }
    },
    {
      "cell_type": "code",
      "source": [
        "grp1.plot(x=\"TOTAL_TESTS\", y=[\"TOTAL_INACTIVE_RECOVERED\", \"TOTAL_CASES\"], kind=\"bar\", figsize=(20, 8))\n"
      ],
      "metadata": {
        "colab": {
          "base_uri": "https://localhost:8080/",
          "height": 573
        },
        "id": "-nDZUjE3XZvC",
        "outputId": "d361cc0b-e718-4495-cccd-9ee69784c219"
      },
      "execution_count": 30,
      "outputs": [
        {
          "output_type": "execute_result",
          "data": {
            "text/plain": [
              "<matplotlib.axes._subplots.AxesSubplot at 0x7fac72913450>"
            ]
          },
          "metadata": {},
          "execution_count": 30
        },
        {
          "output_type": "display_data",
          "data": {
            "image/png": "[encoded data removed]",
            "text/plain": [
              "<Figure size 1440x576 with 1 Axes>"
            ]
          },
          "metadata": {
            "needs_background": "light"
          }
        }
      ]
    },
    {
      "cell_type": "code",
      "source": [
        "grp3.plot(x=\"TOTAL_TESTS\", y=[\"TOTAL_INACTIVE_RECOVERED\", \"TOTAL_CASES\"], kind=\"bar\", figsize=(20, 8))\n"
      ],
      "metadata": {
        "colab": {
          "base_uri": "https://localhost:8080/",
          "height": 573
        },
        "id": "Vba7fYkh8FIc",
        "outputId": "90c0fd3c-cdc5-41b6-c501-a24fa359b82e"
      },
      "execution_count": 31,
      "outputs": [
        {
          "output_type": "execute_result",
          "data": {
            "text/plain": [
              "<matplotlib.axes._subplots.AxesSubplot at 0x7fac71f30510>"
            ]
          },
          "metadata": {},
          "execution_count": 31
        },
        {
          "output_type": "display_data",
          "data": {
            "image/png": "[encoded data removed]",
            "text/plain": [
              "<Figure size 1440x576 with 1 Axes>"
            ]
          },
          "metadata": {
            "needs_background": "light"
          }
        }
      ]
    },
    {
      "cell_type": "markdown",
      "source": [
        "Bar graphs are ideal for comparing two or more values, or values over time. \n",
        "Fig 1: Original Data\n",
        "Fig2: Recent Data\n",
        "Fig 1 and 2 is the comparison between recovered and total cases found. Here we can observe that the difference is very low. This implies cases were found daily, but the recovery rate is also good.\n",
        "\n"
      ],
      "metadata": {
        "id": "hNXV7buGMt0Y"
      }
    },
    {
      "cell_type": "code",
      "source": [
        ""
      ],
      "metadata": {
        "id": "RdwWqguLQgGL"
      },
      "execution_count": 31,
      "outputs": []
    },
    {
      "cell_type": "code",
      "source": [
        "grp3.plot(x=\"TOTAL_TESTS\", y=[\"TOTAL_CASES\",\"TOTAL_INACTIVE_RECOVERED\",\"TOTAL_DEATHS\"], kind=\"bar\", figsize=(20, 8))\n"
      ],
      "metadata": {
        "colab": {
          "base_uri": "https://localhost:8080/",
          "height": 573
        },
        "id": "fehd06RLYNi0",
        "outputId": "5c93061a-79f7-43fb-bfdb-686536d92b0a"
      },
      "execution_count": 32,
      "outputs": [
        {
          "output_type": "execute_result",
          "data": {
            "text/plain": [
              "<matplotlib.axes._subplots.AxesSubplot at 0x7fac71a263d0>"
            ]
          },
          "metadata": {},
          "execution_count": 32
        },
        {
          "output_type": "display_data",
          "data": {
            "image/png": "[encoded data removed]",
            "text/plain": [
              "<Figure size 1440x576 with 1 Axes>"
            ]
          },
          "metadata": {
            "needs_background": "light"
          }
        }
      ]
    },
    {
      "cell_type": "markdown",
      "source": [
        "Comparison between Total Cases, Recovery, and Deaths on the basis of a particular age group.\n",
        "Total Cases found and recovery rate is high for the age group of 20-30 but the death rate is negligible. Whereas it is the opposite in the case of 70+ age.\n"
      ],
      "metadata": {
        "id": "y5_-gC5RM22Z"
      }
    },
    {
      "cell_type": "code",
      "source": [
        ""
      ],
      "metadata": {
        "id": "E_sS1XQyO9Lw"
      },
      "execution_count": 32,
      "outputs": []
    },
    {
      "cell_type": "code",
      "source": [
        "# gra = data.drop(['Generosity','Perceptions of corruption','Positive affect','Negative affect'],axis=1)\n",
        "gra =data1"
      ],
      "metadata": {
        "id": "89NFNJSSIK6G"
      },
      "execution_count": 33,
      "outputs": []
    },
    {
      "cell_type": "code",
      "source": [
        "gra.head()"
      ],
      "metadata": {
        "id": "i8-iSW81IsvP",
        "colab": {
          "base_uri": "https://localhost:8080/",
          "height": 206
        },
        "outputId": "b2c8edcd-c259-45fc-e9b9-de4308b8103c"
      },
      "execution_count": 34,
      "outputs": [
        {
          "output_type": "execute_result",
          "data": {
            "text/html": [
              "\n",
              "  <div id=\"df-ac4020e9-bcaa-48a1-90b9-4d994fd3873e\">\n",
              "    <div class=\"colab-df-container\">\n",
              "      <div>\n",
              "<style scoped>\n",
              "    .dataframe tbody tr th:only-of-type {\n",
              "        vertical-align: middle;\n",
              "    }\n",
              "\n",
              "    .dataframe tbody tr th {\n",
              "        vertical-align: top;\n",
              "    }\n",
              "\n",
              "    .dataframe thead th {\n",
              "        text-align: right;\n",
              "    }\n",
              "</style>\n",
              "<table border=\"1\" class=\"dataframe\">\n",
              "  <thead>\n",
              "    <tr style=\"text-align: right;\">\n",
              "      <th></th>\n",
              "      <th>DATE</th>\n",
              "      <th>AGE_GROUP</th>\n",
              "      <th>TOTAL_TESTS</th>\n",
              "      <th>TOTAL_CASES</th>\n",
              "      <th>TOTAL_HOSP</th>\n",
              "      <th>TOTAL_INACTIVE_RECOVERED</th>\n",
              "      <th>TOTAL_DEATHS</th>\n",
              "    </tr>\n",
              "  </thead>\n",
              "  <tbody>\n",
              "    <tr>\n",
              "      <th>10</th>\n",
              "      <td>2/25/2022</td>\n",
              "      <td>0-10 years</td>\n",
              "      <td>1159238</td>\n",
              "      <td>181684</td>\n",
              "      <td>406</td>\n",
              "      <td>180148</td>\n",
              "      <td>15.0</td>\n",
              "    </tr>\n",
              "    <tr>\n",
              "      <th>11</th>\n",
              "      <td>2/25/2022</td>\n",
              "      <td>11-20 years</td>\n",
              "      <td>1588124</td>\n",
              "      <td>283474</td>\n",
              "      <td>668</td>\n",
              "      <td>282091</td>\n",
              "      <td>23.0</td>\n",
              "    </tr>\n",
              "    <tr>\n",
              "      <th>12</th>\n",
              "      <td>2/25/2022</td>\n",
              "      <td>21-30 years</td>\n",
              "      <td>2209635</td>\n",
              "      <td>352091</td>\n",
              "      <td>1666</td>\n",
              "      <td>349792</td>\n",
              "      <td>200.0</td>\n",
              "    </tr>\n",
              "    <tr>\n",
              "      <th>13</th>\n",
              "      <td>2/25/2022</td>\n",
              "      <td>31-40 years</td>\n",
              "      <td>1897440</td>\n",
              "      <td>318186</td>\n",
              "      <td>3057</td>\n",
              "      <td>315660</td>\n",
              "      <td>541.0</td>\n",
              "    </tr>\n",
              "    <tr>\n",
              "      <th>14</th>\n",
              "      <td>2/25/2022</td>\n",
              "      <td>41-50 years</td>\n",
              "      <td>1650415</td>\n",
              "      <td>285237</td>\n",
              "      <td>5152</td>\n",
              "      <td>281960</td>\n",
              "      <td>1362.0</td>\n",
              "    </tr>\n",
              "  </tbody>\n",
              "</table>\n",
              "</div>\n",
              "      <button class=\"colab-df-convert\" onclick=\"convertToInteractive('df-ac4020e9-bcaa-48a1-90b9-4d994fd3873e')\"\n",
              "              title=\"Convert this dataframe to an interactive table.\"\n",
              "              style=\"display:none;\">\n",
              "        \n",
              "  <svg xmlns=\"http://www.w3.org/2000/svg\" height=\"24px\"viewBox=\"0 0 24 24\"\n",
              "       width=\"24px\">\n",
              "    <path d=\"M0 0h24v24H0V0z\" fill=\"none\"/>\n",
              "    <path d=\"M18.56 5.44l.94 2.06.94-2.06 2.06-.94-2.06-.94-.94-2.06-.94 2.06-2.06.94zm-11 1L8.5 8.5l.94-2.06 2.06-.94-2.06-.94L8.5 2.5l-.94 2.06-2.06.94zm10 10l.94 2.06.94-2.06 2.06-.94-2.06-.94-.94-2.06-.94 2.06-2.06.94z\"/><path d=\"M17.41 7.96l-1.37-1.37c-.4-.4-.92-.59-1.43-.59-.52 0-1.04.2-1.43.59L10.3 9.45l-7.72 7.72c-.78.78-.78 2.05 0 2.83L4 21.41c.39.39.9.59 1.41.59.51 0 1.02-.2 1.41-.59l7.78-7.78 2.81-2.81c.8-.78.8-2.07 0-2.86zM5.41 20L4 18.59l7.72-7.72 1.47 1.35L5.41 20z\"/>\n",
              "  </svg>\n",
              "      </button>\n",
              "      \n",
              "  <style>\n",
              "    .colab-df-container {\n",
              "      display:flex;\n",
              "      flex-wrap:wrap;\n",
              "      gap: 12px;\n",
              "    }\n",
              "\n",
              "    .colab-df-convert {\n",
              "      background-color: #E8F0FE;\n",
              "      border: none;\n",
              "      border-radius: 50%;\n",
              "      cursor: pointer;\n",
              "      display: none;\n",
              "      fill: #1967D2;\n",
              "      height: 32px;\n",
              "      padding: 0 0 0 0;\n",
              "      width: 32px;\n",
              "    }\n",
              "\n",
              "    .colab-df-convert:hover {\n",
              "      background-color: #E2EBFA;\n",
              "      box-shadow: 0px 1px 2px rgba(60, 64, 67, 0.3), 0px 1px 3px 1px rgba(60, 64, 67, 0.15);\n",
              "      fill: #174EA6;\n",
              "    }\n",
              "\n",
              "    [theme=dark] .colab-df-convert {\n",
              "      background-color: #3B4455;\n",
              "      fill: #D2E3FC;\n",
              "    }\n",
              "\n",
              "    [theme=dark] .colab-df-convert:hover {\n",
              "      background-color: #434B5C;\n",
              "      box-shadow: 0px 1px 3px 1px rgba(0, 0, 0, 0.15);\n",
              "      filter: drop-shadow(0px 1px 2px rgba(0, 0, 0, 0.3));\n",
              "      fill: #FFFFFF;\n",
              "    }\n",
              "  </style>\n",
              "\n",
              "      <script>\n",
              "        const buttonEl =\n",
              "          document.querySelector('#df-ac4020e9-bcaa-48a1-90b9-4d994fd3873e button.colab-df-convert');\n",
              "        buttonEl.style.display =\n",
              "          google.colab.kernel.accessAllowed ? 'block' : 'none';\n",
              "\n",
              "        async function convertToInteractive(key) {\n",
              "          const element = document.querySelector('#df-ac4020e9-bcaa-48a1-90b9-4d994fd3873e');\n",
              "          const dataTable =\n",
              "            await google.colab.kernel.invokeFunction('convertToInteractive',\n",
              "                                                     [key], {});\n",
              "          if (!dataTable) return;\n",
              "\n",
              "          const docLinkHtml = 'Like what you see? Visit the ' +\n",
              "            '<a target=\"_blank\" href=https://colab.research.google.com/notebooks/data_table.ipynb>data table notebook</a>'\n",
              "            + ' to learn more about interactive tables.';\n",
              "          element.innerHTML = '';\n",
              "          dataTable['output_type'] = 'display_data';\n",
              "          await google.colab.output.renderOutput(dataTable, element);\n",
              "          const docLink = document.createElement('div');\n",
              "          docLink.innerHTML = docLinkHtml;\n",
              "          element.appendChild(docLink);\n",
              "        }\n",
              "      </script>\n",
              "    </div>\n",
              "  </div>\n",
              "  "
            ],
            "text/plain": [
              "         DATE    AGE_GROUP  TOTAL_TESTS  TOTAL_CASES  TOTAL_HOSP  \\\n",
              "10  2/25/2022   0-10 years      1159238       181684         406   \n",
              "11  2/25/2022  11-20 years      1588124       283474         668   \n",
              "12  2/25/2022  21-30 years      2209635       352091        1666   \n",
              "13  2/25/2022  31-40 years      1897440       318186        3057   \n",
              "14  2/25/2022  41-50 years      1650415       285237        5152   \n",
              "\n",
              "    TOTAL_INACTIVE_RECOVERED  TOTAL_DEATHS  \n",
              "10                    180148          15.0  \n",
              "11                    282091          23.0  \n",
              "12                    349792         200.0  \n",
              "13                    315660         541.0  \n",
              "14                    281960        1362.0  "
            ]
          },
          "metadata": {},
          "execution_count": 34
        }
      ]
    },
    {
      "cell_type": "code",
      "source": [
        "corelation = gra.corr()"
      ],
      "metadata": {
        "id": "81rquTLZIKxn"
      },
      "execution_count": 35,
      "outputs": []
    },
    {
      "cell_type": "code",
      "source": [
        "sns.set(rc = {'figure.figsize':(10,8)})\n",
        "sns.heatmap(corelation, xticklabels=corelation.columns, yticklabels=corelation.columns,annot=True)"
      ],
      "metadata": {
        "id": "CmZz66j5I_SG",
        "colab": {
          "base_uri": "https://localhost:8080/",
          "height": 662
        },
        "outputId": "6d2921df-c235-4486-aab5-ac0bd382d80e"
      },
      "execution_count": 36,
      "outputs": [
        {
          "output_type": "execute_result",
          "data": {
            "text/plain": [
              "<matplotlib.axes._subplots.AxesSubplot at 0x7fac71929090>"
            ]
          },
          "metadata": {},
          "execution_count": 36
        },
        {
          "output_type": "display_data",
          "data": {
            "image/png": "[encoded data removed]",
            "text/plain": [
              "<Figure size 720x576 with 2 Axes>"
            ]
          },
          "metadata": {}
        }
      ]
    },
    {
      "cell_type": "markdown",
      "source": [
        "As the value of correlation, closer is to 1, for (cases, tests), (recovered, tests), (deaths, hosp) i.e 0.98,0.97,0.86; which implies stronger this relationship is.\n",
        "A correlation closer to -1 is similar, but instead of both increasing one variable will decrease as the other increases.\n",
        "\n"
      ],
      "metadata": {
        "id": "xQTty7MWM64r"
      }
    },
    {
      "cell_type": "code",
      "source": [
        ""
      ],
      "metadata": {
        "id": "ROXBsCPOPLwF"
      },
      "execution_count": 36,
      "outputs": []
    },
    {
      "cell_type": "code",
      "source": [
        "sns.set(rc = {'figure.figsize':(15,8)})\n",
        "sns.lineplot(data=data1, x=\"AGE_GROUP\", y=\"TOTAL_TESTS\",label='Original Data-TOTAL_TESTS')\n",
        "sns.lineplot(data=o_data, x=\"AGE_GROUP\", y=\"TOTAL_TESTS\",label='Recent Data-TOTAL_TESTS')\n",
        "sns.lineplot(data=data1, x=\"AGE_GROUP\", y=\"TOTAL_CASES\",label='Original Data-TOTAL_CASES')\n",
        "sns.lineplot(data=o_data, x=\"AGE_GROUP\", y=\"TOTAL_CASES\",label='Recent Data-TOTAL_CASES')"
      ],
      "metadata": {
        "colab": {
          "base_uri": "https://localhost:8080/",
          "height": 530
        },
        "id": "Pqp8twWThgnu",
        "outputId": "8ec482d2-fa10-428e-babe-fcd5e66a5947"
      },
      "execution_count": 37,
      "outputs": [
        {
          "output_type": "execute_result",
          "data": {
            "text/plain": [
              "<matplotlib.axes._subplots.AxesSubplot at 0x7fac71817450>"
            ]
          },
          "metadata": {},
          "execution_count": 37
        },
        {
          "output_type": "display_data",
          "data": {
            "image/png": "[encoded data removed]",
            "text/plain": [
              "<Figure size 1080x576 with 1 Axes>"
            ]
          },
          "metadata": {}
        }
      ]
    },
    {
      "cell_type": "markdown",
      "source": [
        "The number of Total tests done has been reduced than before for all age groups.\n",
        "Similarly, the number of Total cases found has been reduced than before for all age groups except the 80+ age group.\n"
      ],
      "metadata": {
        "id": "JqUYD0eoNBrG"
      }
    },
    {
      "cell_type": "code",
      "source": [
        ""
      ],
      "metadata": {
        "id": "SExp8p9NPMyj"
      },
      "execution_count": 37,
      "outputs": []
    },
    {
      "cell_type": "code",
      "source": [
        "sns.boxplot(x=gra['AGE_GROUP'], y=gra['TOTAL_INACTIVE_RECOVERED'])"
      ],
      "metadata": {
        "id": "IGCzNhjX_1Tc",
        "colab": {
          "base_uri": "https://localhost:8080/",
          "height": 519
        },
        "outputId": "79be4d22-5efc-4ab5-fd60-68ba13961246"
      },
      "execution_count": 38,
      "outputs": [
        {
          "output_type": "execute_result",
          "data": {
            "text/plain": [
              "<matplotlib.axes._subplots.AxesSubplot at 0x7fac71915dd0>"
            ]
          },
          "metadata": {},
          "execution_count": 38
        },
        {
          "output_type": "display_data",
          "data": {
            "image/png": "[encoded data removed]",
            "text/plain": [
              "<Figure size 1080x576 with 1 Axes>"
            ]
          },
          "metadata": {}
        }
      ]
    },
    {
      "cell_type": "markdown",
      "source": [
        "A boxplot is a standardized way of displaying the distribution of data based on a five-number summary (“minimum”, first quartile (Q1), median, third quartile (Q3), and “maximum”).\n",
        "\n",
        "The recovery rate is high in the case of the 20-30 age group, whereas, it is low in the case of the 60+ age group.\n",
        "\n"
      ],
      "metadata": {
        "id": "Byz0wyXFNFSO"
      }
    },
    {
      "cell_type": "code",
      "source": [
        ""
      ],
      "metadata": {
        "id": "dznr80xlPNtF"
      },
      "execution_count": 38,
      "outputs": []
    },
    {
      "cell_type": "code",
      "source": [
        "sns.set(rc = {'figure.figsize':(15,8)})\n",
        "sns.distplot(gra['TOTAL_DEATHS'],bins=8)"
      ],
      "metadata": {
        "id": "MH5OSRuNKxTh",
        "colab": {
          "base_uri": "https://localhost:8080/",
          "height": 574
        },
        "outputId": "0c0733c2-2a34-4ae1-e047-4fed62f74858"
      },
      "execution_count": 39,
      "outputs": [
        {
          "output_type": "stream",
          "name": "stderr",
          "text": [
            "/usr/local/lib/python3.7/dist-packages/seaborn/distributions.py:2619: FutureWarning: `distplot` is a deprecated function and will be removed in a future version. Please adapt your code to use either `displot` (a figure-level function with similar flexibility) or `histplot` (an axes-level function for histograms).\n",
            "  warnings.warn(msg, FutureWarning)\n"
          ]
        },
        {
          "output_type": "execute_result",
          "data": {
            "text/plain": [
              "<matplotlib.axes._subplots.AxesSubplot at 0x7fac6fd70b50>"
            ]
          },
          "metadata": {},
          "execution_count": 39
        },
        {
          "output_type": "display_data",
          "data": {
            "image/png": "[encoded data removed]",
            "text/plain": [
              "<Figure size 1080x576 with 1 Axes>"
            ]
          },
          "metadata": {}
        }
      ]
    },
    {
      "cell_type": "markdown",
      "source": [
        "As in this Dist plot, the bar is high at 0-1000, which implies that the number of deaths occurring recently is less i.e. between 0 to 1000."
      ],
      "metadata": {
        "id": "I48XejGiNJjn"
      }
    },
    {
      "cell_type": "code",
      "source": [
        ""
      ],
      "metadata": {
        "id": "zjQPw_OuPOmF"
      },
      "execution_count": 39,
      "outputs": []
    },
    {
      "cell_type": "code",
      "source": [
        "sns.regplot(x=data1['TOTAL_CASES'], y=data1['TOTAL_INACTIVE_RECOVERED'])"
      ],
      "metadata": {
        "id": "7jtGI4dzI_Nw",
        "colab": {
          "base_uri": "https://localhost:8080/",
          "height": 519
        },
        "outputId": "0fcdf8cf-b47d-497f-a605-2f5f753a6719"
      },
      "execution_count": 40,
      "outputs": [
        {
          "output_type": "execute_result",
          "data": {
            "text/plain": [
              "<matplotlib.axes._subplots.AxesSubplot at 0x7fac6fd69510>"
            ]
          },
          "metadata": {},
          "execution_count": 40
        },
        {
          "output_type": "display_data",
          "data": {
            "image/png": "[encoded data removed]",
            "text/plain": [
              "<Figure size 1080x576 with 1 Axes>"
            ]
          },
          "metadata": {}
        }
      ]
    },
    {
      "cell_type": "markdown",
      "source": [
        "As in the Scatter plot, the total cases found and recovery rate is almost a straight line. So, we can say that the total cases found and recovery rate goes hand in hand. \n",
        "\n"
      ],
      "metadata": {
        "id": "oAVOpQ2uNMel"
      }
    },
    {
      "cell_type": "code",
      "source": [
        ""
      ],
      "metadata": {
        "id": "vKes5nCHPP2l"
      },
      "execution_count": 40,
      "outputs": []
    },
    {
      "cell_type": "code",
      "source": [
        "sns.set(rc = {'figure.figsize':(15,8)})\n",
        "sns.catplot(y='AGE_GROUP',x='TOTAL_DEATHS', kind='box', data=gra)"
      ],
      "metadata": {
        "id": "TSLq5CFgLRzQ",
        "colab": {
          "base_uri": "https://localhost:8080/",
          "height": 382
        },
        "outputId": "c3e7dca6-d6a5-4abf-fc43-474e09d3f7f0"
      },
      "execution_count": 41,
      "outputs": [
        {
          "output_type": "execute_result",
          "data": {
            "text/plain": [
              "<seaborn.axisgrid.FacetGrid at 0x7fac6dcaec90>"
            ]
          },
          "metadata": {},
          "execution_count": 41
        },
        {
          "output_type": "display_data",
          "data": {
            "image/png": "[encoded data removed]",
            "text/plain": [
              "<Figure size 360x360 with 1 Axes>"
            ]
          },
          "metadata": {}
        }
      ]
    },
    {
      "cell_type": "markdown",
      "source": [
        "As in this Cat plot, shows frequencies is high for the 71+ age group, which implies that the number of deaths is high in this age group.\n",
        "\n"
      ],
      "metadata": {
        "id": "9c-NTI-dNPYo"
      }
    },
    {
      "cell_type": "code",
      "source": [
        ""
      ],
      "metadata": {
        "id": "hvQ1lSsCOKEu"
      },
      "execution_count": 41,
      "outputs": []
    },
    {
      "cell_type": "markdown",
      "source": [
        "# **Inference:**\n"
      ],
      "metadata": {
        "id": "QjB8_ngvQByO"
      }
    },
    {
      "cell_type": "markdown",
      "source": [
        "The Measures of location are the mean, median, and mode. \n",
        "\n",
        "\n",
        "*   Mean is the average of the values. Here, \n",
        "the result tells that the total test that takes place for covid recently is more than before, which implies people are really more aware than in past. Also, as the rate of covid patients is decreased now, the total cases and death also decrease. And the recovery rate is increased. \n",
        "*   Median gives the middle number in an ordered data set.\n",
        "*   The mode gives the most frequent value. \n",
        "\n",
        "The Measures of spread are the standard deviation, standard error, variance, percentiles, range, and coefficient of variation\n",
        "\n",
        "\n",
        "*   A standard deviation (or σ) is a measure of how dispersed the data is in relation to the mean. Low standard deviation means data are clustered around the mean, and high standard deviation indicates data are more spread out. Here, the SD is high which indicates data are more spread out.\n",
        "*   The standard error tells you how much the sample means would vary if you were to repeat a study using new samples from within a single population. Here, Total tests have a high standard error which shows that sample means are widely spread around the population mean whereas total cases, inactive recovered and deaths have a low standard error which shows that sample means are closely distributed around the population mean\n",
        "*   The 25th percentile is the value at which 75% of the answers lie above 5 and 25% of the answers lie below 5. The 50th percentile of Total Deaths tells that 50 percent of the time total death will be below 117. The 75th percentile is the value at which 25% of the answers lie above 1111 and 75% of the answers lie below 1111.\n",
        "*  The first quartile or Q1 is the value in the data set such that 25% of the data points are less than 5 and 75% of the data set is greater than 5. Similarly, for Q2 it is 5, Q3: 1111, and Q4: 0.\n",
        "*   As the coefficient of variation is low for total tests, cases, recovered and deaths, the smaller the level of dispersion around the mean.\n",
        "\n",
        "For Original Data:\n",
        "\n",
        "The interpretation of a 95% confidence interval is that \"we are 95% confident that the total tests are between 705060.8593660564 and 730041.6751317602\". For Total Cases,  it is between 71109.3907736677 and 74627.8881200732, for total recovered is between 67831.91051776875 and 71231.35149096487; for total deaths, it is between 929.8939516786945 and 1006.2990614217422. \n",
        "\n",
        "For Recent Data:\n",
        "\n",
        "The interpretation of a 95% confidence interval is that \"we are 95% confident that the total tests are between 1145380.8104774102 and 1249067.1502368755\". For Total Cases,  it is between 171367.74685759106 and 188819.86742812322, for total recovered is between 158093.12442526844 and 174854.2077175887; for total deaths, it is between 2037.0616687672195 and 2463.191902661352. \n",
        "\n"
      ],
      "metadata": {
        "id": "2JbUWFL6QoM9"
      }
    },
    {
      "cell_type": "code",
      "source": [
        ""
      ],
      "metadata": {
        "id": "WqHbQP8ESX4r"
      },
      "execution_count": 41,
      "outputs": []
    },
    {
      "cell_type": "markdown",
      "source": [
        "Graphs"
      ],
      "metadata": {
        "id": "GOpgYJqPSZRL"
      }
    },
    {
      "cell_type": "markdown",
      "source": [
        " \n",
        "\n",
        "*   Bar graphs are ideal for comparing two or more values, or values over time. \n",
        "Bar Graphs is the comparison between recovered and total cases found. Here we can observe that the difference is very low between total cases and recovered. This implies cases were found daily, but the recovery rate is also good.\n",
        "\n",
        "*   Comparison between Total Cases, Recovery, and Deaths on the basis of a particular age group using bar graph. Total Cases found and recovery rate is high for the age group of 20-30 and the death rate is negligible. Whereas it is the opposite in the case of 70+ age.\n",
        "\n",
        "*   As the value of correlation, closer is to 1, for (cases, tests), (recovered, tests), (deaths, hosp) i.e 0.98,0.97,0.86; which implies stronger this relationship is. A correlation closer to -1 is similar, but instead of both increasing one variable will decrease as the other increases.\n",
        "\n",
        "*   The number of Total tests done has been reduced than before for all age groups. Similarly, the number of Total cases found has been reduced than before for all age groups except the 80+ age group.\n",
        "\n",
        "*   A boxplot is a standardized way of displaying the distribution of data based on a five-number summary (“minimum”, first quartile (Q1), median, third quartile (Q3), and “maximum”). The recovery rate is high in the case of the 20-30 age group, whereas, it is low in the case of the 60+ age group.\n",
        "\n",
        "*   As in this Dist plot, the bar is high at 0-1000, which implies that the number of deaths occurring recently is less i.e. between 0 to 1000.\n",
        "\n",
        "*   As in the Scatter plot, the total cases found and recovery rate is almost a straight line. So, we can say that the total cases found and recovery rate goes hand in hand. \n",
        "\n",
        "*   As in this Cat plot, shows frequencies is high for the 71+ age group, which implies that the number of deaths is high in this age group.\n",
        "\n"
      ],
      "metadata": {
        "id": "tAvKSHR-RnY8"
      }
    },
    {
      "cell_type": "markdown",
      "source": [
        "## **Conclusion**"
      ],
      "metadata": {
        "id": "eCTI7MiD1M-r"
      }
    },
    {
      "cell_type": "markdown",
      "source": [
        "  Total Number of Tests, Cases, Recovery rate and death cases are high in 21-30 and 31-40 age groups. Also, the recent data (1 Jan - 25 Feb) conclude that covid rate is less in this year than previous one."
      ],
      "metadata": {
        "id": "yNOLeZ111YHG"
      }
    }
  ]
}