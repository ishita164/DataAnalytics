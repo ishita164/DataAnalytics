{
  "nbformat": 4,
  "nbformat_minor": 0,
  "metadata": {
    "colab": {
      "name": "DA2.ipynb",
      "provenance": [],
      "collapsed_sections": [],
      "authorship_tag": "ABX9TyNQ2GVHP3f2MeIhTbxam1dp",
      "include_colab_link": true
    },
    "kernelspec": {
      "name": "python3",
      "display_name": "Python 3"
    },
    "language_info": {
      "name": "python"
    }
  },
  "cells": [
    {
      "cell_type": "markdown",
      "metadata": {
        "id": "view-in-github",
        "colab_type": "text"
      },
      "source": [
        "<a href=\"https://colab.research.google.com/github/ishita164/DataAnalytics/blob/Experiments/DA2.ipynb\" target=\"_parent\"><img src=\"https://colab.research.google.com/assets/colab-badge.svg\" alt=\"Open In Colab\"/></a>"
      ]
    },
    {
      "cell_type": "markdown",
      "source": [
        "# Exp2: Analyze statistical data using Python/R programming"
      ],
      "metadata": {
        "id": "yGFlEhw-oZt1"
      }
    },
    {
      "cell_type": "markdown",
      "source": [
        "Objective:\n",
        "\n",
        "Perform statistical data analysis such as: Estimators of the main statistical measures (mean, variance, standard deviation, covariance correlation, standard error), Main distributions ( Normal distribution, chi-square distribution), Hypothesis testing, pair-wise association (Pearson correlation test, t-test, ANOVA), Non-parametric test (Spearman rank0"
      ],
      "metadata": {
        "id": "MKHeiglBoh8x"
      }
    },
    {
      "cell_type": "markdown",
      "source": [
        "DataSet:\n",
        "\n",
        "Latest country level no. of covid cases in world which contain Country Name, Confirmed Cases, Recovered Cases, Deaths,Active Cases, etc"
      ],
      "metadata": {
        "id": "OK0miD_JopG-"
      }
    },
    {
      "cell_type": "markdown",
      "source": [
        "Implementation:"
      ],
      "metadata": {
        "id": "ZgO3QnjcpllO"
      }
    },
    {
      "cell_type": "code",
      "execution_count": 1,
      "metadata": {
        "colab": {
          "base_uri": "https://localhost:8080/"
        },
        "id": "TbcF-wERidzj",
        "outputId": "a19eec16-e740-4c5c-fcf2-a7d2c84779cb"
      },
      "outputs": [
        {
          "output_type": "stream",
          "name": "stdout",
          "text": [
            "<class 'pandas.core.frame.DataFrame'>\n",
            "RangeIndex: 187 entries, 0 to 186\n",
            "Data columns (total 15 columns):\n",
            " #   Column                  Non-Null Count  Dtype  \n",
            "---  ------                  --------------  -----  \n",
            " 0   Country/Region          187 non-null    object \n",
            " 1   Confirmed               187 non-null    int64  \n",
            " 2   Deaths                  187 non-null    int64  \n",
            " 3   Recovered               187 non-null    int64  \n",
            " 4   Active                  187 non-null    int64  \n",
            " 5   New cases               187 non-null    int64  \n",
            " 6   New deaths              187 non-null    int64  \n",
            " 7   New recovered           187 non-null    int64  \n",
            " 8   Deaths / 100 Cases      187 non-null    float64\n",
            " 9   Recovered / 100 Cases   187 non-null    float64\n",
            " 10  Deaths / 100 Recovered  187 non-null    float64\n",
            " 11  Confirmed last week     187 non-null    int64  \n",
            " 12  1 week change           187 non-null    int64  \n",
            " 13  1 week % increase       187 non-null    float64\n",
            " 14  WHO Region              187 non-null    object \n",
            "dtypes: float64(4), int64(9), object(2)\n",
            "memory usage: 22.0+ KB\n"
          ]
        },
        {
          "output_type": "execute_result",
          "data": {
            "text/plain": [
              "187"
            ]
          },
          "metadata": {},
          "execution_count": 1
        }
      ],
      "source": [
        "import pandas as pd\n",
        "import numpy as np\n",
        "data = pd.read_csv('country_wise_latest.csv')\n",
        "data.info()\n",
        "len(data)\n"
      ]
    },
    {
      "cell_type": "code",
      "source": [
        "data.head()"
      ],
      "metadata": {
        "colab": {
          "base_uri": "https://localhost:8080/",
          "height": 285
        },
        "id": "SJoh1bFUijEn",
        "outputId": "9169a782-3471-4f35-cf80-827f4f1dbb53"
      },
      "execution_count": 2,
      "outputs": [
        {
          "output_type": "execute_result",
          "data": {
            "text/html": [
              "\n",
              "  <div id=\"df-217c8891-eed0-42b6-94c4-ffe063c78bab\">\n",
              "    <div class=\"colab-df-container\">\n",
              "      <div>\n",
              "<style scoped>\n",
              "    .dataframe tbody tr th:only-of-type {\n",
              "        vertical-align: middle;\n",
              "    }\n",
              "\n",
              "    .dataframe tbody tr th {\n",
              "        vertical-align: top;\n",
              "    }\n",
              "\n",
              "    .dataframe thead th {\n",
              "        text-align: right;\n",
              "    }\n",
              "</style>\n",
              "<table border=\"1\" class=\"dataframe\">\n",
              "  <thead>\n",
              "    <tr style=\"text-align: right;\">\n",
              "      <th></th>\n",
              "      <th>Country/Region</th>\n",
              "      <th>Confirmed</th>\n",
              "      <th>Deaths</th>\n",
              "      <th>Recovered</th>\n",
              "      <th>Active</th>\n",
              "      <th>New cases</th>\n",
              "      <th>New deaths</th>\n",
              "      <th>New recovered</th>\n",
              "      <th>Deaths / 100 Cases</th>\n",
              "      <th>Recovered / 100 Cases</th>\n",
              "      <th>Deaths / 100 Recovered</th>\n",
              "      <th>Confirmed last week</th>\n",
              "      <th>1 week change</th>\n",
              "      <th>1 week % increase</th>\n",
              "      <th>WHO Region</th>\n",
              "    </tr>\n",
              "  </thead>\n",
              "  <tbody>\n",
              "    <tr>\n",
              "      <th>0</th>\n",
              "      <td>Afghanistan</td>\n",
              "      <td>36263</td>\n",
              "      <td>1269</td>\n",
              "      <td>25198</td>\n",
              "      <td>9796</td>\n",
              "      <td>106</td>\n",
              "      <td>10</td>\n",
              "      <td>18</td>\n",
              "      <td>3.50</td>\n",
              "      <td>69.49</td>\n",
              "      <td>5.04</td>\n",
              "      <td>35526</td>\n",
              "      <td>737</td>\n",
              "      <td>2.07</td>\n",
              "      <td>Eastern Mediterranean</td>\n",
              "    </tr>\n",
              "    <tr>\n",
              "      <th>1</th>\n",
              "      <td>Albania</td>\n",
              "      <td>4880</td>\n",
              "      <td>144</td>\n",
              "      <td>2745</td>\n",
              "      <td>1991</td>\n",
              "      <td>117</td>\n",
              "      <td>6</td>\n",
              "      <td>63</td>\n",
              "      <td>2.95</td>\n",
              "      <td>56.25</td>\n",
              "      <td>5.25</td>\n",
              "      <td>4171</td>\n",
              "      <td>709</td>\n",
              "      <td>17.00</td>\n",
              "      <td>Europe</td>\n",
              "    </tr>\n",
              "    <tr>\n",
              "      <th>2</th>\n",
              "      <td>Algeria</td>\n",
              "      <td>27973</td>\n",
              "      <td>1163</td>\n",
              "      <td>18837</td>\n",
              "      <td>7973</td>\n",
              "      <td>616</td>\n",
              "      <td>8</td>\n",
              "      <td>749</td>\n",
              "      <td>4.16</td>\n",
              "      <td>67.34</td>\n",
              "      <td>6.17</td>\n",
              "      <td>23691</td>\n",
              "      <td>4282</td>\n",
              "      <td>18.07</td>\n",
              "      <td>Africa</td>\n",
              "    </tr>\n",
              "    <tr>\n",
              "      <th>3</th>\n",
              "      <td>Andorra</td>\n",
              "      <td>907</td>\n",
              "      <td>52</td>\n",
              "      <td>803</td>\n",
              "      <td>52</td>\n",
              "      <td>10</td>\n",
              "      <td>0</td>\n",
              "      <td>0</td>\n",
              "      <td>5.73</td>\n",
              "      <td>88.53</td>\n",
              "      <td>6.48</td>\n",
              "      <td>884</td>\n",
              "      <td>23</td>\n",
              "      <td>2.60</td>\n",
              "      <td>Europe</td>\n",
              "    </tr>\n",
              "    <tr>\n",
              "      <th>4</th>\n",
              "      <td>Angola</td>\n",
              "      <td>950</td>\n",
              "      <td>41</td>\n",
              "      <td>242</td>\n",
              "      <td>667</td>\n",
              "      <td>18</td>\n",
              "      <td>1</td>\n",
              "      <td>0</td>\n",
              "      <td>4.32</td>\n",
              "      <td>25.47</td>\n",
              "      <td>16.94</td>\n",
              "      <td>749</td>\n",
              "      <td>201</td>\n",
              "      <td>26.84</td>\n",
              "      <td>Africa</td>\n",
              "    </tr>\n",
              "  </tbody>\n",
              "</table>\n",
              "</div>\n",
              "      <button class=\"colab-df-convert\" onclick=\"convertToInteractive('df-217c8891-eed0-42b6-94c4-ffe063c78bab')\"\n",
              "              title=\"Convert this dataframe to an interactive table.\"\n",
              "              style=\"display:none;\">\n",
              "        \n",
              "  <svg xmlns=\"http://www.w3.org/2000/svg\" height=\"24px\"viewBox=\"0 0 24 24\"\n",
              "       width=\"24px\">\n",
              "    <path d=\"M0 0h24v24H0V0z\" fill=\"none\"/>\n",
              "    <path d=\"M18.56 5.44l.94 2.06.94-2.06 2.06-.94-2.06-.94-.94-2.06-.94 2.06-2.06.94zm-11 1L8.5 8.5l.94-2.06 2.06-.94-2.06-.94L8.5 2.5l-.94 2.06-2.06.94zm10 10l.94 2.06.94-2.06 2.06-.94-2.06-.94-.94-2.06-.94 2.06-2.06.94z\"/><path d=\"M17.41 7.96l-1.37-1.37c-.4-.4-.92-.59-1.43-.59-.52 0-1.04.2-1.43.59L10.3 9.45l-7.72 7.72c-.78.78-.78 2.05 0 2.83L4 21.41c.39.39.9.59 1.41.59.51 0 1.02-.2 1.41-.59l7.78-7.78 2.81-2.81c.8-.78.8-2.07 0-2.86zM5.41 20L4 18.59l7.72-7.72 1.47 1.35L5.41 20z\"/>\n",
              "  </svg>\n",
              "      </button>\n",
              "      \n",
              "  <style>\n",
              "    .colab-df-container {\n",
              "      display:flex;\n",
              "      flex-wrap:wrap;\n",
              "      gap: 12px;\n",
              "    }\n",
              "\n",
              "    .colab-df-convert {\n",
              "      background-color: #E8F0FE;\n",
              "      border: none;\n",
              "      border-radius: 50%;\n",
              "      cursor: pointer;\n",
              "      display: none;\n",
              "      fill: #1967D2;\n",
              "      height: 32px;\n",
              "      padding: 0 0 0 0;\n",
              "      width: 32px;\n",
              "    }\n",
              "\n",
              "    .colab-df-convert:hover {\n",
              "      background-color: #E2EBFA;\n",
              "      box-shadow: 0px 1px 2px rgba(60, 64, 67, 0.3), 0px 1px 3px 1px rgba(60, 64, 67, 0.15);\n",
              "      fill: #174EA6;\n",
              "    }\n",
              "\n",
              "    [theme=dark] .colab-df-convert {\n",
              "      background-color: #3B4455;\n",
              "      fill: #D2E3FC;\n",
              "    }\n",
              "\n",
              "    [theme=dark] .colab-df-convert:hover {\n",
              "      background-color: #434B5C;\n",
              "      box-shadow: 0px 1px 3px 1px rgba(0, 0, 0, 0.15);\n",
              "      filter: drop-shadow(0px 1px 2px rgba(0, 0, 0, 0.3));\n",
              "      fill: #FFFFFF;\n",
              "    }\n",
              "  </style>\n",
              "\n",
              "      <script>\n",
              "        const buttonEl =\n",
              "          document.querySelector('#df-217c8891-eed0-42b6-94c4-ffe063c78bab button.colab-df-convert');\n",
              "        buttonEl.style.display =\n",
              "          google.colab.kernel.accessAllowed ? 'block' : 'none';\n",
              "\n",
              "        async function convertToInteractive(key) {\n",
              "          const element = document.querySelector('#df-217c8891-eed0-42b6-94c4-ffe063c78bab');\n",
              "          const dataTable =\n",
              "            await google.colab.kernel.invokeFunction('convertToInteractive',\n",
              "                                                     [key], {});\n",
              "          if (!dataTable) return;\n",
              "\n",
              "          const docLinkHtml = 'Like what you see? Visit the ' +\n",
              "            '<a target=\"_blank\" href=https://colab.research.google.com/notebooks/data_table.ipynb>data table notebook</a>'\n",
              "            + ' to learn more about interactive tables.';\n",
              "          element.innerHTML = '';\n",
              "          dataTable['output_type'] = 'display_data';\n",
              "          await google.colab.output.renderOutput(dataTable, element);\n",
              "          const docLink = document.createElement('div');\n",
              "          docLink.innerHTML = docLinkHtml;\n",
              "          element.appendChild(docLink);\n",
              "        }\n",
              "      </script>\n",
              "    </div>\n",
              "  </div>\n",
              "  "
            ],
            "text/plain": [
              "  Country/Region  Confirmed  Deaths  Recovered  Active  New cases  New deaths  \\\n",
              "0    Afghanistan      36263    1269      25198    9796        106          10   \n",
              "1        Albania       4880     144       2745    1991        117           6   \n",
              "2        Algeria      27973    1163      18837    7973        616           8   \n",
              "3        Andorra        907      52        803      52         10           0   \n",
              "4         Angola        950      41        242     667         18           1   \n",
              "\n",
              "   New recovered  Deaths / 100 Cases  Recovered / 100 Cases  \\\n",
              "0             18                3.50                  69.49   \n",
              "1             63                2.95                  56.25   \n",
              "2            749                4.16                  67.34   \n",
              "3              0                5.73                  88.53   \n",
              "4              0                4.32                  25.47   \n",
              "\n",
              "   Deaths / 100 Recovered  Confirmed last week  1 week change  \\\n",
              "0                    5.04                35526            737   \n",
              "1                    5.25                 4171            709   \n",
              "2                    6.17                23691           4282   \n",
              "3                    6.48                  884             23   \n",
              "4                   16.94                  749            201   \n",
              "\n",
              "   1 week % increase             WHO Region  \n",
              "0               2.07  Eastern Mediterranean  \n",
              "1              17.00                 Europe  \n",
              "2              18.07                 Africa  \n",
              "3               2.60                 Europe  \n",
              "4              26.84                 Africa  "
            ]
          },
          "metadata": {},
          "execution_count": 2
        }
      ]
    },
    {
      "cell_type": "code",
      "source": [
        "data.shape"
      ],
      "metadata": {
        "colab": {
          "base_uri": "https://localhost:8080/"
        },
        "id": "bXFmR1j_ilJk",
        "outputId": "cc6ba6f2-d0ed-4e40-8e4f-4d0f7247427c"
      },
      "execution_count": 3,
      "outputs": [
        {
          "output_type": "execute_result",
          "data": {
            "text/plain": [
              "(187, 15)"
            ]
          },
          "metadata": {},
          "execution_count": 3
        }
      ]
    },
    {
      "cell_type": "code",
      "source": [
        "data.isnull()\n",
        "data.isnull().sum()"
      ],
      "metadata": {
        "colab": {
          "base_uri": "https://localhost:8080/"
        },
        "id": "1zw9mtWPiolM",
        "outputId": "4b8966c7-cfac-480c-f766-2a615a9fe6da"
      },
      "execution_count": 4,
      "outputs": [
        {
          "output_type": "execute_result",
          "data": {
            "text/plain": [
              "Country/Region            0\n",
              "Confirmed                 0\n",
              "Deaths                    0\n",
              "Recovered                 0\n",
              "Active                    0\n",
              "New cases                 0\n",
              "New deaths                0\n",
              "New recovered             0\n",
              "Deaths / 100 Cases        0\n",
              "Recovered / 100 Cases     0\n",
              "Deaths / 100 Recovered    0\n",
              "Confirmed last week       0\n",
              "1 week change             0\n",
              "1 week % increase         0\n",
              "WHO Region                0\n",
              "dtype: int64"
            ]
          },
          "metadata": {},
          "execution_count": 4
        }
      ]
    },
    {
      "cell_type": "code",
      "source": [
        "data.describe()"
      ],
      "metadata": {
        "colab": {
          "base_uri": "https://localhost:8080/",
          "height": 362
        },
        "id": "w6CG-Nlov4Vf",
        "outputId": "d32b67a2-3362-4528-a643-cd4c1e52f225"
      },
      "execution_count": 5,
      "outputs": [
        {
          "output_type": "execute_result",
          "data": {
            "text/html": [
              "\n",
              "  <div id=\"df-b3cb60b2-85ae-4cb8-9465-e0fa57951f54\">\n",
              "    <div class=\"colab-df-container\">\n",
              "      <div>\n",
              "<style scoped>\n",
              "    .dataframe tbody tr th:only-of-type {\n",
              "        vertical-align: middle;\n",
              "    }\n",
              "\n",
              "    .dataframe tbody tr th {\n",
              "        vertical-align: top;\n",
              "    }\n",
              "\n",
              "    .dataframe thead th {\n",
              "        text-align: right;\n",
              "    }\n",
              "</style>\n",
              "<table border=\"1\" class=\"dataframe\">\n",
              "  <thead>\n",
              "    <tr style=\"text-align: right;\">\n",
              "      <th></th>\n",
              "      <th>Confirmed</th>\n",
              "      <th>Deaths</th>\n",
              "      <th>Recovered</th>\n",
              "      <th>Active</th>\n",
              "      <th>New cases</th>\n",
              "      <th>New deaths</th>\n",
              "      <th>New recovered</th>\n",
              "      <th>Deaths / 100 Cases</th>\n",
              "      <th>Recovered / 100 Cases</th>\n",
              "      <th>Deaths / 100 Recovered</th>\n",
              "      <th>Confirmed last week</th>\n",
              "      <th>1 week change</th>\n",
              "      <th>1 week % increase</th>\n",
              "    </tr>\n",
              "  </thead>\n",
              "  <tbody>\n",
              "    <tr>\n",
              "      <th>count</th>\n",
              "      <td>1.870000e+02</td>\n",
              "      <td>187.000000</td>\n",
              "      <td>1.870000e+02</td>\n",
              "      <td>1.870000e+02</td>\n",
              "      <td>187.000000</td>\n",
              "      <td>187.000000</td>\n",
              "      <td>187.000000</td>\n",
              "      <td>187.000000</td>\n",
              "      <td>187.000000</td>\n",
              "      <td>187.00</td>\n",
              "      <td>1.870000e+02</td>\n",
              "      <td>187.000000</td>\n",
              "      <td>187.000000</td>\n",
              "    </tr>\n",
              "    <tr>\n",
              "      <th>mean</th>\n",
              "      <td>8.813094e+04</td>\n",
              "      <td>3497.518717</td>\n",
              "      <td>5.063148e+04</td>\n",
              "      <td>3.400194e+04</td>\n",
              "      <td>1222.957219</td>\n",
              "      <td>28.957219</td>\n",
              "      <td>933.812834</td>\n",
              "      <td>3.019519</td>\n",
              "      <td>64.820535</td>\n",
              "      <td>inf</td>\n",
              "      <td>7.868248e+04</td>\n",
              "      <td>9448.459893</td>\n",
              "      <td>13.606203</td>\n",
              "    </tr>\n",
              "    <tr>\n",
              "      <th>std</th>\n",
              "      <td>3.833187e+05</td>\n",
              "      <td>14100.002482</td>\n",
              "      <td>1.901882e+05</td>\n",
              "      <td>2.133262e+05</td>\n",
              "      <td>5710.374790</td>\n",
              "      <td>120.037173</td>\n",
              "      <td>4197.719635</td>\n",
              "      <td>3.454302</td>\n",
              "      <td>26.287694</td>\n",
              "      <td>NaN</td>\n",
              "      <td>3.382737e+05</td>\n",
              "      <td>47491.127684</td>\n",
              "      <td>24.509838</td>\n",
              "    </tr>\n",
              "    <tr>\n",
              "      <th>min</th>\n",
              "      <td>1.000000e+01</td>\n",
              "      <td>0.000000</td>\n",
              "      <td>0.000000e+00</td>\n",
              "      <td>0.000000e+00</td>\n",
              "      <td>0.000000</td>\n",
              "      <td>0.000000</td>\n",
              "      <td>0.000000</td>\n",
              "      <td>0.000000</td>\n",
              "      <td>0.000000</td>\n",
              "      <td>0.00</td>\n",
              "      <td>1.000000e+01</td>\n",
              "      <td>-47.000000</td>\n",
              "      <td>-3.840000</td>\n",
              "    </tr>\n",
              "    <tr>\n",
              "      <th>25%</th>\n",
              "      <td>1.114000e+03</td>\n",
              "      <td>18.500000</td>\n",
              "      <td>6.265000e+02</td>\n",
              "      <td>1.415000e+02</td>\n",
              "      <td>4.000000</td>\n",
              "      <td>0.000000</td>\n",
              "      <td>0.000000</td>\n",
              "      <td>0.945000</td>\n",
              "      <td>48.770000</td>\n",
              "      <td>1.45</td>\n",
              "      <td>1.051500e+03</td>\n",
              "      <td>49.000000</td>\n",
              "      <td>2.775000</td>\n",
              "    </tr>\n",
              "    <tr>\n",
              "      <th>50%</th>\n",
              "      <td>5.059000e+03</td>\n",
              "      <td>108.000000</td>\n",
              "      <td>2.815000e+03</td>\n",
              "      <td>1.600000e+03</td>\n",
              "      <td>49.000000</td>\n",
              "      <td>1.000000</td>\n",
              "      <td>22.000000</td>\n",
              "      <td>2.150000</td>\n",
              "      <td>71.320000</td>\n",
              "      <td>3.62</td>\n",
              "      <td>5.020000e+03</td>\n",
              "      <td>432.000000</td>\n",
              "      <td>6.890000</td>\n",
              "    </tr>\n",
              "    <tr>\n",
              "      <th>75%</th>\n",
              "      <td>4.046050e+04</td>\n",
              "      <td>734.000000</td>\n",
              "      <td>2.260600e+04</td>\n",
              "      <td>9.149000e+03</td>\n",
              "      <td>419.500000</td>\n",
              "      <td>6.000000</td>\n",
              "      <td>221.000000</td>\n",
              "      <td>3.875000</td>\n",
              "      <td>86.885000</td>\n",
              "      <td>6.44</td>\n",
              "      <td>3.708050e+04</td>\n",
              "      <td>3172.000000</td>\n",
              "      <td>16.855000</td>\n",
              "    </tr>\n",
              "    <tr>\n",
              "      <th>max</th>\n",
              "      <td>4.290259e+06</td>\n",
              "      <td>148011.000000</td>\n",
              "      <td>1.846641e+06</td>\n",
              "      <td>2.816444e+06</td>\n",
              "      <td>56336.000000</td>\n",
              "      <td>1076.000000</td>\n",
              "      <td>33728.000000</td>\n",
              "      <td>28.560000</td>\n",
              "      <td>100.000000</td>\n",
              "      <td>inf</td>\n",
              "      <td>3.834677e+06</td>\n",
              "      <td>455582.000000</td>\n",
              "      <td>226.320000</td>\n",
              "    </tr>\n",
              "  </tbody>\n",
              "</table>\n",
              "</div>\n",
              "      <button class=\"colab-df-convert\" onclick=\"convertToInteractive('df-b3cb60b2-85ae-4cb8-9465-e0fa57951f54')\"\n",
              "              title=\"Convert this dataframe to an interactive table.\"\n",
              "              style=\"display:none;\">\n",
              "        \n",
              "  <svg xmlns=\"http://www.w3.org/2000/svg\" height=\"24px\"viewBox=\"0 0 24 24\"\n",
              "       width=\"24px\">\n",
              "    <path d=\"M0 0h24v24H0V0z\" fill=\"none\"/>\n",
              "    <path d=\"M18.56 5.44l.94 2.06.94-2.06 2.06-.94-2.06-.94-.94-2.06-.94 2.06-2.06.94zm-11 1L8.5 8.5l.94-2.06 2.06-.94-2.06-.94L8.5 2.5l-.94 2.06-2.06.94zm10 10l.94 2.06.94-2.06 2.06-.94-2.06-.94-.94-2.06-.94 2.06-2.06.94z\"/><path d=\"M17.41 7.96l-1.37-1.37c-.4-.4-.92-.59-1.43-.59-.52 0-1.04.2-1.43.59L10.3 9.45l-7.72 7.72c-.78.78-.78 2.05 0 2.83L4 21.41c.39.39.9.59 1.41.59.51 0 1.02-.2 1.41-.59l7.78-7.78 2.81-2.81c.8-.78.8-2.07 0-2.86zM5.41 20L4 18.59l7.72-7.72 1.47 1.35L5.41 20z\"/>\n",
              "  </svg>\n",
              "      </button>\n",
              "      \n",
              "  <style>\n",
              "    .colab-df-container {\n",
              "      display:flex;\n",
              "      flex-wrap:wrap;\n",
              "      gap: 12px;\n",
              "    }\n",
              "\n",
              "    .colab-df-convert {\n",
              "      background-color: #E8F0FE;\n",
              "      border: none;\n",
              "      border-radius: 50%;\n",
              "      cursor: pointer;\n",
              "      display: none;\n",
              "      fill: #1967D2;\n",
              "      height: 32px;\n",
              "      padding: 0 0 0 0;\n",
              "      width: 32px;\n",
              "    }\n",
              "\n",
              "    .colab-df-convert:hover {\n",
              "      background-color: #E2EBFA;\n",
              "      box-shadow: 0px 1px 2px rgba(60, 64, 67, 0.3), 0px 1px 3px 1px rgba(60, 64, 67, 0.15);\n",
              "      fill: #174EA6;\n",
              "    }\n",
              "\n",
              "    [theme=dark] .colab-df-convert {\n",
              "      background-color: #3B4455;\n",
              "      fill: #D2E3FC;\n",
              "    }\n",
              "\n",
              "    [theme=dark] .colab-df-convert:hover {\n",
              "      background-color: #434B5C;\n",
              "      box-shadow: 0px 1px 3px 1px rgba(0, 0, 0, 0.15);\n",
              "      filter: drop-shadow(0px 1px 2px rgba(0, 0, 0, 0.3));\n",
              "      fill: #FFFFFF;\n",
              "    }\n",
              "  </style>\n",
              "\n",
              "      <script>\n",
              "        const buttonEl =\n",
              "          document.querySelector('#df-b3cb60b2-85ae-4cb8-9465-e0fa57951f54 button.colab-df-convert');\n",
              "        buttonEl.style.display =\n",
              "          google.colab.kernel.accessAllowed ? 'block' : 'none';\n",
              "\n",
              "        async function convertToInteractive(key) {\n",
              "          const element = document.querySelector('#df-b3cb60b2-85ae-4cb8-9465-e0fa57951f54');\n",
              "          const dataTable =\n",
              "            await google.colab.kernel.invokeFunction('convertToInteractive',\n",
              "                                                     [key], {});\n",
              "          if (!dataTable) return;\n",
              "\n",
              "          const docLinkHtml = 'Like what you see? Visit the ' +\n",
              "            '<a target=\"_blank\" href=https://colab.research.google.com/notebooks/data_table.ipynb>data table notebook</a>'\n",
              "            + ' to learn more about interactive tables.';\n",
              "          element.innerHTML = '';\n",
              "          dataTable['output_type'] = 'display_data';\n",
              "          await google.colab.output.renderOutput(dataTable, element);\n",
              "          const docLink = document.createElement('div');\n",
              "          docLink.innerHTML = docLinkHtml;\n",
              "          element.appendChild(docLink);\n",
              "        }\n",
              "      </script>\n",
              "    </div>\n",
              "  </div>\n",
              "  "
            ],
            "text/plain": [
              "          Confirmed         Deaths     Recovered        Active     New cases  \\\n",
              "count  1.870000e+02     187.000000  1.870000e+02  1.870000e+02    187.000000   \n",
              "mean   8.813094e+04    3497.518717  5.063148e+04  3.400194e+04   1222.957219   \n",
              "std    3.833187e+05   14100.002482  1.901882e+05  2.133262e+05   5710.374790   \n",
              "min    1.000000e+01       0.000000  0.000000e+00  0.000000e+00      0.000000   \n",
              "25%    1.114000e+03      18.500000  6.265000e+02  1.415000e+02      4.000000   \n",
              "50%    5.059000e+03     108.000000  2.815000e+03  1.600000e+03     49.000000   \n",
              "75%    4.046050e+04     734.000000  2.260600e+04  9.149000e+03    419.500000   \n",
              "max    4.290259e+06  148011.000000  1.846641e+06  2.816444e+06  56336.000000   \n",
              "\n",
              "        New deaths  New recovered  Deaths / 100 Cases  Recovered / 100 Cases  \\\n",
              "count   187.000000     187.000000          187.000000             187.000000   \n",
              "mean     28.957219     933.812834            3.019519              64.820535   \n",
              "std     120.037173    4197.719635            3.454302              26.287694   \n",
              "min       0.000000       0.000000            0.000000               0.000000   \n",
              "25%       0.000000       0.000000            0.945000              48.770000   \n",
              "50%       1.000000      22.000000            2.150000              71.320000   \n",
              "75%       6.000000     221.000000            3.875000              86.885000   \n",
              "max    1076.000000   33728.000000           28.560000             100.000000   \n",
              "\n",
              "       Deaths / 100 Recovered  Confirmed last week  1 week change  \\\n",
              "count                  187.00         1.870000e+02     187.000000   \n",
              "mean                      inf         7.868248e+04    9448.459893   \n",
              "std                       NaN         3.382737e+05   47491.127684   \n",
              "min                      0.00         1.000000e+01     -47.000000   \n",
              "25%                      1.45         1.051500e+03      49.000000   \n",
              "50%                      3.62         5.020000e+03     432.000000   \n",
              "75%                      6.44         3.708050e+04    3172.000000   \n",
              "max                       inf         3.834677e+06  455582.000000   \n",
              "\n",
              "       1 week % increase  \n",
              "count         187.000000  \n",
              "mean           13.606203  \n",
              "std            24.509838  \n",
              "min            -3.840000  \n",
              "25%             2.775000  \n",
              "50%             6.890000  \n",
              "75%            16.855000  \n",
              "max           226.320000  "
            ]
          },
          "metadata": {},
          "execution_count": 5
        }
      ]
    },
    {
      "cell_type": "code",
      "source": [
        "df = pd.DataFrame(data)\n",
        "print (df.sum())"
      ],
      "metadata": {
        "colab": {
          "base_uri": "https://localhost:8080/"
        },
        "id": "18WKGGI4etts",
        "outputId": "e7b248d5-313a-4e5b-e4d9-444ef2351d57"
      },
      "execution_count": 6,
      "outputs": [
        {
          "output_type": "stream",
          "name": "stdout",
          "text": [
            "Country/Region            AfghanistanAlbaniaAlgeriaAndorraAngolaAntigua ...\n",
            "Confirmed                                                          16480485\n",
            "Deaths                                                               654036\n",
            "Recovered                                                           9468087\n",
            "Active                                                              6358362\n",
            "New cases                                                            228693\n",
            "New deaths                                                             5415\n",
            "New recovered                                                        174623\n",
            "Deaths / 100 Cases                                                   564.65\n",
            "Recovered / 100 Cases                                              12121.44\n",
            "Deaths / 100 Recovered                                                  inf\n",
            "Confirmed last week                                                14713623\n",
            "1 week change                                                       1766862\n",
            "1 week % increase                                                   2544.36\n",
            "WHO Region                Eastern MediterraneanEuropeAfricaEuropeAfricaA...\n",
            "dtype: object\n"
          ]
        }
      ]
    },
    {
      "cell_type": "code",
      "source": [
        "print((df['Deaths'].sum() / df['Confirmed'].sum()) * 100)\n",
        "print((df['Recovered'].sum() / df['Confirmed'].sum()) * 100)\n"
      ],
      "metadata": {
        "colab": {
          "base_uri": "https://localhost:8080/"
        },
        "id": "0r6R5kTOp9Yx",
        "outputId": "c05b470d-4792-4ad0-ecbc-0bb9ff07c001"
      },
      "execution_count": 7,
      "outputs": [
        {
          "output_type": "stream",
          "name": "stdout",
          "text": [
            "3.968548255709708\n",
            "57.450293483474546\n"
          ]
        }
      ]
    },
    {
      "cell_type": "markdown",
      "source": [
        "Around 4% of people die due to covid-19 who have tested covid-19 positive and 57.5% of people recovered from covid-19 who have tested covid-19 positive. \n"
      ],
      "metadata": {
        "id": "gd1RXbcbpwYl"
      }
    },
    {
      "cell_type": "code",
      "source": [
        "print (df.count())"
      ],
      "metadata": {
        "colab": {
          "base_uri": "https://localhost:8080/"
        },
        "id": "4AP0Sm6bet5s",
        "outputId": "a06a7e25-e08f-4c1e-fac8-1c7280a654c7"
      },
      "execution_count": 8,
      "outputs": [
        {
          "output_type": "stream",
          "name": "stdout",
          "text": [
            "Country/Region            187\n",
            "Confirmed                 187\n",
            "Deaths                    187\n",
            "Recovered                 187\n",
            "Active                    187\n",
            "New cases                 187\n",
            "New deaths                187\n",
            "New recovered             187\n",
            "Deaths / 100 Cases        187\n",
            "Recovered / 100 Cases     187\n",
            "Deaths / 100 Recovered    187\n",
            "Confirmed last week       187\n",
            "1 week change             187\n",
            "1 week % increase         187\n",
            "WHO Region                187\n",
            "dtype: int64\n"
          ]
        }
      ]
    },
    {
      "cell_type": "code",
      "source": [
        "# Calculating Percentage\n",
        "df['Recovered'] = (df['Recovered'] / df['Recovered'].sum()) * 100\n",
        "p=df['Recovered'].max()\n",
        "print(p)\n",
        "\n",
        "df_new = df[df['Recovered'] == p ]\n",
        "print(df_new)\n"
      ],
      "metadata": {
        "colab": {
          "base_uri": "https://localhost:8080/"
        },
        "id": "t_caonzneuAi",
        "outputId": "f631a7f2-95c4-43a2-cbd7-a66781b0cf9c"
      },
      "execution_count": 9,
      "outputs": [
        {
          "output_type": "stream",
          "name": "stdout",
          "text": [
            "19.503844863275972\n",
            "   Country/Region  Confirmed  Deaths  Recovered  Active  New cases  \\\n",
            "23         Brazil    2442375   87618  19.503845  508116      23284   \n",
            "\n",
            "    New deaths  New recovered  Deaths / 100 Cases  Recovered / 100 Cases  \\\n",
            "23         614          33728                3.59                  75.61   \n",
            "\n",
            "    Deaths / 100 Recovered  Confirmed last week  1 week change  \\\n",
            "23                    4.74              2118646         323729   \n",
            "\n",
            "    1 week % increase WHO Region  \n",
            "23              15.28   Americas  \n"
          ]
        }
      ]
    },
    {
      "cell_type": "markdown",
      "source": [
        "Maximum number fo people recovered is 19.50% which is from Brazil Country."
      ],
      "metadata": {
        "id": "_Q5w-jFUrWd1"
      }
    },
    {
      "cell_type": "code",
      "source": [
        "df_new = df[df['Country/Region'] == 'India' ]\n",
        "print(df_new)"
      ],
      "metadata": {
        "colab": {
          "base_uri": "https://localhost:8080/"
        },
        "id": "kcvCsKAWPMUU",
        "outputId": "0e52b720-9818-432f-906a-f0d71f93b5af"
      },
      "execution_count": 10,
      "outputs": [
        {
          "output_type": "stream",
          "name": "stdout",
          "text": [
            "   Country/Region  Confirmed  Deaths  Recovered  Active  New cases  \\\n",
            "79          India    1480073   33408  10.046021  495499      44457   \n",
            "\n",
            "    New deaths  New recovered  Deaths / 100 Cases  Recovered / 100 Cases  \\\n",
            "79         637          33598                2.26                  64.26   \n",
            "\n",
            "    Deaths / 100 Recovered  Confirmed last week  1 week change  \\\n",
            "79                    3.51              1155338         324735   \n",
            "\n",
            "    1 week % increase       WHO Region  \n",
            "79              28.11  South-East Asia  \n"
          ]
        }
      ]
    },
    {
      "cell_type": "code",
      "source": [
        "print(\"Mean\")\n",
        "print(\"Confirmed Cases:\",data['Confirmed'].mean())\n",
        "print(\"Deaths:\",data['Deaths'].mean())\n",
        "print(\"Recovered Cases:\",data['Recovered'].mean())\n",
        "print(\"Active Cases:\",data['Active'].mean())\n"
      ],
      "metadata": {
        "colab": {
          "base_uri": "https://localhost:8080/"
        },
        "id": "4EFfepZXj23E",
        "outputId": "5b0288d0-37b2-4883-ae48-a1f0de393606"
      },
      "execution_count": 11,
      "outputs": [
        {
          "output_type": "stream",
          "name": "stdout",
          "text": [
            "Mean\n",
            "Confirmed Cases: 88130.935828877\n",
            "Deaths: 3497.51871657754\n",
            "Recovered Cases: 50631.48128342246\n",
            "Active Cases: 34001.935828877\n"
          ]
        }
      ]
    },
    {
      "cell_type": "markdown",
      "source": [
        "Mean is the average of the values. Here, the result tells that the total confirmed cases, deaths, active cases in India is more than the average. Also, Recovered cases are less."
      ],
      "metadata": {
        "id": "BxzXrzYEPB0z"
      }
    },
    {
      "cell_type": "code",
      "source": [
        "print(\"Median\")\n",
        "print(\"Confirmed Cases:\",data['Confirmed'].median())\n",
        "print(\"Deaths:\",data['Deaths'].median())\n",
        "print(\"Recovered Cases:\",data['Recovered'].median())\n",
        "print(\"Active Cases:\",data['Active'].median())\n"
      ],
      "metadata": {
        "colab": {
          "base_uri": "https://localhost:8080/"
        },
        "id": "wrV1xwVhk1yn",
        "outputId": "3c87824b-e6c9-493d-b092-033abe6d1a61"
      },
      "execution_count": 12,
      "outputs": [
        {
          "output_type": "stream",
          "name": "stdout",
          "text": [
            "Median\n",
            "Confirmed Cases: 5059.0\n",
            "Deaths: 108.0\n",
            "Recovered Cases: 2815.0\n",
            "Active Cases: 1600.0\n"
          ]
        }
      ]
    },
    {
      "cell_type": "code",
      "source": [
        "from statistics import mode\n",
        "print(\"Mode:\")\n",
        "print(\"Confirmed Cases:\",data['Confirmed'].mode())\n",
        "# print(\"Confirmed Cases:\",mode(data['Confirmed']))\n",
        "print(\"Deaths:\",data['Deaths'].mode())\n",
        "print(\"Recovered Cases:\",data['Recovered'].mode())\n",
        "print(\"Active Cases:\",data['Active'].mode())\n"
      ],
      "metadata": {
        "id": "bmhUSI1klMj_",
        "colab": {
          "base_uri": "https://localhost:8080/"
        },
        "outputId": "f58b3964-eb51-4b4e-e7a7-b0e500ef3eaa"
      },
      "execution_count": 13,
      "outputs": [
        {
          "output_type": "stream",
          "name": "stdout",
          "text": [
            "Mode:\n",
            "Confirmed Cases: 0       24\n",
            "1       86\n",
            "2    10621\n",
            "dtype: int64\n",
            "Deaths: 0    0\n",
            "dtype: int64\n",
            "Recovered Cases: 0    0\n",
            "dtype: int64\n",
            "Active Cases: 0    0\n",
            "dtype: int64\n"
          ]
        }
      ]
    },
    {
      "cell_type": "code",
      "source": [
        "print(data['Recovered'].min())\n",
        "print(data['Recovered'].max())"
      ],
      "metadata": {
        "colab": {
          "base_uri": "https://localhost:8080/"
        },
        "id": "jt2DruPil-l_",
        "outputId": "673114c7-f0c4-4746-ed3a-b9cd7e3edd68"
      },
      "execution_count": 14,
      "outputs": [
        {
          "output_type": "stream",
          "name": "stdout",
          "text": [
            "0\n",
            "1846641\n"
          ]
        }
      ]
    },
    {
      "cell_type": "code",
      "source": [
        "dif = data['Confirmed'] - data['Confirmed'].mean()"
      ],
      "metadata": {
        "id": "a_PlSq26kpYh"
      },
      "execution_count": 15,
      "outputs": []
    },
    {
      "cell_type": "code",
      "source": [
        "var =(dif**2).mean()\n",
        "print(\"Variance: \",var)\n",
        "sd = var ** (1/2)\n",
        "print(\"Standard Deviation: \",sd)"
      ],
      "metadata": {
        "colab": {
          "base_uri": "https://localhost:8080/"
        },
        "id": "UGZMCamXkyGi",
        "outputId": "a54a06b2-3701-4fd8-f5fc-1206f11b3568"
      },
      "execution_count": 16,
      "outputs": [
        {
          "output_type": "stream",
          "name": "stdout",
          "text": [
            "Variance:  146147459013.93173\n",
            "Standard Deviation:  382292.3737323722\n"
          ]
        }
      ]
    },
    {
      "cell_type": "code",
      "source": [
        "print(\"Variance\")\n",
        "print(\"Confirmed Cases:\",data['Confirmed'].var())\n",
        "print(\"Deaths:\",data['Deaths'].var(ddof = 0))\n",
        "print(\"Recovered Cases:\",data['Recovered'].var(ddof = 0))\n",
        "print(\"Active Cases:\",data['Active'].var(ddof = 0))\n"
      ],
      "metadata": {
        "colab": {
          "base_uri": "https://localhost:8080/"
        },
        "id": "f1z4MzMqlst_",
        "outputId": "ff59cb0f-b31f-4846-cd49-cfbc8220bec7"
      },
      "execution_count": 17,
      "outputs": [
        {
          "output_type": "stream",
          "name": "stdout",
          "text": [
            "Variance\n",
            "Confirmed Cases: 146933198040.88837\n",
            "Deaths: 197746914.53841975\n",
            "Recovered Cases: 35978116744.5491\n",
            "Active Cases: 45264697655.74989\n"
          ]
        }
      ]
    },
    {
      "cell_type": "code",
      "source": [
        "print(\"SD\")\n",
        "print(\"Confirmed Cases:\",data['Confirmed'].std())\n",
        "print(\"Deaths:\",data['Deaths'].std(ddof = 0))\n",
        "print(\"Recovered Cases:\",data['Recovered'].std(ddof = 0))\n",
        "print(\"Active Cases:\",data['Active'].std(ddof = 0))\n"
      ],
      "metadata": {
        "colab": {
          "base_uri": "https://localhost:8080/"
        },
        "id": "pnKwVY1Cl3zp",
        "outputId": "886aac94-411d-49dc-a0f6-d3be67e3d9a7"
      },
      "execution_count": 18,
      "outputs": [
        {
          "output_type": "stream",
          "name": "stdout",
          "text": [
            "SD\n",
            "Confirmed Cases: 383318.66383061546\n",
            "Deaths: 14062.251403613142\n",
            "Recovered Cases: 189678.98340235036\n",
            "Active Cases: 212755.01793318507\n"
          ]
        }
      ]
    },
    {
      "cell_type": "markdown",
      "source": [
        "A standard deviation (or σ) is a measure of how dispersed the data is in relation to the mean. Low standard deviation means data are clustered around the mean, and high standard deviation indicates data are more spread out. Here, the SD is high which indicates data are more spread out. \n"
      ],
      "metadata": {
        "id": "c6yCSKIwQM16"
      }
    },
    {
      "cell_type": "code",
      "source": [
        "data.skew(axis = 0, skipna = True)"
      ],
      "metadata": {
        "colab": {
          "base_uri": "https://localhost:8080/"
        },
        "id": "RY3gp_4KmeKu",
        "outputId": "c291426f-81ee-4059-f745-6c2d5971a768"
      },
      "execution_count": 19,
      "outputs": [
        {
          "output_type": "stream",
          "name": "stderr",
          "text": [
            "/usr/local/lib/python3.7/dist-packages/ipykernel_launcher.py:1: FutureWarning: Dropping of nuisance columns in DataFrame reductions (with 'numeric_only=None') is deprecated; in a future version this will raise TypeError.  Select only valid columns before calling the reduction.\n",
            "  \"\"\"Entry point for launching an IPython kernel.\n"
          ]
        },
        {
          "output_type": "execute_result",
          "data": {
            "text/plain": [
              "Confirmed                  8.725676\n",
              "Deaths                     7.464481\n",
              "Recovered                  6.983644\n",
              "Active                    12.182067\n",
              "New cases                  7.720320\n",
              "New deaths                 5.970033\n",
              "New recovered              6.769567\n",
              "Deaths / 100 Cases         3.352173\n",
              "Recovered / 100 Cases     -0.823366\n",
              "Deaths / 100 Recovered          NaN\n",
              "Confirmed last week        8.865198\n",
              "1 week change              7.692012\n",
              "1 week % increase          6.114613\n",
              "dtype: float64"
            ]
          },
          "metadata": {},
          "execution_count": 19
        }
      ]
    },
    {
      "cell_type": "code",
      "source": [
        "print(\"Q2 quantile of arr : \", np.quantile(data['Confirmed'], .50))\n",
        "print(\"Q1 quantile of arr : \", np.quantile(data['Confirmed'], .25))\n",
        "print(\"Q3 quantile of arr : \", np.quantile(data['Confirmed'], .75))\n",
        "print(\"100th quantile of arr : \", np.quantile(data['Confirmed'], .1)) "
      ],
      "metadata": {
        "colab": {
          "base_uri": "https://localhost:8080/"
        },
        "id": "1bX3lPVrmyvG",
        "outputId": "9171b63a-40db-4727-9d28-5a7eb0318229"
      },
      "execution_count": 20,
      "outputs": [
        {
          "output_type": "stream",
          "name": "stdout",
          "text": [
            "Q2 quantile of arr :  5059.0\n",
            "Q1 quantile of arr :  1114.0\n",
            "Q3 quantile of arr :  40460.5\n",
            "100th quantile of arr :  131.00000000000003\n"
          ]
        }
      ]
    },
    {
      "cell_type": "markdown",
      "source": [
        "The first quartile or Q1 is the value in the data set such that 25% of the data points are less than 1114 and 75% of the data set is greater than 1114. Similarly, for Q2 it is 5059, Q3: 40460, and Q4: 131.\n"
      ],
      "metadata": {
        "id": "sSsbmBIAQT_7"
      }
    },
    {
      "cell_type": "code",
      "source": [
        "data.cov()"
      ],
      "metadata": {
        "colab": {
          "base_uri": "https://localhost:8080/",
          "height": 763
        },
        "id": "01eLvcesmewK",
        "outputId": "c253379d-45de-4133-dc4f-0297af41e397"
      },
      "execution_count": 21,
      "outputs": [
        {
          "output_type": "stream",
          "name": "stderr",
          "text": [
            "/usr/local/lib/python3.7/dist-packages/numpy/lib/function_base.py:2536: RuntimeWarning: invalid value encountered in subtract\n",
            "  X -= avg[:, None]\n"
          ]
        },
        {
          "output_type": "execute_result",
          "data": {
            "text/html": [
              "\n",
              "  <div id=\"df-9116a29e-3529-4fb5-8bd6-5fdfa43f1d03\">\n",
              "    <div class=\"colab-df-container\">\n",
              "      <div>\n",
              "<style scoped>\n",
              "    .dataframe tbody tr th:only-of-type {\n",
              "        vertical-align: middle;\n",
              "    }\n",
              "\n",
              "    .dataframe tbody tr th {\n",
              "        vertical-align: top;\n",
              "    }\n",
              "\n",
              "    .dataframe thead th {\n",
              "        text-align: right;\n",
              "    }\n",
              "</style>\n",
              "<table border=\"1\" class=\"dataframe\">\n",
              "  <thead>\n",
              "    <tr style=\"text-align: right;\">\n",
              "      <th></th>\n",
              "      <th>Confirmed</th>\n",
              "      <th>Deaths</th>\n",
              "      <th>Recovered</th>\n",
              "      <th>Active</th>\n",
              "      <th>New cases</th>\n",
              "      <th>New deaths</th>\n",
              "      <th>New recovered</th>\n",
              "      <th>Deaths / 100 Cases</th>\n",
              "      <th>Recovered / 100 Cases</th>\n",
              "      <th>Deaths / 100 Recovered</th>\n",
              "      <th>Confirmed last week</th>\n",
              "      <th>1 week change</th>\n",
              "      <th>1 week % increase</th>\n",
              "    </tr>\n",
              "  </thead>\n",
              "  <tbody>\n",
              "    <tr>\n",
              "      <th>Confirmed</th>\n",
              "      <td>1.469332e+11</td>\n",
              "      <td>5.051853e+09</td>\n",
              "      <td>697894.904133</td>\n",
              "      <td>7.580405e+10</td>\n",
              "      <td>1.991280e+09</td>\n",
              "      <td>4.010829e+07</td>\n",
              "      <td>1.382592e+09</td>\n",
              "      <td>84147.015507</td>\n",
              "      <td>-653114.250019</td>\n",
              "      <td>NaN</td>\n",
              "      <td>1.295534e+11</td>\n",
              "      <td>1.737976e+10</td>\n",
              "      <td>-95460.699385</td>\n",
              "    </tr>\n",
              "    <tr>\n",
              "      <th>Deaths</th>\n",
              "      <td>5.051853e+09</td>\n",
              "      <td>1.988101e+08</td>\n",
              "      <td>23567.586705</td>\n",
              "      <td>2.621643e+09</td>\n",
              "      <td>6.497460e+07</td>\n",
              "      <td>1.377988e+06</td>\n",
              "      <td>4.528545e+07</td>\n",
              "      <td>12252.660305</td>\n",
              "      <td>-42450.966354</td>\n",
              "      <td>NaN</td>\n",
              "      <td>4.479102e+09</td>\n",
              "      <td>5.727502e+08</td>\n",
              "      <td>-11994.562106</td>\n",
              "    </tr>\n",
              "    <tr>\n",
              "      <th>Recovered</th>\n",
              "      <td>6.978949e+05</td>\n",
              "      <td>2.356759e+04</td>\n",
              "      <td>4.034991</td>\n",
              "      <td>2.922908e+05</td>\n",
              "      <td>9.393750e+03</td>\n",
              "      <td>1.978017e+02</td>\n",
              "      <td>7.750797e+03</td>\n",
              "      <td>0.336101</td>\n",
              "      <td>1.405130</td>\n",
              "      <td>NaN</td>\n",
              "      <td>6.110826e+05</td>\n",
              "      <td>8.681231e+04</td>\n",
              "      <td>-0.674355</td>\n",
              "    </tr>\n",
              "    <tr>\n",
              "      <th>Active</th>\n",
              "      <td>7.580405e+10</td>\n",
              "      <td>2.621643e+09</td>\n",
              "      <td>292290.824948</td>\n",
              "      <td>4.550806e+10</td>\n",
              "      <td>1.036897e+09</td>\n",
              "      <td>2.000227e+07</td>\n",
              "      <td>6.034547e+08</td>\n",
              "      <td>40072.037550</td>\n",
              "      <td>-743702.226793</td>\n",
              "      <td>NaN</td>\n",
              "      <td>6.721650e+10</td>\n",
              "      <td>8.587547e+09</td>\n",
              "      <td>-19617.630944</td>\n",
              "    </tr>\n",
              "    <tr>\n",
              "      <th>New cases</th>\n",
              "      <td>1.991280e+09</td>\n",
              "      <td>6.497460e+07</td>\n",
              "      <td>9393.749645</td>\n",
              "      <td>1.036897e+09</td>\n",
              "      <td>3.260838e+07</td>\n",
              "      <td>6.415514e+05</td>\n",
              "      <td>2.192741e+07</td>\n",
              "      <td>396.563528</td>\n",
              "      <td>-11808.692719</td>\n",
              "      <td>NaN</td>\n",
              "      <td>1.730937e+09</td>\n",
              "      <td>2.603425e+08</td>\n",
              "      <td>4309.459407</td>\n",
              "    </tr>\n",
              "    <tr>\n",
              "      <th>New deaths</th>\n",
              "      <td>4.010829e+07</td>\n",
              "      <td>1.377988e+06</td>\n",
              "      <td>197.801709</td>\n",
              "      <td>2.000227e+07</td>\n",
              "      <td>6.415514e+05</td>\n",
              "      <td>1.440892e+04</td>\n",
              "      <td>4.480694e+05</td>\n",
              "      <td>25.044065</td>\n",
              "      <td>-198.139009</td>\n",
              "      <td>NaN</td>\n",
              "      <td>3.500665e+07</td>\n",
              "      <td>5.101644e+06</td>\n",
              "      <td>74.414353</td>\n",
              "    </tr>\n",
              "    <tr>\n",
              "      <th>New recovered</th>\n",
              "      <td>1.382592e+09</td>\n",
              "      <td>4.528545e+07</td>\n",
              "      <td>7750.797317</td>\n",
              "      <td>6.034547e+08</td>\n",
              "      <td>2.192741e+07</td>\n",
              "      <td>4.480694e+05</td>\n",
              "      <td>1.762085e+07</td>\n",
              "      <td>247.806952</td>\n",
              "      <td>-2680.701512</td>\n",
              "      <td>NaN</td>\n",
              "      <td>1.192344e+09</td>\n",
              "      <td>1.902481e+08</td>\n",
              "      <td>3360.460200</td>\n",
              "    </tr>\n",
              "    <tr>\n",
              "      <th>Deaths / 100 Cases</th>\n",
              "      <td>8.414702e+04</td>\n",
              "      <td>1.225266e+04</td>\n",
              "      <td>0.336101</td>\n",
              "      <td>4.007204e+04</td>\n",
              "      <td>3.965635e+02</td>\n",
              "      <td>2.504407e+01</td>\n",
              "      <td>2.478070e+02</td>\n",
              "      <td>11.932206</td>\n",
              "      <td>-15.338873</td>\n",
              "      <td>NaN</td>\n",
              "      <td>8.167070e+04</td>\n",
              "      <td>2.476314e+03</td>\n",
              "      <td>-11.390256</td>\n",
              "    </tr>\n",
              "    <tr>\n",
              "      <th>Recovered / 100 Cases</th>\n",
              "      <td>-6.531143e+05</td>\n",
              "      <td>-4.245097e+04</td>\n",
              "      <td>1.405130</td>\n",
              "      <td>-7.437022e+05</td>\n",
              "      <td>-1.180869e+04</td>\n",
              "      <td>-1.981390e+02</td>\n",
              "      <td>-2.680702e+03</td>\n",
              "      <td>-15.338873</td>\n",
              "      <td>691.042870</td>\n",
              "      <td>NaN</td>\n",
              "      <td>-5.744472e+05</td>\n",
              "      <td>-7.866710e+04</td>\n",
              "      <td>-254.020816</td>\n",
              "    </tr>\n",
              "    <tr>\n",
              "      <th>Deaths / 100 Recovered</th>\n",
              "      <td>NaN</td>\n",
              "      <td>NaN</td>\n",
              "      <td>NaN</td>\n",
              "      <td>NaN</td>\n",
              "      <td>NaN</td>\n",
              "      <td>NaN</td>\n",
              "      <td>NaN</td>\n",
              "      <td>NaN</td>\n",
              "      <td>NaN</td>\n",
              "      <td>NaN</td>\n",
              "      <td>NaN</td>\n",
              "      <td>NaN</td>\n",
              "      <td>NaN</td>\n",
              "    </tr>\n",
              "    <tr>\n",
              "      <th>Confirmed last week</th>\n",
              "      <td>1.295534e+11</td>\n",
              "      <td>4.479102e+09</td>\n",
              "      <td>611082.595583</td>\n",
              "      <td>6.721650e+10</td>\n",
              "      <td>1.730937e+09</td>\n",
              "      <td>3.500665e+07</td>\n",
              "      <td>1.192344e+09</td>\n",
              "      <td>81670.701413</td>\n",
              "      <td>-574447.153374</td>\n",
              "      <td>NaN</td>\n",
              "      <td>1.144291e+11</td>\n",
              "      <td>1.512436e+10</td>\n",
              "      <td>-126415.991194</td>\n",
              "    </tr>\n",
              "    <tr>\n",
              "      <th>1 week change</th>\n",
              "      <td>1.737976e+10</td>\n",
              "      <td>5.727502e+08</td>\n",
              "      <td>86812.308549</td>\n",
              "      <td>8.587547e+09</td>\n",
              "      <td>2.603425e+08</td>\n",
              "      <td>5.101644e+06</td>\n",
              "      <td>1.902481e+08</td>\n",
              "      <td>2476.314093</td>\n",
              "      <td>-78667.096645</td>\n",
              "      <td>NaN</td>\n",
              "      <td>1.512436e+10</td>\n",
              "      <td>2.255407e+09</td>\n",
              "      <td>30955.291809</td>\n",
              "    </tr>\n",
              "    <tr>\n",
              "      <th>1 week % increase</th>\n",
              "      <td>-9.546070e+04</td>\n",
              "      <td>-1.199456e+04</td>\n",
              "      <td>-0.674355</td>\n",
              "      <td>-1.961763e+04</td>\n",
              "      <td>4.309459e+03</td>\n",
              "      <td>7.441435e+01</td>\n",
              "      <td>3.360460e+03</td>\n",
              "      <td>-11.390256</td>\n",
              "      <td>-254.020816</td>\n",
              "      <td>NaN</td>\n",
              "      <td>-1.264160e+05</td>\n",
              "      <td>3.095529e+04</td>\n",
              "      <td>600.732146</td>\n",
              "    </tr>\n",
              "  </tbody>\n",
              "</table>\n",
              "</div>\n",
              "      <button class=\"colab-df-convert\" onclick=\"convertToInteractive('df-9116a29e-3529-4fb5-8bd6-5fdfa43f1d03')\"\n",
              "              title=\"Convert this dataframe to an interactive table.\"\n",
              "              style=\"display:none;\">\n",
              "        \n",
              "  <svg xmlns=\"http://www.w3.org/2000/svg\" height=\"24px\"viewBox=\"0 0 24 24\"\n",
              "       width=\"24px\">\n",
              "    <path d=\"M0 0h24v24H0V0z\" fill=\"none\"/>\n",
              "    <path d=\"M18.56 5.44l.94 2.06.94-2.06 2.06-.94-2.06-.94-.94-2.06-.94 2.06-2.06.94zm-11 1L8.5 8.5l.94-2.06 2.06-.94-2.06-.94L8.5 2.5l-.94 2.06-2.06.94zm10 10l.94 2.06.94-2.06 2.06-.94-2.06-.94-.94-2.06-.94 2.06-2.06.94z\"/><path d=\"M17.41 7.96l-1.37-1.37c-.4-.4-.92-.59-1.43-.59-.52 0-1.04.2-1.43.59L10.3 9.45l-7.72 7.72c-.78.78-.78 2.05 0 2.83L4 21.41c.39.39.9.59 1.41.59.51 0 1.02-.2 1.41-.59l7.78-7.78 2.81-2.81c.8-.78.8-2.07 0-2.86zM5.41 20L4 18.59l7.72-7.72 1.47 1.35L5.41 20z\"/>\n",
              "  </svg>\n",
              "      </button>\n",
              "      \n",
              "  <style>\n",
              "    .colab-df-container {\n",
              "      display:flex;\n",
              "      flex-wrap:wrap;\n",
              "      gap: 12px;\n",
              "    }\n",
              "\n",
              "    .colab-df-convert {\n",
              "      background-color: #E8F0FE;\n",
              "      border: none;\n",
              "      border-radius: 50%;\n",
              "      cursor: pointer;\n",
              "      display: none;\n",
              "      fill: #1967D2;\n",
              "      height: 32px;\n",
              "      padding: 0 0 0 0;\n",
              "      width: 32px;\n",
              "    }\n",
              "\n",
              "    .colab-df-convert:hover {\n",
              "      background-color: #E2EBFA;\n",
              "      box-shadow: 0px 1px 2px rgba(60, 64, 67, 0.3), 0px 1px 3px 1px rgba(60, 64, 67, 0.15);\n",
              "      fill: #174EA6;\n",
              "    }\n",
              "\n",
              "    [theme=dark] .colab-df-convert {\n",
              "      background-color: #3B4455;\n",
              "      fill: #D2E3FC;\n",
              "    }\n",
              "\n",
              "    [theme=dark] .colab-df-convert:hover {\n",
              "      background-color: #434B5C;\n",
              "      box-shadow: 0px 1px 3px 1px rgba(0, 0, 0, 0.15);\n",
              "      filter: drop-shadow(0px 1px 2px rgba(0, 0, 0, 0.3));\n",
              "      fill: #FFFFFF;\n",
              "    }\n",
              "  </style>\n",
              "\n",
              "      <script>\n",
              "        const buttonEl =\n",
              "          document.querySelector('#df-9116a29e-3529-4fb5-8bd6-5fdfa43f1d03 button.colab-df-convert');\n",
              "        buttonEl.style.display =\n",
              "          google.colab.kernel.accessAllowed ? 'block' : 'none';\n",
              "\n",
              "        async function convertToInteractive(key) {\n",
              "          const element = document.querySelector('#df-9116a29e-3529-4fb5-8bd6-5fdfa43f1d03');\n",
              "          const dataTable =\n",
              "            await google.colab.kernel.invokeFunction('convertToInteractive',\n",
              "                                                     [key], {});\n",
              "          if (!dataTable) return;\n",
              "\n",
              "          const docLinkHtml = 'Like what you see? Visit the ' +\n",
              "            '<a target=\"_blank\" href=https://colab.research.google.com/notebooks/data_table.ipynb>data table notebook</a>'\n",
              "            + ' to learn more about interactive tables.';\n",
              "          element.innerHTML = '';\n",
              "          dataTable['output_type'] = 'display_data';\n",
              "          await google.colab.output.renderOutput(dataTable, element);\n",
              "          const docLink = document.createElement('div');\n",
              "          docLink.innerHTML = docLinkHtml;\n",
              "          element.appendChild(docLink);\n",
              "        }\n",
              "      </script>\n",
              "    </div>\n",
              "  </div>\n",
              "  "
            ],
            "text/plain": [
              "                           Confirmed        Deaths      Recovered  \\\n",
              "Confirmed               1.469332e+11  5.051853e+09  697894.904133   \n",
              "Deaths                  5.051853e+09  1.988101e+08   23567.586705   \n",
              "Recovered               6.978949e+05  2.356759e+04       4.034991   \n",
              "Active                  7.580405e+10  2.621643e+09  292290.824948   \n",
              "New cases               1.991280e+09  6.497460e+07    9393.749645   \n",
              "New deaths              4.010829e+07  1.377988e+06     197.801709   \n",
              "New recovered           1.382592e+09  4.528545e+07    7750.797317   \n",
              "Deaths / 100 Cases      8.414702e+04  1.225266e+04       0.336101   \n",
              "Recovered / 100 Cases  -6.531143e+05 -4.245097e+04       1.405130   \n",
              "Deaths / 100 Recovered           NaN           NaN            NaN   \n",
              "Confirmed last week     1.295534e+11  4.479102e+09  611082.595583   \n",
              "1 week change           1.737976e+10  5.727502e+08   86812.308549   \n",
              "1 week % increase      -9.546070e+04 -1.199456e+04      -0.674355   \n",
              "\n",
              "                              Active     New cases    New deaths  \\\n",
              "Confirmed               7.580405e+10  1.991280e+09  4.010829e+07   \n",
              "Deaths                  2.621643e+09  6.497460e+07  1.377988e+06   \n",
              "Recovered               2.922908e+05  9.393750e+03  1.978017e+02   \n",
              "Active                  4.550806e+10  1.036897e+09  2.000227e+07   \n",
              "New cases               1.036897e+09  3.260838e+07  6.415514e+05   \n",
              "New deaths              2.000227e+07  6.415514e+05  1.440892e+04   \n",
              "New recovered           6.034547e+08  2.192741e+07  4.480694e+05   \n",
              "Deaths / 100 Cases      4.007204e+04  3.965635e+02  2.504407e+01   \n",
              "Recovered / 100 Cases  -7.437022e+05 -1.180869e+04 -1.981390e+02   \n",
              "Deaths / 100 Recovered           NaN           NaN           NaN   \n",
              "Confirmed last week     6.721650e+10  1.730937e+09  3.500665e+07   \n",
              "1 week change           8.587547e+09  2.603425e+08  5.101644e+06   \n",
              "1 week % increase      -1.961763e+04  4.309459e+03  7.441435e+01   \n",
              "\n",
              "                        New recovered  Deaths / 100 Cases  \\\n",
              "Confirmed                1.382592e+09        84147.015507   \n",
              "Deaths                   4.528545e+07        12252.660305   \n",
              "Recovered                7.750797e+03            0.336101   \n",
              "Active                   6.034547e+08        40072.037550   \n",
              "New cases                2.192741e+07          396.563528   \n",
              "New deaths               4.480694e+05           25.044065   \n",
              "New recovered            1.762085e+07          247.806952   \n",
              "Deaths / 100 Cases       2.478070e+02           11.932206   \n",
              "Recovered / 100 Cases   -2.680702e+03          -15.338873   \n",
              "Deaths / 100 Recovered            NaN                 NaN   \n",
              "Confirmed last week      1.192344e+09        81670.701413   \n",
              "1 week change            1.902481e+08         2476.314093   \n",
              "1 week % increase        3.360460e+03          -11.390256   \n",
              "\n",
              "                        Recovered / 100 Cases  Deaths / 100 Recovered  \\\n",
              "Confirmed                      -653114.250019                     NaN   \n",
              "Deaths                          -42450.966354                     NaN   \n",
              "Recovered                            1.405130                     NaN   \n",
              "Active                         -743702.226793                     NaN   \n",
              "New cases                       -11808.692719                     NaN   \n",
              "New deaths                        -198.139009                     NaN   \n",
              "New recovered                    -2680.701512                     NaN   \n",
              "Deaths / 100 Cases                 -15.338873                     NaN   \n",
              "Recovered / 100 Cases              691.042870                     NaN   \n",
              "Deaths / 100 Recovered                    NaN                     NaN   \n",
              "Confirmed last week            -574447.153374                     NaN   \n",
              "1 week change                   -78667.096645                     NaN   \n",
              "1 week % increase                 -254.020816                     NaN   \n",
              "\n",
              "                        Confirmed last week  1 week change  1 week % increase  \n",
              "Confirmed                      1.295534e+11   1.737976e+10      -95460.699385  \n",
              "Deaths                         4.479102e+09   5.727502e+08      -11994.562106  \n",
              "Recovered                      6.110826e+05   8.681231e+04          -0.674355  \n",
              "Active                         6.721650e+10   8.587547e+09      -19617.630944  \n",
              "New cases                      1.730937e+09   2.603425e+08        4309.459407  \n",
              "New deaths                     3.500665e+07   5.101644e+06          74.414353  \n",
              "New recovered                  1.192344e+09   1.902481e+08        3360.460200  \n",
              "Deaths / 100 Cases             8.167070e+04   2.476314e+03         -11.390256  \n",
              "Recovered / 100 Cases         -5.744472e+05  -7.866710e+04        -254.020816  \n",
              "Deaths / 100 Recovered                  NaN            NaN                NaN  \n",
              "Confirmed last week            1.144291e+11   1.512436e+10     -126415.991194  \n",
              "1 week change                  1.512436e+10   2.255407e+09       30955.291809  \n",
              "1 week % increase             -1.264160e+05   3.095529e+04         600.732146  "
            ]
          },
          "metadata": {},
          "execution_count": 21
        }
      ]
    },
    {
      "cell_type": "markdown",
      "source": [
        "Covariance indicates that there is a correlation between them except death. There is positive covariance between them i.e. If an increase in one variable results in an increase in the other variable. Whereas Recovered / 100 Cases and 1 week % increase has neagative covariance i.e. ecreases in one variable also cause a decrease in the other."
      ],
      "metadata": {
        "id": "Y1oD_LvHtVTz"
      }
    },
    {
      "cell_type": "code",
      "source": [
        "data.corr()"
      ],
      "metadata": {
        "colab": {
          "base_uri": "https://localhost:8080/",
          "height": 587
        },
        "id": "sCWPONAnmktA",
        "outputId": "bd5c80b6-b87b-462a-99ce-548af17e09d3"
      },
      "execution_count": 22,
      "outputs": [
        {
          "output_type": "execute_result",
          "data": {
            "text/html": [
              "\n",
              "  <div id=\"df-47b84a6c-c57f-4dd0-b66b-b8d2a6a2accc\">\n",
              "    <div class=\"colab-df-container\">\n",
              "      <div>\n",
              "<style scoped>\n",
              "    .dataframe tbody tr th:only-of-type {\n",
              "        vertical-align: middle;\n",
              "    }\n",
              "\n",
              "    .dataframe tbody tr th {\n",
              "        vertical-align: top;\n",
              "    }\n",
              "\n",
              "    .dataframe thead th {\n",
              "        text-align: right;\n",
              "    }\n",
              "</style>\n",
              "<table border=\"1\" class=\"dataframe\">\n",
              "  <thead>\n",
              "    <tr style=\"text-align: right;\">\n",
              "      <th></th>\n",
              "      <th>Confirmed</th>\n",
              "      <th>Deaths</th>\n",
              "      <th>Recovered</th>\n",
              "      <th>Active</th>\n",
              "      <th>New cases</th>\n",
              "      <th>New deaths</th>\n",
              "      <th>New recovered</th>\n",
              "      <th>Deaths / 100 Cases</th>\n",
              "      <th>Recovered / 100 Cases</th>\n",
              "      <th>Deaths / 100 Recovered</th>\n",
              "      <th>Confirmed last week</th>\n",
              "      <th>1 week change</th>\n",
              "      <th>1 week % increase</th>\n",
              "    </tr>\n",
              "  </thead>\n",
              "  <tbody>\n",
              "    <tr>\n",
              "      <th>Confirmed</th>\n",
              "      <td>1.000000</td>\n",
              "      <td>0.934698</td>\n",
              "      <td>0.906377</td>\n",
              "      <td>0.927018</td>\n",
              "      <td>0.909720</td>\n",
              "      <td>0.871683</td>\n",
              "      <td>0.859252</td>\n",
              "      <td>0.063550</td>\n",
              "      <td>-0.064815</td>\n",
              "      <td>0.025175</td>\n",
              "      <td>0.999127</td>\n",
              "      <td>0.954710</td>\n",
              "      <td>-0.010161</td>\n",
              "    </tr>\n",
              "    <tr>\n",
              "      <th>Deaths</th>\n",
              "      <td>0.934698</td>\n",
              "      <td>1.000000</td>\n",
              "      <td>0.832098</td>\n",
              "      <td>0.871586</td>\n",
              "      <td>0.806975</td>\n",
              "      <td>0.814161</td>\n",
              "      <td>0.765114</td>\n",
              "      <td>0.251565</td>\n",
              "      <td>-0.114529</td>\n",
              "      <td>0.169006</td>\n",
              "      <td>0.939082</td>\n",
              "      <td>0.855330</td>\n",
              "      <td>-0.034708</td>\n",
              "    </tr>\n",
              "    <tr>\n",
              "      <th>Recovered</th>\n",
              "      <td>0.906377</td>\n",
              "      <td>0.832098</td>\n",
              "      <td>1.000000</td>\n",
              "      <td>0.682103</td>\n",
              "      <td>0.818942</td>\n",
              "      <td>0.820338</td>\n",
              "      <td>0.919203</td>\n",
              "      <td>0.048438</td>\n",
              "      <td>0.026610</td>\n",
              "      <td>-0.027277</td>\n",
              "      <td>0.899312</td>\n",
              "      <td>0.910013</td>\n",
              "      <td>-0.013697</td>\n",
              "    </tr>\n",
              "    <tr>\n",
              "      <th>Active</th>\n",
              "      <td>0.927018</td>\n",
              "      <td>0.871586</td>\n",
              "      <td>0.682103</td>\n",
              "      <td>1.000000</td>\n",
              "      <td>0.851190</td>\n",
              "      <td>0.781123</td>\n",
              "      <td>0.673887</td>\n",
              "      <td>0.054380</td>\n",
              "      <td>-0.132618</td>\n",
              "      <td>0.058386</td>\n",
              "      <td>0.931459</td>\n",
              "      <td>0.847642</td>\n",
              "      <td>-0.003752</td>\n",
              "    </tr>\n",
              "    <tr>\n",
              "      <th>New cases</th>\n",
              "      <td>0.909720</td>\n",
              "      <td>0.806975</td>\n",
              "      <td>0.818942</td>\n",
              "      <td>0.851190</td>\n",
              "      <td>1.000000</td>\n",
              "      <td>0.935947</td>\n",
              "      <td>0.914765</td>\n",
              "      <td>0.020104</td>\n",
              "      <td>-0.078666</td>\n",
              "      <td>-0.011637</td>\n",
              "      <td>0.896084</td>\n",
              "      <td>0.959993</td>\n",
              "      <td>0.030791</td>\n",
              "    </tr>\n",
              "    <tr>\n",
              "      <th>New deaths</th>\n",
              "      <td>0.871683</td>\n",
              "      <td>0.814161</td>\n",
              "      <td>0.820338</td>\n",
              "      <td>0.781123</td>\n",
              "      <td>0.935947</td>\n",
              "      <td>1.000000</td>\n",
              "      <td>0.889234</td>\n",
              "      <td>0.060399</td>\n",
              "      <td>-0.062792</td>\n",
              "      <td>-0.020750</td>\n",
              "      <td>0.862118</td>\n",
              "      <td>0.894915</td>\n",
              "      <td>0.025293</td>\n",
              "    </tr>\n",
              "    <tr>\n",
              "      <th>New recovered</th>\n",
              "      <td>0.859252</td>\n",
              "      <td>0.765114</td>\n",
              "      <td>0.919203</td>\n",
              "      <td>0.673887</td>\n",
              "      <td>0.914765</td>\n",
              "      <td>0.889234</td>\n",
              "      <td>1.000000</td>\n",
              "      <td>0.017090</td>\n",
              "      <td>-0.024293</td>\n",
              "      <td>-0.023340</td>\n",
              "      <td>0.839692</td>\n",
              "      <td>0.954321</td>\n",
              "      <td>0.032662</td>\n",
              "    </tr>\n",
              "    <tr>\n",
              "      <th>Deaths / 100 Cases</th>\n",
              "      <td>0.063550</td>\n",
              "      <td>0.251565</td>\n",
              "      <td>0.048438</td>\n",
              "      <td>0.054380</td>\n",
              "      <td>0.020104</td>\n",
              "      <td>0.060399</td>\n",
              "      <td>0.017090</td>\n",
              "      <td>1.000000</td>\n",
              "      <td>-0.168920</td>\n",
              "      <td>0.334594</td>\n",
              "      <td>0.069894</td>\n",
              "      <td>0.015095</td>\n",
              "      <td>-0.134534</td>\n",
              "    </tr>\n",
              "    <tr>\n",
              "      <th>Recovered / 100 Cases</th>\n",
              "      <td>-0.064815</td>\n",
              "      <td>-0.114529</td>\n",
              "      <td>0.026610</td>\n",
              "      <td>-0.132618</td>\n",
              "      <td>-0.078666</td>\n",
              "      <td>-0.062792</td>\n",
              "      <td>-0.024293</td>\n",
              "      <td>-0.168920</td>\n",
              "      <td>1.000000</td>\n",
              "      <td>-0.295381</td>\n",
              "      <td>-0.064600</td>\n",
              "      <td>-0.063013</td>\n",
              "      <td>-0.394254</td>\n",
              "    </tr>\n",
              "    <tr>\n",
              "      <th>Deaths / 100 Recovered</th>\n",
              "      <td>0.025175</td>\n",
              "      <td>0.169006</td>\n",
              "      <td>-0.027277</td>\n",
              "      <td>0.058386</td>\n",
              "      <td>-0.011637</td>\n",
              "      <td>-0.020750</td>\n",
              "      <td>-0.023340</td>\n",
              "      <td>0.334594</td>\n",
              "      <td>-0.295381</td>\n",
              "      <td>1.000000</td>\n",
              "      <td>0.030460</td>\n",
              "      <td>-0.013763</td>\n",
              "      <td>-0.049083</td>\n",
              "    </tr>\n",
              "    <tr>\n",
              "      <th>Confirmed last week</th>\n",
              "      <td>0.999127</td>\n",
              "      <td>0.939082</td>\n",
              "      <td>0.899312</td>\n",
              "      <td>0.931459</td>\n",
              "      <td>0.896084</td>\n",
              "      <td>0.862118</td>\n",
              "      <td>0.839692</td>\n",
              "      <td>0.069894</td>\n",
              "      <td>-0.064600</td>\n",
              "      <td>0.030460</td>\n",
              "      <td>1.000000</td>\n",
              "      <td>0.941448</td>\n",
              "      <td>-0.015247</td>\n",
              "    </tr>\n",
              "    <tr>\n",
              "      <th>1 week change</th>\n",
              "      <td>0.954710</td>\n",
              "      <td>0.855330</td>\n",
              "      <td>0.910013</td>\n",
              "      <td>0.847642</td>\n",
              "      <td>0.959993</td>\n",
              "      <td>0.894915</td>\n",
              "      <td>0.954321</td>\n",
              "      <td>0.015095</td>\n",
              "      <td>-0.063013</td>\n",
              "      <td>-0.013763</td>\n",
              "      <td>0.941448</td>\n",
              "      <td>1.000000</td>\n",
              "      <td>0.026594</td>\n",
              "    </tr>\n",
              "    <tr>\n",
              "      <th>1 week % increase</th>\n",
              "      <td>-0.010161</td>\n",
              "      <td>-0.034708</td>\n",
              "      <td>-0.013697</td>\n",
              "      <td>-0.003752</td>\n",
              "      <td>0.030791</td>\n",
              "      <td>0.025293</td>\n",
              "      <td>0.032662</td>\n",
              "      <td>-0.134534</td>\n",
              "      <td>-0.394254</td>\n",
              "      <td>-0.049083</td>\n",
              "      <td>-0.015247</td>\n",
              "      <td>0.026594</td>\n",
              "      <td>1.000000</td>\n",
              "    </tr>\n",
              "  </tbody>\n",
              "</table>\n",
              "</div>\n",
              "      <button class=\"colab-df-convert\" onclick=\"convertToInteractive('df-47b84a6c-c57f-4dd0-b66b-b8d2a6a2accc')\"\n",
              "              title=\"Convert this dataframe to an interactive table.\"\n",
              "              style=\"display:none;\">\n",
              "        \n",
              "  <svg xmlns=\"http://www.w3.org/2000/svg\" height=\"24px\"viewBox=\"0 0 24 24\"\n",
              "       width=\"24px\">\n",
              "    <path d=\"M0 0h24v24H0V0z\" fill=\"none\"/>\n",
              "    <path d=\"M18.56 5.44l.94 2.06.94-2.06 2.06-.94-2.06-.94-.94-2.06-.94 2.06-2.06.94zm-11 1L8.5 8.5l.94-2.06 2.06-.94-2.06-.94L8.5 2.5l-.94 2.06-2.06.94zm10 10l.94 2.06.94-2.06 2.06-.94-2.06-.94-.94-2.06-.94 2.06-2.06.94z\"/><path d=\"M17.41 7.96l-1.37-1.37c-.4-.4-.92-.59-1.43-.59-.52 0-1.04.2-1.43.59L10.3 9.45l-7.72 7.72c-.78.78-.78 2.05 0 2.83L4 21.41c.39.39.9.59 1.41.59.51 0 1.02-.2 1.41-.59l7.78-7.78 2.81-2.81c.8-.78.8-2.07 0-2.86zM5.41 20L4 18.59l7.72-7.72 1.47 1.35L5.41 20z\"/>\n",
              "  </svg>\n",
              "      </button>\n",
              "      \n",
              "  <style>\n",
              "    .colab-df-container {\n",
              "      display:flex;\n",
              "      flex-wrap:wrap;\n",
              "      gap: 12px;\n",
              "    }\n",
              "\n",
              "    .colab-df-convert {\n",
              "      background-color: #E8F0FE;\n",
              "      border: none;\n",
              "      border-radius: 50%;\n",
              "      cursor: pointer;\n",
              "      display: none;\n",
              "      fill: #1967D2;\n",
              "      height: 32px;\n",
              "      padding: 0 0 0 0;\n",
              "      width: 32px;\n",
              "    }\n",
              "\n",
              "    .colab-df-convert:hover {\n",
              "      background-color: #E2EBFA;\n",
              "      box-shadow: 0px 1px 2px rgba(60, 64, 67, 0.3), 0px 1px 3px 1px rgba(60, 64, 67, 0.15);\n",
              "      fill: #174EA6;\n",
              "    }\n",
              "\n",
              "    [theme=dark] .colab-df-convert {\n",
              "      background-color: #3B4455;\n",
              "      fill: #D2E3FC;\n",
              "    }\n",
              "\n",
              "    [theme=dark] .colab-df-convert:hover {\n",
              "      background-color: #434B5C;\n",
              "      box-shadow: 0px 1px 3px 1px rgba(0, 0, 0, 0.15);\n",
              "      filter: drop-shadow(0px 1px 2px rgba(0, 0, 0, 0.3));\n",
              "      fill: #FFFFFF;\n",
              "    }\n",
              "  </style>\n",
              "\n",
              "      <script>\n",
              "        const buttonEl =\n",
              "          document.querySelector('#df-47b84a6c-c57f-4dd0-b66b-b8d2a6a2accc button.colab-df-convert');\n",
              "        buttonEl.style.display =\n",
              "          google.colab.kernel.accessAllowed ? 'block' : 'none';\n",
              "\n",
              "        async function convertToInteractive(key) {\n",
              "          const element = document.querySelector('#df-47b84a6c-c57f-4dd0-b66b-b8d2a6a2accc');\n",
              "          const dataTable =\n",
              "            await google.colab.kernel.invokeFunction('convertToInteractive',\n",
              "                                                     [key], {});\n",
              "          if (!dataTable) return;\n",
              "\n",
              "          const docLinkHtml = 'Like what you see? Visit the ' +\n",
              "            '<a target=\"_blank\" href=https://colab.research.google.com/notebooks/data_table.ipynb>data table notebook</a>'\n",
              "            + ' to learn more about interactive tables.';\n",
              "          element.innerHTML = '';\n",
              "          dataTable['output_type'] = 'display_data';\n",
              "          await google.colab.output.renderOutput(dataTable, element);\n",
              "          const docLink = document.createElement('div');\n",
              "          docLink.innerHTML = docLinkHtml;\n",
              "          element.appendChild(docLink);\n",
              "        }\n",
              "      </script>\n",
              "    </div>\n",
              "  </div>\n",
              "  "
            ],
            "text/plain": [
              "                        Confirmed    Deaths  Recovered    Active  New cases  \\\n",
              "Confirmed                1.000000  0.934698   0.906377  0.927018   0.909720   \n",
              "Deaths                   0.934698  1.000000   0.832098  0.871586   0.806975   \n",
              "Recovered                0.906377  0.832098   1.000000  0.682103   0.818942   \n",
              "Active                   0.927018  0.871586   0.682103  1.000000   0.851190   \n",
              "New cases                0.909720  0.806975   0.818942  0.851190   1.000000   \n",
              "New deaths               0.871683  0.814161   0.820338  0.781123   0.935947   \n",
              "New recovered            0.859252  0.765114   0.919203  0.673887   0.914765   \n",
              "Deaths / 100 Cases       0.063550  0.251565   0.048438  0.054380   0.020104   \n",
              "Recovered / 100 Cases   -0.064815 -0.114529   0.026610 -0.132618  -0.078666   \n",
              "Deaths / 100 Recovered   0.025175  0.169006  -0.027277  0.058386  -0.011637   \n",
              "Confirmed last week      0.999127  0.939082   0.899312  0.931459   0.896084   \n",
              "1 week change            0.954710  0.855330   0.910013  0.847642   0.959993   \n",
              "1 week % increase       -0.010161 -0.034708  -0.013697 -0.003752   0.030791   \n",
              "\n",
              "                        New deaths  New recovered  Deaths / 100 Cases  \\\n",
              "Confirmed                 0.871683       0.859252            0.063550   \n",
              "Deaths                    0.814161       0.765114            0.251565   \n",
              "Recovered                 0.820338       0.919203            0.048438   \n",
              "Active                    0.781123       0.673887            0.054380   \n",
              "New cases                 0.935947       0.914765            0.020104   \n",
              "New deaths                1.000000       0.889234            0.060399   \n",
              "New recovered             0.889234       1.000000            0.017090   \n",
              "Deaths / 100 Cases        0.060399       0.017090            1.000000   \n",
              "Recovered / 100 Cases    -0.062792      -0.024293           -0.168920   \n",
              "Deaths / 100 Recovered   -0.020750      -0.023340            0.334594   \n",
              "Confirmed last week       0.862118       0.839692            0.069894   \n",
              "1 week change             0.894915       0.954321            0.015095   \n",
              "1 week % increase         0.025293       0.032662           -0.134534   \n",
              "\n",
              "                        Recovered / 100 Cases  Deaths / 100 Recovered  \\\n",
              "Confirmed                           -0.064815                0.025175   \n",
              "Deaths                              -0.114529                0.169006   \n",
              "Recovered                            0.026610               -0.027277   \n",
              "Active                              -0.132618                0.058386   \n",
              "New cases                           -0.078666               -0.011637   \n",
              "New deaths                          -0.062792               -0.020750   \n",
              "New recovered                       -0.024293               -0.023340   \n",
              "Deaths / 100 Cases                  -0.168920                0.334594   \n",
              "Recovered / 100 Cases                1.000000               -0.295381   \n",
              "Deaths / 100 Recovered              -0.295381                1.000000   \n",
              "Confirmed last week                 -0.064600                0.030460   \n",
              "1 week change                       -0.063013               -0.013763   \n",
              "1 week % increase                   -0.394254               -0.049083   \n",
              "\n",
              "                        Confirmed last week  1 week change  1 week % increase  \n",
              "Confirmed                          0.999127       0.954710          -0.010161  \n",
              "Deaths                             0.939082       0.855330          -0.034708  \n",
              "Recovered                          0.899312       0.910013          -0.013697  \n",
              "Active                             0.931459       0.847642          -0.003752  \n",
              "New cases                          0.896084       0.959993           0.030791  \n",
              "New deaths                         0.862118       0.894915           0.025293  \n",
              "New recovered                      0.839692       0.954321           0.032662  \n",
              "Deaths / 100 Cases                 0.069894       0.015095          -0.134534  \n",
              "Recovered / 100 Cases             -0.064600      -0.063013          -0.394254  \n",
              "Deaths / 100 Recovered             0.030460      -0.013763          -0.049083  \n",
              "Confirmed last week                1.000000       0.941448          -0.015247  \n",
              "1 week change                      0.941448       1.000000           0.026594  \n",
              "1 week % increase                 -0.015247       0.026594           1.000000  "
            ]
          },
          "metadata": {},
          "execution_count": 22
        }
      ]
    },
    {
      "cell_type": "markdown",
      "source": [
        "Correlation is a statistical measure that expresses the extent to which two variables are linearly related (meaning they change together at a constant rate). "
      ],
      "metadata": {
        "id": "TV8H4Z5yRhsh"
      }
    },
    {
      "cell_type": "code",
      "source": [
        "s=data['Confirmed'].std()/(len(data))**1/2\n",
        "s"
      ],
      "metadata": {
        "colab": {
          "base_uri": "https://localhost:8080/"
        },
        "id": "ADTGv42MnwkC",
        "outputId": "19ba0f12-cf24-49de-955e-e9e31b0fbbea"
      },
      "execution_count": 23,
      "outputs": [
        {
          "output_type": "execute_result",
          "data": {
            "text/plain": [
              "1024.9162134508435"
            ]
          },
          "metadata": {},
          "execution_count": 23
        }
      ]
    },
    {
      "cell_type": "markdown",
      "source": [
        "The standard error tells you how much the sample means would vary if you were to repeat a study using new samples from within a single population. "
      ],
      "metadata": {
        "id": "EoN6ht4jRpUy"
      }
    },
    {
      "cell_type": "code",
      "source": [
        "mean = data[\"Confirmed\"].mean()\n",
        "std = data[\"Confirmed\"].std()"
      ],
      "metadata": {
        "id": "Jzb1tpCnpGK2"
      },
      "execution_count": 24,
      "outputs": []
    },
    {
      "cell_type": "code",
      "source": [
        "from scipy.stats import ttest_1samp"
      ],
      "metadata": {
        "id": "zrYmaueapTrC"
      },
      "execution_count": 25,
      "outputs": []
    },
    {
      "cell_type": "code",
      "source": [
        "tset, pval = ttest_1samp(data['Confirmed'], 1000)\n",
        "print(\"p-values\",pval)\n",
        "\n",
        "if pval < 0.05:    # alpha value is 0.05 or 5%\n",
        "   print(\" we are rejecting null hypothesis\")\n",
        "else:\n",
        "  print(\"we are accepting null hypothesis\")\n"
      ],
      "metadata": {
        "id": "a_TE0y2-vmPn",
        "colab": {
          "base_uri": "https://localhost:8080/"
        },
        "outputId": "73703179-32d6-4a94-b1c0-68e007146a8b"
      },
      "execution_count": 26,
      "outputs": [
        {
          "output_type": "stream",
          "name": "stdout",
          "text": [
            "p-values 0.002176705169686828\n",
            " we are rejecting null hypothesis\n"
          ]
        }
      ]
    },
    {
      "cell_type": "code",
      "source": [
        "tset, pval = ttest_1samp(data['Confirmed'], 88000)\n",
        "print(\"p-values\",pval)\n",
        "\n",
        "if pval < 0.05:    # alpha value is 0.05 or 5%\n",
        "   print(\" we are rejecting null hypothesis\")\n",
        "else:\n",
        "  print(\"we are accepting null hypothesis\")"
      ],
      "metadata": {
        "colab": {
          "base_uri": "https://localhost:8080/"
        },
        "id": "Rhyo8cWUwUiN",
        "outputId": "3317d731-f728-4da7-ecda-9b11d6a8129d"
      },
      "execution_count": 27,
      "outputs": [
        {
          "output_type": "stream",
          "name": "stdout",
          "text": [
            "p-values 0.9962780195570828\n",
            "we are accepting null hypothesis\n"
          ]
        }
      ]
    },
    {
      "cell_type": "code",
      "source": [
        ""
      ],
      "metadata": {
        "id": "SmrfLJ93V3BC"
      },
      "execution_count": 27,
      "outputs": []
    },
    {
      "cell_type": "code",
      "source": [
        "import pandas as pd\n",
        "# load data file\n",
        "df = pd.read_csv('country_wise_latest.csv')\n",
        "# reshape the d dataframe suitable for statsmodels package \n",
        "df_melt = pd.melt(df.reset_index(), id_vars=['index'], value_vars=['Confirmed', 'Deaths', 'Recovered', 'Active'])\n",
        "# replace column names\n",
        "df_melt.columns = ['index', 'treatments', 'value']\n",
        "# generate a boxplot to see the data distribution by treatments. Using boxplot, we can \n",
        "# easily detect the differences between different treatments\n",
        "import matplotlib.pyplot as plt\n",
        "import seaborn as sns\n",
        "ax = sns.boxplot(x='treatments', y='value', data=df_melt, color='#99c2a2')\n",
        "ax = sns.swarmplot(x=\"treatments\", y=\"value\", data=df_melt, color='#7d0013')\n",
        "plt.show()"
      ],
      "metadata": {
        "colab": {
          "base_uri": "https://localhost:8080/",
          "height": 429
        },
        "id": "J-U2SF85Td-6",
        "outputId": "96fffacc-5a83-40bf-d6be-4d16f2c0721a"
      },
      "execution_count": 28,
      "outputs": [
        {
          "output_type": "stream",
          "name": "stderr",
          "text": [
            "/usr/local/lib/python3.7/dist-packages/seaborn/categorical.py:1296: UserWarning: 80.2% of the points cannot be placed; you may want to decrease the size of the markers or use stripplot.\n",
            "  warnings.warn(msg, UserWarning)\n",
            "/usr/local/lib/python3.7/dist-packages/seaborn/categorical.py:1296: UserWarning: 92.5% of the points cannot be placed; you may want to decrease the size of the markers or use stripplot.\n",
            "  warnings.warn(msg, UserWarning)\n",
            "/usr/local/lib/python3.7/dist-packages/seaborn/categorical.py:1296: UserWarning: 83.4% of the points cannot be placed; you may want to decrease the size of the markers or use stripplot.\n",
            "  warnings.warn(msg, UserWarning)\n",
            "/usr/local/lib/python3.7/dist-packages/seaborn/categorical.py:1296: UserWarning: 86.6% of the points cannot be placed; you may want to decrease the size of the markers or use stripplot.\n",
            "  warnings.warn(msg, UserWarning)\n"
          ]
        },
        {
          "output_type": "display_data",
          "data": {
            "image/png": "[encoded data removed]",
            "text/plain": [
              "<Figure size 432x288 with 1 Axes>"
            ]
          },
          "metadata": {
            "needs_background": "light"
          }
        }
      ]
    },
    {
      "cell_type": "code",
      "source": [
        "import scipy.stats as stats\n",
        "# stats f_oneway functions takes the groups as input and returns ANOVA F and p value\n",
        "fvalue, pvalue = stats.f_oneway(df['Confirmed'], df['Deaths'], df['Recovered'], df['Active'])\n",
        "print(fvalue, pvalue)\n",
        "# 17.492810457516338 2.639241146210922e-05\n",
        "\n",
        "# get ANOVA table as R like output\n",
        "import statsmodels.api as sm\n",
        "from statsmodels.formula.api import ols\n",
        "\n",
        "# Ordinary Least Squares (OLS) model\n",
        "model = ols('value ~ C(treatments)', data=df_melt).fit()\n",
        "anova_table = sm.stats.anova_lm(model, typ=2)\n",
        "anova_table\n",
        "# # output (ANOVA F and p value)\n",
        "#                 sum_sq    df         F    PR(>F)\n",
        "# C(treatments)  3010.95   3.0  17.49281  0.000026\n",
        "# Residual        918.00  16.0       NaN       NaN\n",
        "\n"
      ],
      "metadata": {
        "colab": {
          "base_uri": "https://localhost:8080/",
          "height": 164
        },
        "id": "UZPNJZNBUWdk",
        "outputId": "b345a875-60af-499e-e0bc-18277fb6eef1"
      },
      "execution_count": 29,
      "outputs": [
        {
          "output_type": "stream",
          "name": "stderr",
          "text": [
            "/usr/local/lib/python3.7/dist-packages/statsmodels/tools/_testing.py:19: FutureWarning: pandas.util.testing is deprecated. Use the functions in the public API at pandas.testing instead.\n",
            "  import pandas.util.testing as tm\n"
          ]
        },
        {
          "output_type": "stream",
          "name": "stdout",
          "text": [
            "4.066619894465031 0.0070188441466878665\n"
          ]
        },
        {
          "output_type": "execute_result",
          "data": {
            "text/html": [
              "\n",
              "  <div id=\"df-69e8f4fc-98c9-4295-ae37-7f2c4748c82d\">\n",
              "    <div class=\"colab-df-container\">\n",
              "      <div>\n",
              "<style scoped>\n",
              "    .dataframe tbody tr th:only-of-type {\n",
              "        vertical-align: middle;\n",
              "    }\n",
              "\n",
              "    .dataframe tbody tr th {\n",
              "        vertical-align: top;\n",
              "    }\n",
              "\n",
              "    .dataframe thead th {\n",
              "        text-align: right;\n",
              "    }\n",
              "</style>\n",
              "<table border=\"1\" class=\"dataframe\">\n",
              "  <thead>\n",
              "    <tr style=\"text-align: right;\">\n",
              "      <th></th>\n",
              "      <th>sum_sq</th>\n",
              "      <th>df</th>\n",
              "      <th>F</th>\n",
              "      <th>PR(&gt;F)</th>\n",
              "    </tr>\n",
              "  </thead>\n",
              "  <tbody>\n",
              "    <tr>\n",
              "      <th>C(treatments)</th>\n",
              "      <td>6.978674e+11</td>\n",
              "      <td>3.0</td>\n",
              "      <td>4.06662</td>\n",
              "      <td>0.007019</td>\n",
              "    </tr>\n",
              "    <tr>\n",
              "      <th>Residual</th>\n",
              "      <td>4.255896e+13</td>\n",
              "      <td>744.0</td>\n",
              "      <td>NaN</td>\n",
              "      <td>NaN</td>\n",
              "    </tr>\n",
              "  </tbody>\n",
              "</table>\n",
              "</div>\n",
              "      <button class=\"colab-df-convert\" onclick=\"convertToInteractive('df-69e8f4fc-98c9-4295-ae37-7f2c4748c82d')\"\n",
              "              title=\"Convert this dataframe to an interactive table.\"\n",
              "              style=\"display:none;\">\n",
              "        \n",
              "  <svg xmlns=\"http://www.w3.org/2000/svg\" height=\"24px\"viewBox=\"0 0 24 24\"\n",
              "       width=\"24px\">\n",
              "    <path d=\"M0 0h24v24H0V0z\" fill=\"none\"/>\n",
              "    <path d=\"M18.56 5.44l.94 2.06.94-2.06 2.06-.94-2.06-.94-.94-2.06-.94 2.06-2.06.94zm-11 1L8.5 8.5l.94-2.06 2.06-.94-2.06-.94L8.5 2.5l-.94 2.06-2.06.94zm10 10l.94 2.06.94-2.06 2.06-.94-2.06-.94-.94-2.06-.94 2.06-2.06.94z\"/><path d=\"M17.41 7.96l-1.37-1.37c-.4-.4-.92-.59-1.43-.59-.52 0-1.04.2-1.43.59L10.3 9.45l-7.72 7.72c-.78.78-.78 2.05 0 2.83L4 21.41c.39.39.9.59 1.41.59.51 0 1.02-.2 1.41-.59l7.78-7.78 2.81-2.81c.8-.78.8-2.07 0-2.86zM5.41 20L4 18.59l7.72-7.72 1.47 1.35L5.41 20z\"/>\n",
              "  </svg>\n",
              "      </button>\n",
              "      \n",
              "  <style>\n",
              "    .colab-df-container {\n",
              "      display:flex;\n",
              "      flex-wrap:wrap;\n",
              "      gap: 12px;\n",
              "    }\n",
              "\n",
              "    .colab-df-convert {\n",
              "      background-color: #E8F0FE;\n",
              "      border: none;\n",
              "      border-radius: 50%;\n",
              "      cursor: pointer;\n",
              "      display: none;\n",
              "      fill: #1967D2;\n",
              "      height: 32px;\n",
              "      padding: 0 0 0 0;\n",
              "      width: 32px;\n",
              "    }\n",
              "\n",
              "    .colab-df-convert:hover {\n",
              "      background-color: #E2EBFA;\n",
              "      box-shadow: 0px 1px 2px rgba(60, 64, 67, 0.3), 0px 1px 3px 1px rgba(60, 64, 67, 0.15);\n",
              "      fill: #174EA6;\n",
              "    }\n",
              "\n",
              "    [theme=dark] .colab-df-convert {\n",
              "      background-color: #3B4455;\n",
              "      fill: #D2E3FC;\n",
              "    }\n",
              "\n",
              "    [theme=dark] .colab-df-convert:hover {\n",
              "      background-color: #434B5C;\n",
              "      box-shadow: 0px 1px 3px 1px rgba(0, 0, 0, 0.15);\n",
              "      filter: drop-shadow(0px 1px 2px rgba(0, 0, 0, 0.3));\n",
              "      fill: #FFFFFF;\n",
              "    }\n",
              "  </style>\n",
              "\n",
              "      <script>\n",
              "        const buttonEl =\n",
              "          document.querySelector('#df-69e8f4fc-98c9-4295-ae37-7f2c4748c82d button.colab-df-convert');\n",
              "        buttonEl.style.display =\n",
              "          google.colab.kernel.accessAllowed ? 'block' : 'none';\n",
              "\n",
              "        async function convertToInteractive(key) {\n",
              "          const element = document.querySelector('#df-69e8f4fc-98c9-4295-ae37-7f2c4748c82d');\n",
              "          const dataTable =\n",
              "            await google.colab.kernel.invokeFunction('convertToInteractive',\n",
              "                                                     [key], {});\n",
              "          if (!dataTable) return;\n",
              "\n",
              "          const docLinkHtml = 'Like what you see? Visit the ' +\n",
              "            '<a target=\"_blank\" href=https://colab.research.google.com/notebooks/data_table.ipynb>data table notebook</a>'\n",
              "            + ' to learn more about interactive tables.';\n",
              "          element.innerHTML = '';\n",
              "          dataTable['output_type'] = 'display_data';\n",
              "          await google.colab.output.renderOutput(dataTable, element);\n",
              "          const docLink = document.createElement('div');\n",
              "          docLink.innerHTML = docLinkHtml;\n",
              "          element.appendChild(docLink);\n",
              "        }\n",
              "      </script>\n",
              "    </div>\n",
              "  </div>\n",
              "  "
            ],
            "text/plain": [
              "                     sum_sq     df        F    PR(>F)\n",
              "C(treatments)  6.978674e+11    3.0  4.06662  0.007019\n",
              "Residual       4.255896e+13  744.0      NaN       NaN"
            ]
          },
          "metadata": {},
          "execution_count": 29
        }
      ]
    },
    {
      "cell_type": "code",
      "source": [
        "!pip install bioinfokit"
      ],
      "metadata": {
        "colab": {
          "base_uri": "https://localhost:8080/"
        },
        "id": "aQi3AkpsVV6R",
        "outputId": "29d1719a-18d5-4b8c-c9ba-da1b51bd99f3"
      },
      "execution_count": 30,
      "outputs": [
        {
          "output_type": "stream",
          "name": "stdout",
          "text": [
            "Requirement already satisfied: bioinfokit in /usr/local/lib/python3.7/dist-packages (2.0.8)\n",
            "Requirement already satisfied: matplotlib-venn in /usr/local/lib/python3.7/dist-packages (from bioinfokit) (0.11.6)\n",
            "Requirement already satisfied: seaborn in /usr/local/lib/python3.7/dist-packages (from bioinfokit) (0.11.2)\n",
            "Requirement already satisfied: scipy in /usr/local/lib/python3.7/dist-packages (from bioinfokit) (1.4.1)\n",
            "Requirement already satisfied: numpy in /usr/local/lib/python3.7/dist-packages (from bioinfokit) (1.21.5)\n",
            "Requirement already satisfied: adjustText in /usr/local/lib/python3.7/dist-packages (from bioinfokit) (0.7.3)\n",
            "Requirement already satisfied: pandas in /usr/local/lib/python3.7/dist-packages (from bioinfokit) (1.3.5)\n",
            "Requirement already satisfied: matplotlib in /usr/local/lib/python3.7/dist-packages (from bioinfokit) (3.2.2)\n",
            "Requirement already satisfied: statsmodels in /usr/local/lib/python3.7/dist-packages (from bioinfokit) (0.10.2)\n",
            "Requirement already satisfied: textwrap3 in /usr/local/lib/python3.7/dist-packages (from bioinfokit) (0.9.2)\n",
            "Requirement already satisfied: scikit-learn in /usr/local/lib/python3.7/dist-packages (from bioinfokit) (1.0.2)\n",
            "Requirement already satisfied: tabulate in /usr/local/lib/python3.7/dist-packages (from bioinfokit) (0.8.9)\n",
            "Requirement already satisfied: cycler>=0.10 in /usr/local/lib/python3.7/dist-packages (from matplotlib->bioinfokit) (0.11.0)\n",
            "Requirement already satisfied: kiwisolver>=1.0.1 in /usr/local/lib/python3.7/dist-packages (from matplotlib->bioinfokit) (1.3.2)\n",
            "Requirement already satisfied: pyparsing!=2.0.4,!=2.1.2,!=2.1.6,>=2.0.1 in /usr/local/lib/python3.7/dist-packages (from matplotlib->bioinfokit) (3.0.7)\n",
            "Requirement already satisfied: python-dateutil>=2.1 in /usr/local/lib/python3.7/dist-packages (from matplotlib->bioinfokit) (2.8.2)\n",
            "Requirement already satisfied: six>=1.5 in /usr/local/lib/python3.7/dist-packages (from python-dateutil>=2.1->matplotlib->bioinfokit) (1.15.0)\n",
            "Requirement already satisfied: pytz>=2017.3 in /usr/local/lib/python3.7/dist-packages (from pandas->bioinfokit) (2018.9)\n",
            "Requirement already satisfied: joblib>=0.11 in /usr/local/lib/python3.7/dist-packages (from scikit-learn->bioinfokit) (1.1.0)\n",
            "Requirement already satisfied: threadpoolctl>=2.0.0 in /usr/local/lib/python3.7/dist-packages (from scikit-learn->bioinfokit) (3.1.0)\n",
            "Requirement already satisfied: patsy>=0.4.0 in /usr/local/lib/python3.7/dist-packages (from statsmodels->bioinfokit) (0.5.2)\n"
          ]
        }
      ]
    },
    {
      "cell_type": "code",
      "source": [
        "from bioinfokit.analys import stat"
      ],
      "metadata": {
        "id": "j72iW93IVqGh"
      },
      "execution_count": 31,
      "outputs": []
    },
    {
      "cell_type": "code",
      "source": [
        "# ANOVA table using bioinfokit v1.0.3 or later (it uses wrapper script for anova_lm)\n",
        "res = stat()\n",
        "res.anova_stat(df=df_melt, res_var='value', anova_model='value ~ C(treatments)')\n",
        "res.anova_summary\n",
        "# # output (ANOVA F and p value)\n",
        "#                  df   sum_sq   mean_sq         F    PR(>F)\n",
        "# C(treatments)   3.0  3010.95  1003.650  17.49281  0.000026\n",
        "# Residual       16.0   918.00    57.375       NaN       NaN\n",
        "\n",
        "# note: if the data is balanced (equal sample size for each group), Type 1, 2, and 3 sums of squares\n",
        "# (typ parameter) will produce similar results."
      ],
      "metadata": {
        "colab": {
          "base_uri": "https://localhost:8080/",
          "height": 112
        },
        "id": "8o_r2t8MVTyk",
        "outputId": "8ff50955-7ab1-4b2c-e830-ba11cec4df78"
      },
      "execution_count": 32,
      "outputs": [
        {
          "output_type": "execute_result",
          "data": {
            "text/html": [
              "\n",
              "  <div id=\"df-bf2b01b4-92c6-4919-87cb-d87b3de884e3\">\n",
              "    <div class=\"colab-df-container\">\n",
              "      <div>\n",
              "<style scoped>\n",
              "    .dataframe tbody tr th:only-of-type {\n",
              "        vertical-align: middle;\n",
              "    }\n",
              "\n",
              "    .dataframe tbody tr th {\n",
              "        vertical-align: top;\n",
              "    }\n",
              "\n",
              "    .dataframe thead th {\n",
              "        text-align: right;\n",
              "    }\n",
              "</style>\n",
              "<table border=\"1\" class=\"dataframe\">\n",
              "  <thead>\n",
              "    <tr style=\"text-align: right;\">\n",
              "      <th></th>\n",
              "      <th>df</th>\n",
              "      <th>sum_sq</th>\n",
              "      <th>mean_sq</th>\n",
              "      <th>F</th>\n",
              "      <th>PR(&gt;F)</th>\n",
              "    </tr>\n",
              "  </thead>\n",
              "  <tbody>\n",
              "    <tr>\n",
              "      <th>C(treatments)</th>\n",
              "      <td>3.0</td>\n",
              "      <td>6.978674e+11</td>\n",
              "      <td>2.326225e+11</td>\n",
              "      <td>4.06662</td>\n",
              "      <td>0.007019</td>\n",
              "    </tr>\n",
              "    <tr>\n",
              "      <th>Residual</th>\n",
              "      <td>744.0</td>\n",
              "      <td>4.255896e+13</td>\n",
              "      <td>5.720290e+10</td>\n",
              "      <td>NaN</td>\n",
              "      <td>NaN</td>\n",
              "    </tr>\n",
              "  </tbody>\n",
              "</table>\n",
              "</div>\n",
              "      <button class=\"colab-df-convert\" onclick=\"convertToInteractive('df-bf2b01b4-92c6-4919-87cb-d87b3de884e3')\"\n",
              "              title=\"Convert this dataframe to an interactive table.\"\n",
              "              style=\"display:none;\">\n",
              "        \n",
              "  <svg xmlns=\"http://www.w3.org/2000/svg\" height=\"24px\"viewBox=\"0 0 24 24\"\n",
              "       width=\"24px\">\n",
              "    <path d=\"M0 0h24v24H0V0z\" fill=\"none\"/>\n",
              "    <path d=\"M18.56 5.44l.94 2.06.94-2.06 2.06-.94-2.06-.94-.94-2.06-.94 2.06-2.06.94zm-11 1L8.5 8.5l.94-2.06 2.06-.94-2.06-.94L8.5 2.5l-.94 2.06-2.06.94zm10 10l.94 2.06.94-2.06 2.06-.94-2.06-.94-.94-2.06-.94 2.06-2.06.94z\"/><path d=\"M17.41 7.96l-1.37-1.37c-.4-.4-.92-.59-1.43-.59-.52 0-1.04.2-1.43.59L10.3 9.45l-7.72 7.72c-.78.78-.78 2.05 0 2.83L4 21.41c.39.39.9.59 1.41.59.51 0 1.02-.2 1.41-.59l7.78-7.78 2.81-2.81c.8-.78.8-2.07 0-2.86zM5.41 20L4 18.59l7.72-7.72 1.47 1.35L5.41 20z\"/>\n",
              "  </svg>\n",
              "      </button>\n",
              "      \n",
              "  <style>\n",
              "    .colab-df-container {\n",
              "      display:flex;\n",
              "      flex-wrap:wrap;\n",
              "      gap: 12px;\n",
              "    }\n",
              "\n",
              "    .colab-df-convert {\n",
              "      background-color: #E8F0FE;\n",
              "      border: none;\n",
              "      border-radius: 50%;\n",
              "      cursor: pointer;\n",
              "      display: none;\n",
              "      fill: #1967D2;\n",
              "      height: 32px;\n",
              "      padding: 0 0 0 0;\n",
              "      width: 32px;\n",
              "    }\n",
              "\n",
              "    .colab-df-convert:hover {\n",
              "      background-color: #E2EBFA;\n",
              "      box-shadow: 0px 1px 2px rgba(60, 64, 67, 0.3), 0px 1px 3px 1px rgba(60, 64, 67, 0.15);\n",
              "      fill: #174EA6;\n",
              "    }\n",
              "\n",
              "    [theme=dark] .colab-df-convert {\n",
              "      background-color: #3B4455;\n",
              "      fill: #D2E3FC;\n",
              "    }\n",
              "\n",
              "    [theme=dark] .colab-df-convert:hover {\n",
              "      background-color: #434B5C;\n",
              "      box-shadow: 0px 1px 3px 1px rgba(0, 0, 0, 0.15);\n",
              "      filter: drop-shadow(0px 1px 2px rgba(0, 0, 0, 0.3));\n",
              "      fill: #FFFFFF;\n",
              "    }\n",
              "  </style>\n",
              "\n",
              "      <script>\n",
              "        const buttonEl =\n",
              "          document.querySelector('#df-bf2b01b4-92c6-4919-87cb-d87b3de884e3 button.colab-df-convert');\n",
              "        buttonEl.style.display =\n",
              "          google.colab.kernel.accessAllowed ? 'block' : 'none';\n",
              "\n",
              "        async function convertToInteractive(key) {\n",
              "          const element = document.querySelector('#df-bf2b01b4-92c6-4919-87cb-d87b3de884e3');\n",
              "          const dataTable =\n",
              "            await google.colab.kernel.invokeFunction('convertToInteractive',\n",
              "                                                     [key], {});\n",
              "          if (!dataTable) return;\n",
              "\n",
              "          const docLinkHtml = 'Like what you see? Visit the ' +\n",
              "            '<a target=\"_blank\" href=https://colab.research.google.com/notebooks/data_table.ipynb>data table notebook</a>'\n",
              "            + ' to learn more about interactive tables.';\n",
              "          element.innerHTML = '';\n",
              "          dataTable['output_type'] = 'display_data';\n",
              "          await google.colab.output.renderOutput(dataTable, element);\n",
              "          const docLink = document.createElement('div');\n",
              "          docLink.innerHTML = docLinkHtml;\n",
              "          element.appendChild(docLink);\n",
              "        }\n",
              "      </script>\n",
              "    </div>\n",
              "  </div>\n",
              "  "
            ],
            "text/plain": [
              "                  df        sum_sq       mean_sq        F    PR(>F)\n",
              "C(treatments)    3.0  6.978674e+11  2.326225e+11  4.06662  0.007019\n",
              "Residual       744.0  4.255896e+13  5.720290e+10      NaN       NaN"
            ]
          },
          "metadata": {},
          "execution_count": 32
        }
      ]
    },
    {
      "cell_type": "code",
      "source": [
        ""
      ],
      "metadata": {
        "id": "hnz0DgptV0cx"
      },
      "execution_count": 32,
      "outputs": []
    },
    {
      "cell_type": "markdown",
      "source": [
        "**Conclusion**"
      ],
      "metadata": {
        "id": "6PPk03dzr478"
      }
    },
    {
      "cell_type": "markdown",
      "source": [
        "Latest country level no. of covid cases in world which contain Country Name, Confirmed Cases, Recovered Cases, Deaths,Active Cases, etc.\n",
        "\n",
        "*   Around 4% of people die due to covid-19 who have tested covid-19 positive.\n",
        "\n",
        "*   57.5% of people recovered from covid-19 who have tested covid-19 positive. \n",
        "\n",
        "*   Maximum number of people recovered is 19.50% which is from Brazil Country.\n",
        "\n",
        "*   Mean is the average of the values. Here, the result tells that the total confirmed cases, deaths, active cases in India is more than the average. Also, Recovered cases are less.\n",
        "\n",
        "*   Here, the SD is high which indicates data are more spread out. \n",
        "\n",
        "*   The first quartile or Q1 is the value in the data set such that 25% of the data points are less than 1114 and 75% of the data set is greater than 1114. Similarly, for Q2 it is 5059, Q3: 40460, and Q4: 131.\n",
        "\n",
        "*   Covariance indicates that there is a correlation between them except death.\n",
        " \n",
        "\n",
        "*   There is positive covariance between them i.e. If an increase in one variable results in an increase in the other variable. Whereas Recovered / 100 Cases and 1 week % increase has neagative covariance i.e. ecreases in one variable also cause a decrease in the other.\n",
        "\n",
        "\n",
        "The smaller the p-value, the stronger the evidence that you should reject the null hypothesis. A p-value less than 0.05 (typically ≤ 0.05) is statistically significant. It indicates strong evidence against the null hypothesis, as there is less than a 5% probability the null is correct (and the results are random).\n",
        "\n",
        "\n",
        "\n",
        "\n"
      ],
      "metadata": {
        "id": "ZbkFyelWr8go"
      }
    }
  ]
}